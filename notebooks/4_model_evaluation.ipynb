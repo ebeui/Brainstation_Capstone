{
 "cells": [
  {
   "cell_type": "markdown",
   "id": "662b64c4",
   "metadata": {},
   "source": [
    "## Model Evaluation \n",
    "\n",
    "**Name**: Diane Lu\n",
    "\n",
    "**Contact**: dianengalu@gmail.com\n",
    "\n",
    "**Date**: 07/31/2023"
   ]
  },
  {
   "cell_type": "markdown",
   "id": "62c1ec3b",
   "metadata": {},
   "source": [
    "### Table of Contents \n",
    "\n",
    "1. "
   ]
  },
  {
   "cell_type": "markdown",
   "id": "103da565",
   "metadata": {},
   "source": []
  },
  {
   "cell_type": "code",
   "execution_count": null,
   "id": "2193927a",
   "metadata": {
    "vscode": {
     "languageId": "plaintext"
    }
   },
   "outputs": [],
   "source": []
  },
  {
   "cell_type": "code",
   "execution_count": null,
   "id": "4adee201",
   "metadata": {
    "vscode": {
     "languageId": "plaintext"
    }
   },
   "outputs": [],
   "source": []
  },
  {
   "cell_type": "code",
   "execution_count": null,
   "id": "56442644",
   "metadata": {
    "vscode": {
     "languageId": "plaintext"
    }
   },
   "outputs": [],
   "source": []
  },
  {
   "cell_type": "code",
   "execution_count": null,
   "id": "c7f628e4",
   "metadata": {
    "vscode": {
     "languageId": "plaintext"
    }
   },
   "outputs": [],
   "source": []
  }
 ],
 "metadata": {
  "language_info": {
   "name": "python"
  }
 },
 "nbformat": 4,
 "nbformat_minor": 5
}
