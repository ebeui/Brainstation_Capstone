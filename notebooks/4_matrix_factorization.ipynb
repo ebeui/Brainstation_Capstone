{
 "cells": [
  {
   "cell_type": "markdown",
   "metadata": {},
   "source": [
    "## Matrix Factorization Model\n",
    "\n",
    "**Name**: Diane Lu\n",
    "\n",
    "**Contact**: dianengalu@gmail.com\n",
    "\n",
    "**Date**: 07/31/2023"
   ]
  },
  {
   "cell_type": "markdown",
   "metadata": {},
   "source": [
    "### Table of Contents \n",
    "\n",
    "1. [Introduction](#intro)\n",
    "2. [Model Dataset](#model)\n",
    "3. [FunkSVD Item-Based Recommender System with Scikit Surprise](#funksvd)\n",
    "4. [Hyperparameter Tuning FunkSVD Item-Based Recommender System](#hyper)\n",
    "5. [Making Predictions for User 4056](#4056)\n",
    "6. [Final Item-Based Recommender System](#final)"
   ]
  },
  {
   "cell_type": "markdown",
   "metadata": {},
   "source": [
    "### Introduction <a class=\"anchor\" id=\"intro\"></a>\n",
    "\n",
    "During the Initial Modeling stage, we create the first version of the restaurant recommendation system, which will serve as our starting point for future improvements and enhancements."
   ]
  },
  {
   "cell_type": "markdown",
   "metadata": {},
   "source": [
    "#### Importing Python Libraries \n",
    "\n",
    "Importing necessary libraries."
   ]
  },
  {
   "cell_type": "code",
   "execution_count": 1,
   "metadata": {},
   "outputs": [],
   "source": [
    "# Import necessary libraries\n",
    "import numpy as np \n",
    "import pandas as pd \n",
    "\n",
    "# Import data visualization libraries\n",
    "import matplotlib.pyplot as plt\n",
    "\n",
    "# Import from scikit-learn\n",
    "from sklearn.metrics.pairwise import cosine_similarity\n",
    "from sklearn.metrics import mean_squared_error\n",
    "\n",
    "# Import SVD algorithm from Surprise library\n",
    "from surprise import SVD\n",
    "\n",
    "# Import Reader and Dataset from Surprise library\n",
    "from surprise.reader import Reader\n",
    "from surprise import Dataset\n",
    "\n",
    "# Import FunkSVD algorithm from Surprise library\n",
    "from surprise.prediction_algorithms.matrix_factorization import SVD as FunkSVD\n",
    "\n",
    "# Import train_test_split and GridSearchCV from Surprise library\n",
    "from surprise.model_selection import train_test_split\n",
    "from surprise.model_selection import GridSearchCV\n",
    "\n",
    "# Import accuracy module from Surprise library\n",
    "from surprise import accuracy\n",
    "\n",
    "# Ignore all warnings to avoid cluttering the output\n",
    "import warnings\n",
    "warnings.filterwarnings(\"ignore\")"
   ]
  },
  {
   "cell_type": "markdown",
   "metadata": {},
   "source": []
  },
  {
   "cell_type": "markdown",
   "metadata": {},
   "source": [
    "### Model Dataset <a class=\"anchor\" id=\"model\"></a>\n",
    "\n",
    "**Data Dictionary:**\n",
    "* `user_id`: unique user id\n",
    "* `business_id`: unique user id\n",
    "* `rating`: star rating"
   ]
  },
  {
   "cell_type": "code",
   "execution_count": 2,
   "metadata": {},
   "outputs": [],
   "source": [
    "# Read data from a pickle file into a Pandas DataFrame\n",
    "vancouver_data = pd.read_pickle('/Users/diane/Desktop/BrainStation/Brainstation_Capstone/yelp_data/vancouver_data.pkl')"
   ]
  },
  {
   "cell_type": "code",
   "execution_count": 3,
   "metadata": {},
   "outputs": [
    {
     "name": "stdout",
     "output_type": "stream",
     "text": [
      "<class 'pandas.core.frame.DataFrame'>\n",
      "Index: 64660 entries, 1101 to 5561981\n",
      "Data columns (total 5 columns):\n",
      " #   Column           Non-Null Count  Dtype  \n",
      "---  ------           --------------  -----  \n",
      " 0   user_id          64660 non-null  int64  \n",
      " 1   business_id      64660 non-null  int64  \n",
      " 2   rating           64660 non-null  float64\n",
      " 3   restaurant_name  64660 non-null  object \n",
      " 4   categories       64660 non-null  object \n",
      "dtypes: float64(1), int64(2), object(2)\n",
      "memory usage: 3.0+ MB\n"
     ]
    }
   ],
   "source": [
    "# Display concise information about the 'vancouver_data' DataFrame\n",
    "vancouver_data.info()"
   ]
  },
  {
   "cell_type": "code",
   "execution_count": 4,
   "metadata": {},
   "outputs": [
    {
     "data": {
      "text/html": [
       "<div>\n",
       "<style scoped>\n",
       "    .dataframe tbody tr th:only-of-type {\n",
       "        vertical-align: middle;\n",
       "    }\n",
       "\n",
       "    .dataframe tbody tr th {\n",
       "        vertical-align: top;\n",
       "    }\n",
       "\n",
       "    .dataframe thead th {\n",
       "        text-align: right;\n",
       "    }\n",
       "</style>\n",
       "<table border=\"1\" class=\"dataframe\">\n",
       "  <thead>\n",
       "    <tr style=\"text-align: right;\">\n",
       "      <th></th>\n",
       "      <th>user_id</th>\n",
       "      <th>business_id</th>\n",
       "      <th>rating</th>\n",
       "      <th>restaurant_name</th>\n",
       "      <th>categories</th>\n",
       "    </tr>\n",
       "  </thead>\n",
       "  <tbody>\n",
       "    <tr>\n",
       "      <th>1101</th>\n",
       "      <td>70315</td>\n",
       "      <td>1407</td>\n",
       "      <td>4.0</td>\n",
       "      <td>Meat &amp; Bread</td>\n",
       "      <td>[Fast Food, Bakeries, Sandwiches, Salad, Soup,...</td>\n",
       "    </tr>\n",
       "    <tr>\n",
       "      <th>1105</th>\n",
       "      <td>70315</td>\n",
       "      <td>1356</td>\n",
       "      <td>3.0</td>\n",
       "      <td>Edible Canada At the Market</td>\n",
       "      <td>[Seafood, Canadian (New), American (New), Spec...</td>\n",
       "    </tr>\n",
       "    <tr>\n",
       "      <th>1109</th>\n",
       "      <td>70315</td>\n",
       "      <td>7370</td>\n",
       "      <td>4.0</td>\n",
       "      <td>The Lamplighter Public House</td>\n",
       "      <td>[Nightlife, Gastropubs, Bars, Pubs]</td>\n",
       "    </tr>\n",
       "    <tr>\n",
       "      <th>1144</th>\n",
       "      <td>70315</td>\n",
       "      <td>1143</td>\n",
       "      <td>5.0</td>\n",
       "      <td>Miku</td>\n",
       "      <td>[Japanese, Sushi Bars]</td>\n",
       "    </tr>\n",
       "    <tr>\n",
       "      <th>1151</th>\n",
       "      <td>70315</td>\n",
       "      <td>13469</td>\n",
       "      <td>4.0</td>\n",
       "      <td>Lupo</td>\n",
       "      <td>[Italian]</td>\n",
       "    </tr>\n",
       "  </tbody>\n",
       "</table>\n",
       "</div>"
      ],
      "text/plain": [
       "      user_id  business_id  rating               restaurant_name  \\\n",
       "1101    70315         1407     4.0                  Meat & Bread   \n",
       "1105    70315         1356     3.0   Edible Canada At the Market   \n",
       "1109    70315         7370     4.0  The Lamplighter Public House   \n",
       "1144    70315         1143     5.0                          Miku   \n",
       "1151    70315        13469     4.0                          Lupo   \n",
       "\n",
       "                                             categories  \n",
       "1101  [Fast Food, Bakeries, Sandwiches, Salad, Soup,...  \n",
       "1105  [Seafood, Canadian (New), American (New), Spec...  \n",
       "1109                [Nightlife, Gastropubs, Bars, Pubs]  \n",
       "1144                             [Japanese, Sushi Bars]  \n",
       "1151                                          [Italian]  "
      ]
     },
     "execution_count": 4,
     "metadata": {},
     "output_type": "execute_result"
    }
   ],
   "source": [
    "# Display the first few rows of the 'vancouver_data' DataFrame\n",
    "vancouver_data.head()"
   ]
  },
  {
   "cell_type": "code",
   "execution_count": 5,
   "metadata": {},
   "outputs": [
    {
     "data": {
      "text/plain": [
       "user_id            0\n",
       "business_id        0\n",
       "rating             0\n",
       "restaurant_name    0\n",
       "categories         0\n",
       "dtype: int64"
      ]
     },
     "execution_count": 5,
     "metadata": {},
     "output_type": "execute_result"
    }
   ],
   "source": [
    "# Count the number of missing values in each column of the 'vancouver_data' DataFrame\n",
    "vancouver_data.isnull().sum()"
   ]
  },
  {
   "cell_type": "code",
   "execution_count": 6,
   "metadata": {},
   "outputs": [
    {
     "name": "stdout",
     "output_type": "stream",
     "text": [
      "The size of our model dataset is 64660 entries.\n"
     ]
    }
   ],
   "source": [
    "# Print the size of our model dataset\n",
    "print(f\"The size of our model dataset is {vancouver_data.shape[0]} entries.\")"
   ]
  },
  {
   "cell_type": "code",
   "execution_count": 7,
   "metadata": {},
   "outputs": [
    {
     "data": {
      "text/html": [
       "<div>\n",
       "<style scoped>\n",
       "    .dataframe tbody tr th:only-of-type {\n",
       "        vertical-align: middle;\n",
       "    }\n",
       "\n",
       "    .dataframe tbody tr th {\n",
       "        vertical-align: top;\n",
       "    }\n",
       "\n",
       "    .dataframe thead th {\n",
       "        text-align: right;\n",
       "    }\n",
       "</style>\n",
       "<table border=\"1\" class=\"dataframe\">\n",
       "  <thead>\n",
       "    <tr style=\"text-align: right;\">\n",
       "      <th></th>\n",
       "      <th>user_id</th>\n",
       "      <th>restaurant_name</th>\n",
       "      <th>rating</th>\n",
       "    </tr>\n",
       "  </thead>\n",
       "  <tbody>\n",
       "    <tr>\n",
       "      <th>2328038</th>\n",
       "      <td>4</td>\n",
       "      <td>Breakfast Table</td>\n",
       "      <td>2.0</td>\n",
       "    </tr>\n",
       "    <tr>\n",
       "      <th>2328033</th>\n",
       "      <td>4</td>\n",
       "      <td>Yolks</td>\n",
       "      <td>5.0</td>\n",
       "    </tr>\n",
       "    <tr>\n",
       "      <th>2328050</th>\n",
       "      <td>4</td>\n",
       "      <td>Fable</td>\n",
       "      <td>3.0</td>\n",
       "    </tr>\n",
       "    <tr>\n",
       "      <th>2328052</th>\n",
       "      <td>4</td>\n",
       "      <td>Minami</td>\n",
       "      <td>5.0</td>\n",
       "    </tr>\n",
       "    <tr>\n",
       "      <th>2328053</th>\n",
       "      <td>4</td>\n",
       "      <td>The Flying Pig - Gastown</td>\n",
       "      <td>4.0</td>\n",
       "    </tr>\n",
       "    <tr>\n",
       "      <th>...</th>\n",
       "      <td>...</td>\n",
       "      <td>...</td>\n",
       "      <td>...</td>\n",
       "    </tr>\n",
       "    <tr>\n",
       "      <th>1342235</th>\n",
       "      <td>81124</td>\n",
       "      <td>The Sandbar Seafood Restaurant</td>\n",
       "      <td>5.0</td>\n",
       "    </tr>\n",
       "    <tr>\n",
       "      <th>1342237</th>\n",
       "      <td>81124</td>\n",
       "      <td>The Flying Pig - Yaletown</td>\n",
       "      <td>1.0</td>\n",
       "    </tr>\n",
       "    <tr>\n",
       "      <th>1342238</th>\n",
       "      <td>81124</td>\n",
       "      <td>Black Rice Izakaya</td>\n",
       "      <td>2.0</td>\n",
       "    </tr>\n",
       "    <tr>\n",
       "      <th>1999029</th>\n",
       "      <td>81139</td>\n",
       "      <td>Marutama Ramen</td>\n",
       "      <td>5.0</td>\n",
       "    </tr>\n",
       "    <tr>\n",
       "      <th>1999031</th>\n",
       "      <td>81139</td>\n",
       "      <td>Meat &amp; Bread</td>\n",
       "      <td>5.0</td>\n",
       "    </tr>\n",
       "  </tbody>\n",
       "</table>\n",
       "<p>64660 rows × 3 columns</p>\n",
       "</div>"
      ],
      "text/plain": [
       "         user_id                 restaurant_name  rating\n",
       "2328038        4                 Breakfast Table     2.0\n",
       "2328033        4                           Yolks     5.0\n",
       "2328050        4                           Fable     3.0\n",
       "2328052        4                          Minami     5.0\n",
       "2328053        4        The Flying Pig - Gastown     4.0\n",
       "...          ...                             ...     ...\n",
       "1342235    81124  The Sandbar Seafood Restaurant     5.0\n",
       "1342237    81124       The Flying Pig - Yaletown     1.0\n",
       "1342238    81124              Black Rice Izakaya     2.0\n",
       "1999029    81139                  Marutama Ramen     5.0\n",
       "1999031    81139                    Meat & Bread     5.0\n",
       "\n",
       "[64660 rows x 3 columns]"
      ]
     },
     "metadata": {},
     "output_type": "display_data"
    }
   ],
   "source": [
    "# Extract columns 'user_id', 'restaurant_name', and 'rating' from 'vancouver_data',\n",
    "# then sort the data by 'user_id' in ascending order\n",
    "sorted_data = vancouver_data[['user_id', 'restaurant_name', 'rating']].sort_values(by='user_id')\n",
    "\n",
    "# Display the sorted data\n",
    "display(sorted_data)"
   ]
  },
  {
   "cell_type": "code",
   "execution_count": 8,
   "metadata": {},
   "outputs": [
    {
     "data": {
      "text/html": [
       "<div>\n",
       "<style scoped>\n",
       "    .dataframe tbody tr th:only-of-type {\n",
       "        vertical-align: middle;\n",
       "    }\n",
       "\n",
       "    .dataframe tbody tr th {\n",
       "        vertical-align: top;\n",
       "    }\n",
       "\n",
       "    .dataframe thead th {\n",
       "        text-align: right;\n",
       "    }\n",
       "</style>\n",
       "<table border=\"1\" class=\"dataframe\">\n",
       "  <thead>\n",
       "    <tr style=\"text-align: right;\">\n",
       "      <th></th>\n",
       "      <th>user_id</th>\n",
       "      <th>restaurant_name</th>\n",
       "      <th>rating</th>\n",
       "    </tr>\n",
       "  </thead>\n",
       "  <tbody>\n",
       "    <tr>\n",
       "      <th>2328038</th>\n",
       "      <td>0</td>\n",
       "      <td>Breakfast Table</td>\n",
       "      <td>2.0</td>\n",
       "    </tr>\n",
       "    <tr>\n",
       "      <th>2328033</th>\n",
       "      <td>0</td>\n",
       "      <td>Yolks</td>\n",
       "      <td>5.0</td>\n",
       "    </tr>\n",
       "    <tr>\n",
       "      <th>2328050</th>\n",
       "      <td>0</td>\n",
       "      <td>Fable</td>\n",
       "      <td>3.0</td>\n",
       "    </tr>\n",
       "    <tr>\n",
       "      <th>2328052</th>\n",
       "      <td>0</td>\n",
       "      <td>Minami</td>\n",
       "      <td>5.0</td>\n",
       "    </tr>\n",
       "    <tr>\n",
       "      <th>2328053</th>\n",
       "      <td>0</td>\n",
       "      <td>The Flying Pig - Gastown</td>\n",
       "      <td>4.0</td>\n",
       "    </tr>\n",
       "    <tr>\n",
       "      <th>...</th>\n",
       "      <td>...</td>\n",
       "      <td>...</td>\n",
       "      <td>...</td>\n",
       "    </tr>\n",
       "    <tr>\n",
       "      <th>1342235</th>\n",
       "      <td>8976</td>\n",
       "      <td>The Sandbar Seafood Restaurant</td>\n",
       "      <td>5.0</td>\n",
       "    </tr>\n",
       "    <tr>\n",
       "      <th>1342237</th>\n",
       "      <td>8976</td>\n",
       "      <td>The Flying Pig - Yaletown</td>\n",
       "      <td>1.0</td>\n",
       "    </tr>\n",
       "    <tr>\n",
       "      <th>1342238</th>\n",
       "      <td>8976</td>\n",
       "      <td>Black Rice Izakaya</td>\n",
       "      <td>2.0</td>\n",
       "    </tr>\n",
       "    <tr>\n",
       "      <th>1999029</th>\n",
       "      <td>8977</td>\n",
       "      <td>Marutama Ramen</td>\n",
       "      <td>5.0</td>\n",
       "    </tr>\n",
       "    <tr>\n",
       "      <th>1999031</th>\n",
       "      <td>8977</td>\n",
       "      <td>Meat &amp; Bread</td>\n",
       "      <td>5.0</td>\n",
       "    </tr>\n",
       "  </tbody>\n",
       "</table>\n",
       "<p>64660 rows × 3 columns</p>\n",
       "</div>"
      ],
      "text/plain": [
       "         user_id                 restaurant_name  rating\n",
       "2328038        0                 Breakfast Table     2.0\n",
       "2328033        0                           Yolks     5.0\n",
       "2328050        0                           Fable     3.0\n",
       "2328052        0                          Minami     5.0\n",
       "2328053        0        The Flying Pig - Gastown     4.0\n",
       "...          ...                             ...     ...\n",
       "1342235     8976  The Sandbar Seafood Restaurant     5.0\n",
       "1342237     8976       The Flying Pig - Yaletown     1.0\n",
       "1342238     8976              Black Rice Izakaya     2.0\n",
       "1999029     8977                  Marutama Ramen     5.0\n",
       "1999031     8977                    Meat & Bread     5.0\n",
       "\n",
       "[64660 rows x 3 columns]"
      ]
     },
     "metadata": {},
     "output_type": "display_data"
    }
   ],
   "source": [
    "# Get unique user_id values and map them to new values starting from 0\n",
    "user_id_mapping = {user_id: new_id for new_id, user_id in enumerate(sorted_data['user_id'].unique())}\n",
    "\n",
    "# Replace the 'user_id' values in the DataFrame using the mapping\n",
    "sorted_data['user_id'] = sorted_data['user_id'].map(user_id_mapping)\n",
    "\n",
    "# Display the updated DataFrame\n",
    "display(sorted_data)"
   ]
  },
  {
   "cell_type": "code",
   "execution_count": 9,
   "metadata": {},
   "outputs": [
    {
     "name": "stdout",
     "output_type": "stream",
     "text": [
      "Number of restaurants: 766\n",
      "Number of unique reviewers: 8978\n",
      "Range of ratings: 1.0 to 5.0\n"
     ]
    }
   ],
   "source": [
    "# Number of restaurants \n",
    "print(\"Number of restaurants:\", sorted_data['restaurant_name'].nunique())\n",
    "\n",
    "# Number of unique reviewers \n",
    "print(\"Number of unique reviewers:\", sorted_data['user_id'].nunique())\n",
    "\n",
    "# Range of ratings\n",
    "print(\"Range of ratings:\", sorted_data['rating'].min(), \"to\", sorted_data['rating'].max())"
   ]
  },
  {
   "cell_type": "code",
   "execution_count": 10,
   "metadata": {},
   "outputs": [
    {
     "name": "stdout",
     "output_type": "stream",
     "text": [
      "User with the most ratings: 4056\n",
      "Number of ratings for the user: 543\n"
     ]
    }
   ],
   "source": [
    "# Group by 'user_id' and count the number of non-NaN ratings for each user\n",
    "user_ratings_count = sorted_data.groupby('user_id')['rating'].count()\n",
    "\n",
    "# Find the user with the most ratings (index of the maximum count)\n",
    "user_with_most_ratings = user_ratings_count.idxmax()\n",
    "\n",
    "# Get the actual count of ratings for the user with the most ratings\n",
    "most_ratings_count = user_ratings_count.max()\n",
    "\n",
    "# Print the results\n",
    "print(f\"User with the most ratings: {user_with_most_ratings}\")\n",
    "print(f\"Number of ratings for the user: {most_ratings_count}\")"
   ]
  },
  {
   "cell_type": "markdown",
   "metadata": {},
   "source": [
    "### FunkSVD Item-Based Recommender System with Scikit Surprise <a class=\"anchor\" id=\"funksvd\"></a>"
   ]
  },
  {
   "cell_type": "code",
   "execution_count": 11,
   "metadata": {},
   "outputs": [],
   "source": [
    "# Load the DataFrame into a scikit-surprise Dataset\n",
    "reader = Reader(rating_scale=(1, 5))\n",
    "\n",
    "data = Dataset.load_from_df(sorted_data[['user_id', 'restaurant_name', 'rating']], reader)"
   ]
  },
  {
   "cell_type": "code",
   "execution_count": 12,
   "metadata": {},
   "outputs": [],
   "source": [
    "# Split the data into training and testing sets\n",
    "trainset, testset = train_test_split(data, test_size=0.4)"
   ]
  },
  {
   "cell_type": "code",
   "execution_count": 13,
   "metadata": {},
   "outputs": [
    {
     "data": {
      "text/plain": [
       "<surprise.prediction_algorithms.matrix_factorization.SVD at 0x152979510>"
      ]
     },
     "execution_count": 13,
     "metadata": {},
     "output_type": "execute_result"
    }
   ],
   "source": [
    "# Create the FunkSVD model\n",
    "model = FunkSVD(n_factors=100, n_epochs=20, lr_all=0.05, biased=False, verbose=0)\n",
    "\n",
    "# Train the model on the training set\n",
    "model.fit(trainset)"
   ]
  },
  {
   "cell_type": "code",
   "execution_count": 14,
   "metadata": {},
   "outputs": [],
   "source": [
    "# Make predictions on the test set\n",
    "predictions = model.test(testset)"
   ]
  },
  {
   "cell_type": "code",
   "execution_count": 15,
   "metadata": {},
   "outputs": [
    {
     "name": "stdout",
     "output_type": "stream",
     "text": [
      "Root Mean Squared Error (RMSE): 1.1260309447608687\n",
      "Mean Squared Error (MSE): 1.2679456885590548\n",
      "Mean Absolute Error (MAE): 0.8870043280718919\n",
      "Fraction of Concordant Pairs (FCP): 0.6160065612835128\n"
     ]
    }
   ],
   "source": [
    "# Calculate and print RMSE\n",
    "print(\"Root Mean Squared Error (RMSE):\", accuracy.rmse(predictions, verbose=False))\n",
    "\n",
    "# Calculate and print MSE\n",
    "print(\"Mean Squared Error (MSE):\", accuracy.mse(predictions, verbose=False))\n",
    "\n",
    "# Calculate and print MAE\n",
    "print(\"Mean Absolute Error (MAE):\", accuracy.mae(predictions, verbose=False))\n",
    "\n",
    "# Calculate and print FCP\n",
    "print(\"Fraction of Concordant Pairs (FCP):\", accuracy.fcp(predictions, verbose=False))"
   ]
  },
  {
   "cell_type": "markdown",
   "metadata": {},
   "source": [
    "### Hyperparameter Tuning FunkSVD Item-Based Recommender System <a class=\"anchor\" id=\"hyper\"></a>"
   ]
  },
  {
   "cell_type": "code",
   "execution_count": 16,
   "metadata": {},
   "outputs": [],
   "source": [
    "# Set the parameter grid\n",
    "param_grid = {\n",
    "    'n_epochs': [10, 20, 50, 75, 100], \n",
    "    'n_factors': [50, 100, 150, 200, 250],\n",
    "    'lr_all': [0.005, 0.01, 0.02], \n",
    "    'biased': [False] }\n",
    "\n",
    "# Set GridSearchCV with 3 cross validation\n",
    "GS = GridSearchCV(FunkSVD, param_grid, measures=['fcp'], cv=3)\n",
    "\n",
    "# Fit the model\n",
    "GS.fit(data)"
   ]
  },
  {
   "cell_type": "code",
   "execution_count": 17,
   "metadata": {},
   "outputs": [
    {
     "name": "stdout",
     "output_type": "stream",
     "text": [
      "Best FCP: 0.6403319464145792\n",
      "Best parameters: {'n_epochs': 10, 'n_factors': 250, 'lr_all': 0.005, 'biased': False}\n"
     ]
    }
   ],
   "source": [
    "# Print the best FCP scores\n",
    "print('Best FCP:', GS.best_score['fcp'])\n",
    "\n",
    "# Print the best parameters found during the grid search\n",
    "print('Best parameters:', GS.best_params['fcp'])"
   ]
  },
  {
   "cell_type": "code",
   "execution_count": 18,
   "metadata": {},
   "outputs": [],
   "source": [
    "# Split train test set\n",
    "trainset, testset = train_test_split(data, test_size=0.40)\n",
    "\n",
    "# Set the algorithm\n",
    "my_svd = FunkSVD(n_factors=250, \n",
    "                 n_epochs=10, \n",
    "                 lr_all=0.005,\n",
    "                 biased=False,\n",
    "                 verbose=0)\n",
    "\n",
    "# Fit train set\n",
    "my_svd.fit(trainset)\n",
    "\n",
    "# Test the algorithm using test set\n",
    "my_pred = my_svd.test(testset)"
   ]
  },
  {
   "cell_type": "code",
   "execution_count": 19,
   "metadata": {},
   "outputs": [],
   "source": [
    "# Put 'my_pred' results in a DataFrame\n",
    "df_prediction_rated = pd.DataFrame(my_pred, columns=['user_id',\n",
    "                                               'restaurant_name',\n",
    "                                               'actual',\n",
    "                                               'prediction',\n",
    "                                               'details'])\n",
    "\n",
    "# Calculate the difference of actual and prediction into the 'diff' column\n",
    "df_prediction_rated['diff'] = abs(df_prediction_rated['prediction'] - df_prediction_rated['actual'])"
   ]
  },
  {
   "cell_type": "markdown",
   "metadata": {},
   "source": []
  },
  {
   "cell_type": "code",
   "execution_count": 20,
   "metadata": {},
   "outputs": [
    {
     "data": {
      "text/html": [
       "<div>\n",
       "<style scoped>\n",
       "    .dataframe tbody tr th:only-of-type {\n",
       "        vertical-align: middle;\n",
       "    }\n",
       "\n",
       "    .dataframe tbody tr th {\n",
       "        vertical-align: top;\n",
       "    }\n",
       "\n",
       "    .dataframe thead th {\n",
       "        text-align: right;\n",
       "    }\n",
       "</style>\n",
       "<table border=\"1\" class=\"dataframe\">\n",
       "  <thead>\n",
       "    <tr style=\"text-align: right;\">\n",
       "      <th></th>\n",
       "      <th>user_id</th>\n",
       "      <th>restaurant_name</th>\n",
       "      <th>actual</th>\n",
       "      <th>prediction</th>\n",
       "      <th>details</th>\n",
       "      <th>diff</th>\n",
       "    </tr>\n",
       "  </thead>\n",
       "  <tbody>\n",
       "    <tr>\n",
       "      <th>0</th>\n",
       "      <td>2466</td>\n",
       "      <td>Western Lake Chinese Seafood Restaurant</td>\n",
       "      <td>3.0</td>\n",
       "      <td>3.582694</td>\n",
       "      <td>{'was_impossible': False}</td>\n",
       "      <td>0.582694</td>\n",
       "    </tr>\n",
       "    <tr>\n",
       "      <th>1</th>\n",
       "      <td>4821</td>\n",
       "      <td>Go Fish Ocean Emporium</td>\n",
       "      <td>4.0</td>\n",
       "      <td>3.436397</td>\n",
       "      <td>{'was_impossible': False}</td>\n",
       "      <td>0.563603</td>\n",
       "    </tr>\n",
       "    <tr>\n",
       "      <th>2</th>\n",
       "      <td>2544</td>\n",
       "      <td>Hawksworth Restaurant</td>\n",
       "      <td>4.0</td>\n",
       "      <td>4.023631</td>\n",
       "      <td>{'was_impossible': False}</td>\n",
       "      <td>0.023631</td>\n",
       "    </tr>\n",
       "    <tr>\n",
       "      <th>3</th>\n",
       "      <td>7631</td>\n",
       "      <td>Sushi Itoga</td>\n",
       "      <td>5.0</td>\n",
       "      <td>3.832740</td>\n",
       "      <td>{'was_impossible': True, 'reason': 'User and i...</td>\n",
       "      <td>1.167260</td>\n",
       "    </tr>\n",
       "    <tr>\n",
       "      <th>4</th>\n",
       "      <td>1623</td>\n",
       "      <td>East is East</td>\n",
       "      <td>3.0</td>\n",
       "      <td>2.300915</td>\n",
       "      <td>{'was_impossible': False}</td>\n",
       "      <td>0.699085</td>\n",
       "    </tr>\n",
       "  </tbody>\n",
       "</table>\n",
       "</div>"
      ],
      "text/plain": [
       "   user_id                          restaurant_name  actual  prediction  \\\n",
       "0     2466  Western Lake Chinese Seafood Restaurant     3.0    3.582694   \n",
       "1     4821                   Go Fish Ocean Emporium     4.0    3.436397   \n",
       "2     2544                    Hawksworth Restaurant     4.0    4.023631   \n",
       "3     7631                              Sushi Itoga     5.0    3.832740   \n",
       "4     1623                             East is East     3.0    2.300915   \n",
       "\n",
       "                                             details      diff  \n",
       "0                          {'was_impossible': False}  0.582694  \n",
       "1                          {'was_impossible': False}  0.563603  \n",
       "2                          {'was_impossible': False}  0.023631  \n",
       "3  {'was_impossible': True, 'reason': 'User and i...  1.167260  \n",
       "4                          {'was_impossible': False}  0.699085  "
      ]
     },
     "execution_count": 20,
     "metadata": {},
     "output_type": "execute_result"
    }
   ],
   "source": [
    "# Check the df_prediction\n",
    "df_prediction_rated.head()"
   ]
  },
  {
   "cell_type": "code",
   "execution_count": 21,
   "metadata": {},
   "outputs": [
    {
     "name": "stdout",
     "output_type": "stream",
     "text": [
      "Proportion of correct predictions: 0.0066115063408598825\n"
     ]
    }
   ],
   "source": [
    "# Calculate the proportion where the predicted rating matches exactly with the actual rating\n",
    "print(\"Proportion of correct predictions:\", (df_prediction_rated['diff'] == 0).mean())"
   ]
  },
  {
   "cell_type": "code",
   "execution_count": 22,
   "metadata": {},
   "outputs": [
    {
     "name": "stdout",
     "output_type": "stream",
     "text": [
      "Proportion of correct predictions within margin 1: 0.4281240334055057\n"
     ]
    }
   ],
   "source": [
    "# Calculate the proportion of correct predictions within a margin of 1 \n",
    "print(\"Proportion of correct predictions within margin 1:\", (df_prediction_rated[\"diff\"] <= 1).mean())"
   ]
  },
  {
   "cell_type": "markdown",
   "metadata": {},
   "source": []
  },
  {
   "cell_type": "code",
   "execution_count": 23,
   "metadata": {},
   "outputs": [
    {
     "data": {
      "text/plain": [
       "<surprise.prediction_algorithms.matrix_factorization.SVD at 0x14661b810>"
      ]
     },
     "execution_count": 23,
     "metadata": {},
     "output_type": "execute_result"
    }
   ],
   "source": [
    "# Build full trainset\n",
    "full_trainset = data.build_full_trainset()\n",
    "\n",
    "# Fit with full trainset\n",
    "my_svd.fit(full_trainset)"
   ]
  },
  {
   "cell_type": "code",
   "execution_count": 24,
   "metadata": {},
   "outputs": [],
   "source": [
    "# Define the full test set\n",
    "full_testset = full_trainset.build_anti_testset(fill=-1)"
   ]
  },
  {
   "cell_type": "code",
   "execution_count": 25,
   "metadata": {},
   "outputs": [],
   "source": [
    "# Set the prediction\n",
    "my_prediction = my_svd.test(full_testset)"
   ]
  },
  {
   "cell_type": "code",
   "execution_count": 26,
   "metadata": {},
   "outputs": [],
   "source": [
    "# Put into a dataframe\n",
    "df_prediction_unrated = pd.DataFrame(my_pred, columns=['user_id',\n",
    "                                                     'restaurant_name',\n",
    "                                                     'actual',\n",
    "                                                     'prediction',\n",
    "                                                     'details'])"
   ]
  },
  {
   "cell_type": "code",
   "execution_count": 27,
   "metadata": {},
   "outputs": [
    {
     "data": {
      "text/html": [
       "<div>\n",
       "<style scoped>\n",
       "    .dataframe tbody tr th:only-of-type {\n",
       "        vertical-align: middle;\n",
       "    }\n",
       "\n",
       "    .dataframe tbody tr th {\n",
       "        vertical-align: top;\n",
       "    }\n",
       "\n",
       "    .dataframe thead th {\n",
       "        text-align: right;\n",
       "    }\n",
       "</style>\n",
       "<table border=\"1\" class=\"dataframe\">\n",
       "  <thead>\n",
       "    <tr style=\"text-align: right;\">\n",
       "      <th></th>\n",
       "      <th>user_id</th>\n",
       "      <th>restaurant_name</th>\n",
       "      <th>actual</th>\n",
       "      <th>prediction</th>\n",
       "      <th>details</th>\n",
       "    </tr>\n",
       "  </thead>\n",
       "  <tbody>\n",
       "    <tr>\n",
       "      <th>0</th>\n",
       "      <td>2466</td>\n",
       "      <td>Western Lake Chinese Seafood Restaurant</td>\n",
       "      <td>3.0</td>\n",
       "      <td>3.582694</td>\n",
       "      <td>{'was_impossible': False}</td>\n",
       "    </tr>\n",
       "    <tr>\n",
       "      <th>1</th>\n",
       "      <td>4821</td>\n",
       "      <td>Go Fish Ocean Emporium</td>\n",
       "      <td>4.0</td>\n",
       "      <td>3.436397</td>\n",
       "      <td>{'was_impossible': False}</td>\n",
       "    </tr>\n",
       "    <tr>\n",
       "      <th>2</th>\n",
       "      <td>2544</td>\n",
       "      <td>Hawksworth Restaurant</td>\n",
       "      <td>4.0</td>\n",
       "      <td>4.023631</td>\n",
       "      <td>{'was_impossible': False}</td>\n",
       "    </tr>\n",
       "    <tr>\n",
       "      <th>3</th>\n",
       "      <td>7631</td>\n",
       "      <td>Sushi Itoga</td>\n",
       "      <td>5.0</td>\n",
       "      <td>3.832740</td>\n",
       "      <td>{'was_impossible': True, 'reason': 'User and i...</td>\n",
       "    </tr>\n",
       "    <tr>\n",
       "      <th>4</th>\n",
       "      <td>1623</td>\n",
       "      <td>East is East</td>\n",
       "      <td>3.0</td>\n",
       "      <td>2.300915</td>\n",
       "      <td>{'was_impossible': False}</td>\n",
       "    </tr>\n",
       "  </tbody>\n",
       "</table>\n",
       "</div>"
      ],
      "text/plain": [
       "   user_id                          restaurant_name  actual  prediction  \\\n",
       "0     2466  Western Lake Chinese Seafood Restaurant     3.0    3.582694   \n",
       "1     4821                   Go Fish Ocean Emporium     4.0    3.436397   \n",
       "2     2544                    Hawksworth Restaurant     4.0    4.023631   \n",
       "3     7631                              Sushi Itoga     5.0    3.832740   \n",
       "4     1623                             East is East     3.0    2.300915   \n",
       "\n",
       "                                             details  \n",
       "0                          {'was_impossible': False}  \n",
       "1                          {'was_impossible': False}  \n",
       "2                          {'was_impossible': False}  \n",
       "3  {'was_impossible': True, 'reason': 'User and i...  \n",
       "4                          {'was_impossible': False}  "
      ]
     },
     "execution_count": 27,
     "metadata": {},
     "output_type": "execute_result"
    }
   ],
   "source": [
    "df_prediction_unrated.head()"
   ]
  },
  {
   "cell_type": "markdown",
   "metadata": {},
   "source": [
    "### Making Predictions for User 4056 <a class=\"anchor\" id=\"4056\"></a>"
   ]
  },
  {
   "cell_type": "code",
   "execution_count": 28,
   "metadata": {},
   "outputs": [
    {
     "data": {
      "text/html": [
       "<div>\n",
       "<style scoped>\n",
       "    .dataframe tbody tr th:only-of-type {\n",
       "        vertical-align: middle;\n",
       "    }\n",
       "\n",
       "    .dataframe tbody tr th {\n",
       "        vertical-align: top;\n",
       "    }\n",
       "\n",
       "    .dataframe thead th {\n",
       "        text-align: right;\n",
       "    }\n",
       "</style>\n",
       "<table border=\"1\" class=\"dataframe\">\n",
       "  <thead>\n",
       "    <tr style=\"text-align: right;\">\n",
       "      <th></th>\n",
       "      <th>user_id</th>\n",
       "      <th>restaurant_name</th>\n",
       "      <th>actual</th>\n",
       "      <th>prediction</th>\n",
       "      <th>details</th>\n",
       "    </tr>\n",
       "  </thead>\n",
       "  <tbody>\n",
       "    <tr>\n",
       "      <th>20122</th>\n",
       "      <td>4056</td>\n",
       "      <td>Parallel 49 Brewing</td>\n",
       "      <td>5.0</td>\n",
       "      <td>5.000000</td>\n",
       "      <td>{'was_impossible': False}</td>\n",
       "    </tr>\n",
       "    <tr>\n",
       "      <th>22236</th>\n",
       "      <td>4056</td>\n",
       "      <td>French Made Baking</td>\n",
       "      <td>5.0</td>\n",
       "      <td>5.000000</td>\n",
       "      <td>{'was_impossible': False}</td>\n",
       "    </tr>\n",
       "    <tr>\n",
       "      <th>8433</th>\n",
       "      <td>4056</td>\n",
       "      <td>Kissa Tanto</td>\n",
       "      <td>5.0</td>\n",
       "      <td>5.000000</td>\n",
       "      <td>{'was_impossible': False}</td>\n",
       "    </tr>\n",
       "    <tr>\n",
       "      <th>21649</th>\n",
       "      <td>4056</td>\n",
       "      <td>Tuc Craft Kitchen</td>\n",
       "      <td>3.0</td>\n",
       "      <td>5.000000</td>\n",
       "      <td>{'was_impossible': False}</td>\n",
       "    </tr>\n",
       "    <tr>\n",
       "      <th>23024</th>\n",
       "      <td>4056</td>\n",
       "      <td>Trafiq Cafe &amp; Bakery</td>\n",
       "      <td>5.0</td>\n",
       "      <td>5.000000</td>\n",
       "      <td>{'was_impossible': False}</td>\n",
       "    </tr>\n",
       "    <tr>\n",
       "      <th>...</th>\n",
       "      <td>...</td>\n",
       "      <td>...</td>\n",
       "      <td>...</td>\n",
       "      <td>...</td>\n",
       "      <td>...</td>\n",
       "    </tr>\n",
       "    <tr>\n",
       "      <th>24161</th>\n",
       "      <td>4056</td>\n",
       "      <td>Sushi Coen</td>\n",
       "      <td>3.0</td>\n",
       "      <td>1.847063</td>\n",
       "      <td>{'was_impossible': False}</td>\n",
       "    </tr>\n",
       "    <tr>\n",
       "      <th>4837</th>\n",
       "      <td>4056</td>\n",
       "      <td>CaliBurger Vancouver</td>\n",
       "      <td>5.0</td>\n",
       "      <td>1.843023</td>\n",
       "      <td>{'was_impossible': False}</td>\n",
       "    </tr>\n",
       "    <tr>\n",
       "      <th>12448</th>\n",
       "      <td>4056</td>\n",
       "      <td>Showcase Restaurant &amp; Bar</td>\n",
       "      <td>5.0</td>\n",
       "      <td>1.625779</td>\n",
       "      <td>{'was_impossible': False}</td>\n",
       "    </tr>\n",
       "    <tr>\n",
       "      <th>23538</th>\n",
       "      <td>4056</td>\n",
       "      <td>Just Waffles</td>\n",
       "      <td>5.0</td>\n",
       "      <td>1.000000</td>\n",
       "      <td>{'was_impossible': False}</td>\n",
       "    </tr>\n",
       "    <tr>\n",
       "      <th>16191</th>\n",
       "      <td>4056</td>\n",
       "      <td>The Northern Cafe and Grill</td>\n",
       "      <td>5.0</td>\n",
       "      <td>1.000000</td>\n",
       "      <td>{'was_impossible': False}</td>\n",
       "    </tr>\n",
       "  </tbody>\n",
       "</table>\n",
       "<p>235 rows × 5 columns</p>\n",
       "</div>"
      ],
      "text/plain": [
       "       user_id              restaurant_name  actual  prediction  \\\n",
       "20122     4056          Parallel 49 Brewing     5.0    5.000000   \n",
       "22236     4056           French Made Baking     5.0    5.000000   \n",
       "8433      4056                  Kissa Tanto     5.0    5.000000   \n",
       "21649     4056            Tuc Craft Kitchen     3.0    5.000000   \n",
       "23024     4056         Trafiq Cafe & Bakery     5.0    5.000000   \n",
       "...        ...                          ...     ...         ...   \n",
       "24161     4056                   Sushi Coen     3.0    1.847063   \n",
       "4837      4056         CaliBurger Vancouver     5.0    1.843023   \n",
       "12448     4056    Showcase Restaurant & Bar     5.0    1.625779   \n",
       "23538     4056                 Just Waffles     5.0    1.000000   \n",
       "16191     4056  The Northern Cafe and Grill     5.0    1.000000   \n",
       "\n",
       "                         details  \n",
       "20122  {'was_impossible': False}  \n",
       "22236  {'was_impossible': False}  \n",
       "8433   {'was_impossible': False}  \n",
       "21649  {'was_impossible': False}  \n",
       "23024  {'was_impossible': False}  \n",
       "...                          ...  \n",
       "24161  {'was_impossible': False}  \n",
       "4837   {'was_impossible': False}  \n",
       "12448  {'was_impossible': False}  \n",
       "23538  {'was_impossible': False}  \n",
       "16191  {'was_impossible': False}  \n",
       "\n",
       "[235 rows x 5 columns]"
      ]
     },
     "execution_count": 28,
     "metadata": {},
     "output_type": "execute_result"
    }
   ],
   "source": [
    "# Check our favorite user id `4056` for the top predictions\n",
    "predict_4056 = df_prediction_unrated[df_prediction_unrated['user_id'] == 4056].sort_values(by=['prediction'], ascending=False)\n",
    "\n",
    "predict_4056"
   ]
  },
  {
   "cell_type": "code",
   "execution_count": 29,
   "metadata": {},
   "outputs": [
    {
     "data": {
      "text/html": [
       "<div>\n",
       "<style scoped>\n",
       "    .dataframe tbody tr th:only-of-type {\n",
       "        vertical-align: middle;\n",
       "    }\n",
       "\n",
       "    .dataframe tbody tr th {\n",
       "        vertical-align: top;\n",
       "    }\n",
       "\n",
       "    .dataframe thead th {\n",
       "        text-align: right;\n",
       "    }\n",
       "</style>\n",
       "<table border=\"1\" class=\"dataframe\">\n",
       "  <thead>\n",
       "    <tr style=\"text-align: right;\">\n",
       "      <th></th>\n",
       "      <th>user_id</th>\n",
       "      <th>restaurant_name</th>\n",
       "      <th>rating</th>\n",
       "    </tr>\n",
       "  </thead>\n",
       "  <tbody>\n",
       "    <tr>\n",
       "      <th>144010</th>\n",
       "      <td>4056</td>\n",
       "      <td>Sushi Mura</td>\n",
       "      <td>5.0</td>\n",
       "    </tr>\n",
       "    <tr>\n",
       "      <th>144009</th>\n",
       "      <td>4056</td>\n",
       "      <td>Purebread</td>\n",
       "      <td>5.0</td>\n",
       "    </tr>\n",
       "    <tr>\n",
       "      <th>144014</th>\n",
       "      <td>4056</td>\n",
       "      <td>Canra Srilankan Cuisine</td>\n",
       "      <td>5.0</td>\n",
       "    </tr>\n",
       "    <tr>\n",
       "      <th>144023</th>\n",
       "      <td>4056</td>\n",
       "      <td>Sushi Hub</td>\n",
       "      <td>4.0</td>\n",
       "    </tr>\n",
       "    <tr>\n",
       "      <th>143948</th>\n",
       "      <td>4056</td>\n",
       "      <td>Sal y Limón</td>\n",
       "      <td>5.0</td>\n",
       "    </tr>\n",
       "    <tr>\n",
       "      <th>...</th>\n",
       "      <td>...</td>\n",
       "      <td>...</td>\n",
       "      <td>...</td>\n",
       "    </tr>\n",
       "    <tr>\n",
       "      <th>141845</th>\n",
       "      <td>4056</td>\n",
       "      <td>Pizzeria Farina</td>\n",
       "      <td>4.0</td>\n",
       "    </tr>\n",
       "    <tr>\n",
       "      <th>141844</th>\n",
       "      <td>4056</td>\n",
       "      <td>Joe Fortes Seafood &amp; Chop House</td>\n",
       "      <td>5.0</td>\n",
       "    </tr>\n",
       "    <tr>\n",
       "      <th>141746</th>\n",
       "      <td>4056</td>\n",
       "      <td>Wang's Taiwan Beef Noodle House</td>\n",
       "      <td>4.0</td>\n",
       "    </tr>\n",
       "    <tr>\n",
       "      <th>141736</th>\n",
       "      <td>4056</td>\n",
       "      <td>Showcase Restaurant &amp; Bar</td>\n",
       "      <td>5.0</td>\n",
       "    </tr>\n",
       "    <tr>\n",
       "      <th>141849</th>\n",
       "      <td>4056</td>\n",
       "      <td>D'oro Gelato e Caffè</td>\n",
       "      <td>5.0</td>\n",
       "    </tr>\n",
       "  </tbody>\n",
       "</table>\n",
       "<p>543 rows × 3 columns</p>\n",
       "</div>"
      ],
      "text/plain": [
       "        user_id                  restaurant_name  rating\n",
       "144010     4056                       Sushi Mura     5.0\n",
       "144009     4056                        Purebread     5.0\n",
       "144014     4056          Canra Srilankan Cuisine     5.0\n",
       "144023     4056                        Sushi Hub     4.0\n",
       "143948     4056                      Sal y Limón     5.0\n",
       "...         ...                              ...     ...\n",
       "141845     4056                  Pizzeria Farina     4.0\n",
       "141844     4056  Joe Fortes Seafood & Chop House     5.0\n",
       "141746     4056  Wang's Taiwan Beef Noodle House     4.0\n",
       "141736     4056        Showcase Restaurant & Bar     5.0\n",
       "141849     4056             D'oro Gelato e Caffè     5.0\n",
       "\n",
       "[543 rows x 3 columns]"
      ]
     },
     "execution_count": 29,
     "metadata": {},
     "output_type": "execute_result"
    }
   ],
   "source": [
    "original_4056 = sorted_data[sorted_data['user_id'] == 4056]\n",
    "\n",
    "original_4056"
   ]
  },
  {
   "cell_type": "code",
   "execution_count": 30,
   "metadata": {},
   "outputs": [
    {
     "data": {
      "text/html": [
       "<div>\n",
       "<style scoped>\n",
       "    .dataframe tbody tr th:only-of-type {\n",
       "        vertical-align: middle;\n",
       "    }\n",
       "\n",
       "    .dataframe tbody tr th {\n",
       "        vertical-align: top;\n",
       "    }\n",
       "\n",
       "    .dataframe thead th {\n",
       "        text-align: right;\n",
       "    }\n",
       "</style>\n",
       "<table border=\"1\" class=\"dataframe\">\n",
       "  <thead>\n",
       "    <tr style=\"text-align: right;\">\n",
       "      <th></th>\n",
       "      <th>user_id</th>\n",
       "      <th>restaurant_name</th>\n",
       "      <th>actual</th>\n",
       "      <th>prediction</th>\n",
       "      <th>details</th>\n",
       "      <th>diff</th>\n",
       "    </tr>\n",
       "  </thead>\n",
       "  <tbody>\n",
       "    <tr>\n",
       "      <th>0</th>\n",
       "      <td>4056</td>\n",
       "      <td>Parallel 49 Brewing</td>\n",
       "      <td>5.0</td>\n",
       "      <td>5.000000</td>\n",
       "      <td>{'was_impossible': False}</td>\n",
       "      <td>0.000000</td>\n",
       "    </tr>\n",
       "    <tr>\n",
       "      <th>1</th>\n",
       "      <td>4056</td>\n",
       "      <td>French Made Baking</td>\n",
       "      <td>5.0</td>\n",
       "      <td>5.000000</td>\n",
       "      <td>{'was_impossible': False}</td>\n",
       "      <td>0.000000</td>\n",
       "    </tr>\n",
       "    <tr>\n",
       "      <th>2</th>\n",
       "      <td>4056</td>\n",
       "      <td>French Made Baking</td>\n",
       "      <td>5.0</td>\n",
       "      <td>5.000000</td>\n",
       "      <td>{'was_impossible': False}</td>\n",
       "      <td>0.000000</td>\n",
       "    </tr>\n",
       "    <tr>\n",
       "      <th>3</th>\n",
       "      <td>4056</td>\n",
       "      <td>French Made Baking</td>\n",
       "      <td>5.0</td>\n",
       "      <td>5.000000</td>\n",
       "      <td>{'was_impossible': False}</td>\n",
       "      <td>0.000000</td>\n",
       "    </tr>\n",
       "    <tr>\n",
       "      <th>4</th>\n",
       "      <td>4056</td>\n",
       "      <td>Kissa Tanto</td>\n",
       "      <td>5.0</td>\n",
       "      <td>5.000000</td>\n",
       "      <td>{'was_impossible': False}</td>\n",
       "      <td>0.000000</td>\n",
       "    </tr>\n",
       "    <tr>\n",
       "      <th>...</th>\n",
       "      <td>...</td>\n",
       "      <td>...</td>\n",
       "      <td>...</td>\n",
       "      <td>...</td>\n",
       "      <td>...</td>\n",
       "      <td>...</td>\n",
       "    </tr>\n",
       "    <tr>\n",
       "      <th>267</th>\n",
       "      <td>4056</td>\n",
       "      <td>Sushi Coen</td>\n",
       "      <td>3.0</td>\n",
       "      <td>1.847063</td>\n",
       "      <td>{'was_impossible': False}</td>\n",
       "      <td>1.152937</td>\n",
       "    </tr>\n",
       "    <tr>\n",
       "      <th>268</th>\n",
       "      <td>4056</td>\n",
       "      <td>CaliBurger Vancouver</td>\n",
       "      <td>5.0</td>\n",
       "      <td>1.843023</td>\n",
       "      <td>{'was_impossible': False}</td>\n",
       "      <td>3.156977</td>\n",
       "    </tr>\n",
       "    <tr>\n",
       "      <th>269</th>\n",
       "      <td>4056</td>\n",
       "      <td>Showcase Restaurant &amp; Bar</td>\n",
       "      <td>5.0</td>\n",
       "      <td>1.625779</td>\n",
       "      <td>{'was_impossible': False}</td>\n",
       "      <td>3.374221</td>\n",
       "    </tr>\n",
       "    <tr>\n",
       "      <th>270</th>\n",
       "      <td>4056</td>\n",
       "      <td>Just Waffles</td>\n",
       "      <td>5.0</td>\n",
       "      <td>1.000000</td>\n",
       "      <td>{'was_impossible': False}</td>\n",
       "      <td>4.000000</td>\n",
       "    </tr>\n",
       "    <tr>\n",
       "      <th>271</th>\n",
       "      <td>4056</td>\n",
       "      <td>The Northern Cafe and Grill</td>\n",
       "      <td>5.0</td>\n",
       "      <td>1.000000</td>\n",
       "      <td>{'was_impossible': False}</td>\n",
       "      <td>4.000000</td>\n",
       "    </tr>\n",
       "  </tbody>\n",
       "</table>\n",
       "<p>272 rows × 6 columns</p>\n",
       "</div>"
      ],
      "text/plain": [
       "     user_id              restaurant_name  actual  prediction  \\\n",
       "0       4056          Parallel 49 Brewing     5.0    5.000000   \n",
       "1       4056           French Made Baking     5.0    5.000000   \n",
       "2       4056           French Made Baking     5.0    5.000000   \n",
       "3       4056           French Made Baking     5.0    5.000000   \n",
       "4       4056                  Kissa Tanto     5.0    5.000000   \n",
       "..       ...                          ...     ...         ...   \n",
       "267     4056                   Sushi Coen     3.0    1.847063   \n",
       "268     4056         CaliBurger Vancouver     5.0    1.843023   \n",
       "269     4056    Showcase Restaurant & Bar     5.0    1.625779   \n",
       "270     4056                 Just Waffles     5.0    1.000000   \n",
       "271     4056  The Northern Cafe and Grill     5.0    1.000000   \n",
       "\n",
       "                       details      diff  \n",
       "0    {'was_impossible': False}  0.000000  \n",
       "1    {'was_impossible': False}  0.000000  \n",
       "2    {'was_impossible': False}  0.000000  \n",
       "3    {'was_impossible': False}  0.000000  \n",
       "4    {'was_impossible': False}  0.000000  \n",
       "..                         ...       ...  \n",
       "267  {'was_impossible': False}  1.152937  \n",
       "268  {'was_impossible': False}  3.156977  \n",
       "269  {'was_impossible': False}  3.374221  \n",
       "270  {'was_impossible': False}  4.000000  \n",
       "271  {'was_impossible': False}  4.000000  \n",
       "\n",
       "[272 rows x 6 columns]"
      ]
     },
     "execution_count": 30,
     "metadata": {},
     "output_type": "execute_result"
    }
   ],
   "source": [
    "# Merge on 'user_id' and 'restaurant_name'\n",
    "merged_4056 = predict_4056.merge(original_4056, how='left', on=['user_id', 'restaurant_name'])\n",
    "\n",
    "# Calculate the absolute difference between 'prediction' and 'actual'\n",
    "merged_4056['diff'] = abs(merged_4056['prediction'] - merged_4056['actual'])\n",
    "\n",
    "# Drop the 'rating' column\n",
    "merged_4056.drop(columns=['rating'], inplace=True)\n",
    "\n",
    "# Display the updated DataFrame\n",
    "merged_4056"
   ]
  },
  {
   "cell_type": "code",
   "execution_count": 31,
   "metadata": {},
   "outputs": [
    {
     "name": "stdout",
     "output_type": "stream",
     "text": [
      "Proportion of correct predictions: 0.025735294117647058\n"
     ]
    }
   ],
   "source": [
    "# Calculate the proportion where the predicted rating matches exactly with the actual rating\n",
    "print(\"Proportion of correct predictions:\", (merged_4056['diff'] == 0).mean())"
   ]
  },
  {
   "cell_type": "code",
   "execution_count": 32,
   "metadata": {},
   "outputs": [
    {
     "name": "stdout",
     "output_type": "stream",
     "text": [
      "Proportion of correct predictions within margin 1: 0.5477941176470589\n"
     ]
    }
   ],
   "source": [
    "# Calculate the proportion of correct predictions within a margin of 1 \n",
    "print(\"Proportion of correct predictions within margin 1:\", (merged_4056[\"diff\"] <= 1).mean())"
   ]
  },
  {
   "cell_type": "markdown",
   "metadata": {},
   "source": [
    "### Final Item-Based Recommender System <a class=\"anchor\" id=\"final\"></a>"
   ]
  },
  {
   "cell_type": "code",
   "execution_count": 33,
   "metadata": {},
   "outputs": [
    {
     "name": "stdout",
     "output_type": "stream",
     "text": [
      "Root Mean Squared Error (RMSE): 1.7530979114555563\n",
      "Mean Squared Error (MSE): 3.073352287149833\n",
      "Mean Absolute Error (MAE): 1.3899871313953476\n",
      "Fraction of Concordant Pairs (FCP): 0.6620823794661699\n"
     ]
    }
   ],
   "source": [
    "# Split the dataset into train and test sets\n",
    "trainset, testset = train_test_split(data, test_size=0.4)\n",
    "\n",
    "# Fit the algorithm on the training dataset\n",
    "my_svd.fit(trainset)\n",
    "\n",
    "# Generate predictions on the test dataset\n",
    "predictions = my_svd.test(testset)\n",
    "\n",
    "# Calculate and print RMSE\n",
    "print(\"Root Mean Squared Error (RMSE):\", accuracy.rmse(predictions, verbose=False))\n",
    "\n",
    "# Calculate and print MSE\n",
    "print(\"Mean Squared Error (MSE):\", accuracy.mse(predictions, verbose=False))\n",
    "\n",
    "# Calculate and print MAE\n",
    "print(\"Mean Absolute Error (MAE):\", accuracy.mae(predictions, verbose=False))\n",
    "\n",
    "# Calculate and print FCP\n",
    "print(\"Fraction of Concordant Pairs (FCP):\", accuracy.fcp(predictions, verbose=False))"
   ]
  },
  {
   "cell_type": "markdown",
   "metadata": {},
   "source": []
  }
 ],
 "metadata": {
  "kernelspec": {
   "display_name": "env",
   "language": "python",
   "name": "python3"
  },
  "language_info": {
   "codemirror_mode": {
    "name": "ipython",
    "version": 3
   },
   "file_extension": ".py",
   "mimetype": "text/x-python",
   "name": "python",
   "nbconvert_exporter": "python",
   "pygments_lexer": "ipython3",
   "version": "3.11.4"
  },
  "orig_nbformat": 4
 },
 "nbformat": 4,
 "nbformat_minor": 2
}
