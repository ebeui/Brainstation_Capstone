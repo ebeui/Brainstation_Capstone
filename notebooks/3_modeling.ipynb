{
 "cells": [
  {
   "cell_type": "markdown",
   "metadata": {},
   "source": [
    "## Modeling \n",
    "\n",
    "**Name**: Diane Lu\n",
    "\n",
    "**Contact**: dianengalu@gmail.com\n",
    "\n",
    "**Date**: 07/18/2023"
   ]
  },
  {
   "cell_type": "markdown",
   "metadata": {},
   "source": [
    "### Table of Contents \n",
    "\n",
    "1. [Introduction](#intro)\n",
    "2. [Final Dataset](#final)\n",
    "    * Data Dictionary\n",
    "3. [Collaborative-Filtering Recommendation System without SVD](#nosvd)\n",
    "4. [Collaborative-Filtering Recommendation System with SVD](#svd)\n",
    "5. [Collaborative-Filtering Recommendation System with FunkSVD](#funksvd)"
   ]
  },
  {
   "cell_type": "markdown",
   "metadata": {},
   "source": [
    "### Introduction <a class=\"anchor\" id=\"intro\"></a>\n",
    "\n",
    "asdf"
   ]
  },
  {
   "cell_type": "markdown",
   "metadata": {},
   "source": [
    "#### Importing Python Libraries \n",
    "\n",
    "Importing necessary libraries for the EDA process."
   ]
  },
  {
   "cell_type": "code",
   "execution_count": 1,
   "metadata": {},
   "outputs": [],
   "source": [
    "# Import the basic packages\n",
    "import numpy as np \n",
    "import pandas as pd \n",
    "\n",
    "from sklearn.metrics.pairwise import cosine_similarity\n",
    "from sklearn.decomposition import TruncatedSVD\n",
    "\n",
    "# Import the surprise packages\n",
    "from surprise import SVD\n",
    "from surprise.reader import Reader\n",
    "from surprise import Dataset\n",
    "from surprise.prediction_algorithms.matrix_factorization import SVD as FunkSVD\n",
    "from surprise.model_selection import train_test_split\n",
    "from surprise.model_selection import GridSearchCV\n",
    "from surprise import accuracy\n",
    "\n",
    "import warnings\n",
    "\n",
    "# Ignore all warnings\n",
    "warnings.filterwarnings(\"ignore\")"
   ]
  },
  {
   "cell_type": "markdown",
   "metadata": {},
   "source": []
  },
  {
   "cell_type": "markdown",
   "metadata": {},
   "source": [
    "### Model Dataset <a class=\"anchor\" id=\"final\"></a>\n",
    "\n",
    "**Data Dictionary:**\n",
    "* `user_id`: unique user id\n",
    "* `business_id`: unique user id\n",
    "* `rating`: star rating"
   ]
  },
  {
   "cell_type": "code",
   "execution_count": 2,
   "metadata": {},
   "outputs": [],
   "source": [
    "model_data = pd.read_pickle('/Users/diane/Desktop/BrainStation/Brainstation_Capstone/yelp_data/model_data.pkl')"
   ]
  },
  {
   "cell_type": "code",
   "execution_count": 3,
   "metadata": {},
   "outputs": [
    {
     "name": "stdout",
     "output_type": "stream",
     "text": [
      "<class 'pandas.core.frame.DataFrame'>\n",
      "Index: 1203530 entries, 40 to 5572793\n",
      "Data columns (total 3 columns):\n",
      " #   Column       Non-Null Count    Dtype  \n",
      "---  ------       --------------    -----  \n",
      " 0   user_id      1203530 non-null  int64  \n",
      " 1   business_id  1203530 non-null  int64  \n",
      " 2   rating       1203530 non-null  float64\n",
      "dtypes: float64(1), int64(2)\n",
      "memory usage: 36.7 MB\n"
     ]
    }
   ],
   "source": [
    "model_data.info()"
   ]
  },
  {
   "cell_type": "code",
   "execution_count": 4,
   "metadata": {},
   "outputs": [
    {
     "data": {
      "text/html": [
       "<div>\n",
       "<style scoped>\n",
       "    .dataframe tbody tr th:only-of-type {\n",
       "        vertical-align: middle;\n",
       "    }\n",
       "\n",
       "    .dataframe tbody tr th {\n",
       "        vertical-align: top;\n",
       "    }\n",
       "\n",
       "    .dataframe thead th {\n",
       "        text-align: right;\n",
       "    }\n",
       "</style>\n",
       "<table border=\"1\" class=\"dataframe\">\n",
       "  <thead>\n",
       "    <tr style=\"text-align: right;\">\n",
       "      <th></th>\n",
       "      <th>user_id</th>\n",
       "      <th>business_id</th>\n",
       "      <th>rating</th>\n",
       "    </tr>\n",
       "  </thead>\n",
       "  <tbody>\n",
       "    <tr>\n",
       "      <th>40</th>\n",
       "      <td>53031</td>\n",
       "      <td>6620</td>\n",
       "      <td>4.0</td>\n",
       "    </tr>\n",
       "    <tr>\n",
       "      <th>41</th>\n",
       "      <td>53031</td>\n",
       "      <td>4147</td>\n",
       "      <td>2.0</td>\n",
       "    </tr>\n",
       "    <tr>\n",
       "      <th>42</th>\n",
       "      <td>53031</td>\n",
       "      <td>12401</td>\n",
       "      <td>3.0</td>\n",
       "    </tr>\n",
       "    <tr>\n",
       "      <th>43</th>\n",
       "      <td>53031</td>\n",
       "      <td>1357</td>\n",
       "      <td>2.0</td>\n",
       "    </tr>\n",
       "    <tr>\n",
       "      <th>44</th>\n",
       "      <td>53031</td>\n",
       "      <td>3498</td>\n",
       "      <td>3.0</td>\n",
       "    </tr>\n",
       "  </tbody>\n",
       "</table>\n",
       "</div>"
      ],
      "text/plain": [
       "    user_id  business_id  rating\n",
       "40    53031         6620     4.0\n",
       "41    53031         4147     2.0\n",
       "42    53031        12401     3.0\n",
       "43    53031         1357     2.0\n",
       "44    53031         3498     3.0"
      ]
     },
     "execution_count": 4,
     "metadata": {},
     "output_type": "execute_result"
    }
   ],
   "source": [
    "model_data.head()"
   ]
  },
  {
   "cell_type": "code",
   "execution_count": 6,
   "metadata": {},
   "outputs": [
    {
     "data": {
      "text/plain": [
       "user_id        0\n",
       "business_id    0\n",
       "rating         0\n",
       "dtype: int64"
      ]
     },
     "execution_count": 6,
     "metadata": {},
     "output_type": "execute_result"
    }
   ],
   "source": [
    "model_data.isnull().sum()"
   ]
  },
  {
   "cell_type": "markdown",
   "metadata": {},
   "source": []
  },
  {
   "cell_type": "markdown",
   "metadata": {},
   "source": [
    "### Collaborative-Filtering Recommendation System without SVD <a class=\"anchor\" id=\"nosvd\"></a>\n",
    "\n",
    "Collaborative filtering is a general technique used in recommendation systems to predict user preferences based on the preferences of similar users. It does not involve matrix factorization. Instead, it relies on computing similarities between users or items to generate recommendations. Collaborative filtering without SVD directly operates on the user-item interaction matrix and may use various similarity metrics to find similar users or items. "
   ]
  },
  {
   "cell_type": "code",
   "execution_count": 7,
   "metadata": {},
   "outputs": [],
   "source": [
    "# User-Item Interaction Matrix\n",
    "user_item_matrix = model_data.pivot_table(index='user_id', columns='business_id', values='rating').fillna(0)\n",
    "user_item_matrix.sample(5)"
   ]
  },
  {
   "cell_type": "code",
   "execution_count": null,
   "metadata": {},
   "outputs": [],
   "source": [
    "# Similarity Calculation (Cosine Similarity)\n",
    "user_similarity = cosine_similarity(user_item_matrix)"
   ]
  },
  {
   "cell_type": "code",
   "execution_count": null,
   "metadata": {},
   "outputs": [],
   "source": [
    "# Function to get top N recommendations for a user\n",
    "def get_top_N_recommendations(user_id, N=5):\n",
    "    user_index = user_item_matrix.index.get_loc(user_id)\n",
    "\n",
    "    similar_users = user_similarity[user_index]\n",
    "\n",
    "    top_similar_users_indices = similar_users.argsort()[::-1][1:N+1]  # Exclude the user itself\n",
    "\n",
    "    top_recommendations = user_item_matrix.iloc[top_similar_users_indices].mean(axis=0)\n",
    "    top_recommendations = top_recommendations.sort_values(ascending=False)\n",
    "    \n",
    "    return top_recommendations.index.tolist()"
   ]
  },
  {
   "cell_type": "code",
   "execution_count": null,
   "metadata": {},
   "outputs": [],
   "source": [
    "# Example: Get top 5 recommendations for a user with user_id = 123\n",
    "user_id = 123\n",
    "top_recommendations = get_top_N_recommendations(user_id, N=5)\n",
    "print(top_recommendations)"
   ]
  },
  {
   "cell_type": "code",
   "execution_count": null,
   "metadata": {},
   "outputs": [],
   "source": []
  },
  {
   "cell_type": "code",
   "execution_count": null,
   "metadata": {},
   "outputs": [],
   "source": []
  },
  {
   "cell_type": "code",
   "execution_count": null,
   "metadata": {},
   "outputs": [],
   "source": [
    "# User-Item Interaction Matrix\n",
    "user_item_matrix = model_data.pivot_table(index='user_id', columns='business_id', values='ratingg')"
   ]
  },
  {
   "cell_type": "code",
   "execution_count": null,
   "metadata": {},
   "outputs": [],
   "source": [
    "# Fill missing values (NaNs) with zeros\n",
    "user_item_matrix = user_item_matrix.fillna(0)"
   ]
  },
  {
   "cell_type": "code",
   "execution_count": null,
   "metadata": {},
   "outputs": [
    {
     "data": {
      "text/plain": [
       "(81142, 14323)"
      ]
     },
     "execution_count": 11,
     "metadata": {},
     "output_type": "execute_result"
    }
   ],
   "source": [
    "user_item_matrix.shape"
   ]
  },
  {
   "cell_type": "code",
   "execution_count": null,
   "metadata": {},
   "outputs": [
    {
     "data": {
      "text/html": [
       "<div>\n",
       "<style scoped>\n",
       "    .dataframe tbody tr th:only-of-type {\n",
       "        vertical-align: middle;\n",
       "    }\n",
       "\n",
       "    .dataframe tbody tr th {\n",
       "        vertical-align: top;\n",
       "    }\n",
       "\n",
       "    .dataframe thead th {\n",
       "        text-align: right;\n",
       "    }\n",
       "</style>\n",
       "<table border=\"1\" class=\"dataframe\">\n",
       "  <thead>\n",
       "    <tr style=\"text-align: right;\">\n",
       "      <th>business_id</th>\n",
       "      <th>--164t1nclzzmca7eDiJMw</th>\n",
       "      <th>--Q3mAcX9t63f7Xcbn7LVA</th>\n",
       "      <th>--UNNdnHRhsyFUbDgumdtQ</th>\n",
       "      <th>-0A60UZl9nbdq2WWySJ_tQ</th>\n",
       "      <th>-0iqnv7MjKrgh7Q7bYRlUQ</th>\n",
       "      <th>-0sIQ96u8XevGUXZ--pvaA</th>\n",
       "      <th>-1ShItlulHnBsoOQWnblzw</th>\n",
       "      <th>-1h2qkElNfKjUPw6brMbIw</th>\n",
       "      <th>-1mmKpu7b_NlBit2pOOPnQ</th>\n",
       "      <th>-1sIJLX71taHD-BgbwY64Q</th>\n",
       "      <th>...</th>\n",
       "      <th>zvKfCAOBzVcxc1HLpoIY8A</th>\n",
       "      <th>zwKIQgthba1FUPWS7nOo0w</th>\n",
       "      <th>zwhSGiftT_yzKSEmMCol6Q</th>\n",
       "      <th>zwn53gHyn1NlX9h3jKFOUg</th>\n",
       "      <th>zyBC3BUkH9klhPhMyQmxAQ</th>\n",
       "      <th>zyHMtStYlKG67WRprp6GZQ</th>\n",
       "      <th>zyauuvAYdVweBK4L7wBRmw</th>\n",
       "      <th>zz4WGzntV59HqhefV5zigQ</th>\n",
       "      <th>zzin1d1oHi81GuI0ufo1VA</th>\n",
       "      <th>zzlkjDG9Rv8Jn-vSolMgyw</th>\n",
       "    </tr>\n",
       "    <tr>\n",
       "      <th>user_id</th>\n",
       "      <th></th>\n",
       "      <th></th>\n",
       "      <th></th>\n",
       "      <th></th>\n",
       "      <th></th>\n",
       "      <th></th>\n",
       "      <th></th>\n",
       "      <th></th>\n",
       "      <th></th>\n",
       "      <th></th>\n",
       "      <th></th>\n",
       "      <th></th>\n",
       "      <th></th>\n",
       "      <th></th>\n",
       "      <th></th>\n",
       "      <th></th>\n",
       "      <th></th>\n",
       "      <th></th>\n",
       "      <th></th>\n",
       "      <th></th>\n",
       "      <th></th>\n",
       "    </tr>\n",
       "  </thead>\n",
       "  <tbody>\n",
       "    <tr>\n",
       "      <th>--0zxhZTSLZ7w1hUD2bEwA</th>\n",
       "      <td>0.0</td>\n",
       "      <td>0.0</td>\n",
       "      <td>0.0</td>\n",
       "      <td>0.0</td>\n",
       "      <td>0.0</td>\n",
       "      <td>0.0</td>\n",
       "      <td>0.0</td>\n",
       "      <td>0.0</td>\n",
       "      <td>0.0</td>\n",
       "      <td>0.0</td>\n",
       "      <td>...</td>\n",
       "      <td>0.0</td>\n",
       "      <td>0.0</td>\n",
       "      <td>0.0</td>\n",
       "      <td>0.0</td>\n",
       "      <td>0.0</td>\n",
       "      <td>0.0</td>\n",
       "      <td>0.0</td>\n",
       "      <td>0.0</td>\n",
       "      <td>0.0</td>\n",
       "      <td>0.0</td>\n",
       "    </tr>\n",
       "    <tr>\n",
       "      <th>--17Db1K-KujRuN7hY9Z0Q</th>\n",
       "      <td>0.0</td>\n",
       "      <td>0.0</td>\n",
       "      <td>0.0</td>\n",
       "      <td>0.0</td>\n",
       "      <td>0.0</td>\n",
       "      <td>0.0</td>\n",
       "      <td>0.0</td>\n",
       "      <td>0.0</td>\n",
       "      <td>0.0</td>\n",
       "      <td>0.0</td>\n",
       "      <td>...</td>\n",
       "      <td>0.0</td>\n",
       "      <td>0.0</td>\n",
       "      <td>0.0</td>\n",
       "      <td>0.0</td>\n",
       "      <td>0.0</td>\n",
       "      <td>0.0</td>\n",
       "      <td>0.0</td>\n",
       "      <td>0.0</td>\n",
       "      <td>0.0</td>\n",
       "      <td>0.0</td>\n",
       "    </tr>\n",
       "    <tr>\n",
       "      <th>--2vR0DIsmQ6WfcSzKWigw</th>\n",
       "      <td>0.0</td>\n",
       "      <td>0.0</td>\n",
       "      <td>0.0</td>\n",
       "      <td>0.0</td>\n",
       "      <td>0.0</td>\n",
       "      <td>0.0</td>\n",
       "      <td>0.0</td>\n",
       "      <td>0.0</td>\n",
       "      <td>0.0</td>\n",
       "      <td>0.0</td>\n",
       "      <td>...</td>\n",
       "      <td>0.0</td>\n",
       "      <td>0.0</td>\n",
       "      <td>0.0</td>\n",
       "      <td>0.0</td>\n",
       "      <td>0.0</td>\n",
       "      <td>0.0</td>\n",
       "      <td>0.0</td>\n",
       "      <td>0.0</td>\n",
       "      <td>0.0</td>\n",
       "      <td>0.0</td>\n",
       "    </tr>\n",
       "    <tr>\n",
       "      <th>--3WaS23LcIXtxyFULJHTA</th>\n",
       "      <td>0.0</td>\n",
       "      <td>0.0</td>\n",
       "      <td>0.0</td>\n",
       "      <td>0.0</td>\n",
       "      <td>0.0</td>\n",
       "      <td>0.0</td>\n",
       "      <td>0.0</td>\n",
       "      <td>0.0</td>\n",
       "      <td>0.0</td>\n",
       "      <td>0.0</td>\n",
       "      <td>...</td>\n",
       "      <td>0.0</td>\n",
       "      <td>0.0</td>\n",
       "      <td>0.0</td>\n",
       "      <td>0.0</td>\n",
       "      <td>0.0</td>\n",
       "      <td>0.0</td>\n",
       "      <td>0.0</td>\n",
       "      <td>0.0</td>\n",
       "      <td>0.0</td>\n",
       "      <td>0.0</td>\n",
       "    </tr>\n",
       "    <tr>\n",
       "      <th>--3l8wysfp49Z2TLnyT0vg</th>\n",
       "      <td>0.0</td>\n",
       "      <td>0.0</td>\n",
       "      <td>0.0</td>\n",
       "      <td>0.0</td>\n",
       "      <td>0.0</td>\n",
       "      <td>0.0</td>\n",
       "      <td>0.0</td>\n",
       "      <td>0.0</td>\n",
       "      <td>0.0</td>\n",
       "      <td>0.0</td>\n",
       "      <td>...</td>\n",
       "      <td>0.0</td>\n",
       "      <td>0.0</td>\n",
       "      <td>0.0</td>\n",
       "      <td>0.0</td>\n",
       "      <td>0.0</td>\n",
       "      <td>0.0</td>\n",
       "      <td>0.0</td>\n",
       "      <td>0.0</td>\n",
       "      <td>0.0</td>\n",
       "      <td>0.0</td>\n",
       "    </tr>\n",
       "  </tbody>\n",
       "</table>\n",
       "<p>5 rows × 14323 columns</p>\n",
       "</div>"
      ],
      "text/plain": [
       "business_id             --164t1nclzzmca7eDiJMw  --Q3mAcX9t63f7Xcbn7LVA  \\\n",
       "user_id                                                                  \n",
       "--0zxhZTSLZ7w1hUD2bEwA                     0.0                     0.0   \n",
       "--17Db1K-KujRuN7hY9Z0Q                     0.0                     0.0   \n",
       "--2vR0DIsmQ6WfcSzKWigw                     0.0                     0.0   \n",
       "--3WaS23LcIXtxyFULJHTA                     0.0                     0.0   \n",
       "--3l8wysfp49Z2TLnyT0vg                     0.0                     0.0   \n",
       "\n",
       "business_id             --UNNdnHRhsyFUbDgumdtQ  -0A60UZl9nbdq2WWySJ_tQ  \\\n",
       "user_id                                                                  \n",
       "--0zxhZTSLZ7w1hUD2bEwA                     0.0                     0.0   \n",
       "--17Db1K-KujRuN7hY9Z0Q                     0.0                     0.0   \n",
       "--2vR0DIsmQ6WfcSzKWigw                     0.0                     0.0   \n",
       "--3WaS23LcIXtxyFULJHTA                     0.0                     0.0   \n",
       "--3l8wysfp49Z2TLnyT0vg                     0.0                     0.0   \n",
       "\n",
       "business_id             -0iqnv7MjKrgh7Q7bYRlUQ  -0sIQ96u8XevGUXZ--pvaA  \\\n",
       "user_id                                                                  \n",
       "--0zxhZTSLZ7w1hUD2bEwA                     0.0                     0.0   \n",
       "--17Db1K-KujRuN7hY9Z0Q                     0.0                     0.0   \n",
       "--2vR0DIsmQ6WfcSzKWigw                     0.0                     0.0   \n",
       "--3WaS23LcIXtxyFULJHTA                     0.0                     0.0   \n",
       "--3l8wysfp49Z2TLnyT0vg                     0.0                     0.0   \n",
       "\n",
       "business_id             -1ShItlulHnBsoOQWnblzw  -1h2qkElNfKjUPw6brMbIw  \\\n",
       "user_id                                                                  \n",
       "--0zxhZTSLZ7w1hUD2bEwA                     0.0                     0.0   \n",
       "--17Db1K-KujRuN7hY9Z0Q                     0.0                     0.0   \n",
       "--2vR0DIsmQ6WfcSzKWigw                     0.0                     0.0   \n",
       "--3WaS23LcIXtxyFULJHTA                     0.0                     0.0   \n",
       "--3l8wysfp49Z2TLnyT0vg                     0.0                     0.0   \n",
       "\n",
       "business_id             -1mmKpu7b_NlBit2pOOPnQ  -1sIJLX71taHD-BgbwY64Q  ...  \\\n",
       "user_id                                                                 ...   \n",
       "--0zxhZTSLZ7w1hUD2bEwA                     0.0                     0.0  ...   \n",
       "--17Db1K-KujRuN7hY9Z0Q                     0.0                     0.0  ...   \n",
       "--2vR0DIsmQ6WfcSzKWigw                     0.0                     0.0  ...   \n",
       "--3WaS23LcIXtxyFULJHTA                     0.0                     0.0  ...   \n",
       "--3l8wysfp49Z2TLnyT0vg                     0.0                     0.0  ...   \n",
       "\n",
       "business_id             zvKfCAOBzVcxc1HLpoIY8A  zwKIQgthba1FUPWS7nOo0w  \\\n",
       "user_id                                                                  \n",
       "--0zxhZTSLZ7w1hUD2bEwA                     0.0                     0.0   \n",
       "--17Db1K-KujRuN7hY9Z0Q                     0.0                     0.0   \n",
       "--2vR0DIsmQ6WfcSzKWigw                     0.0                     0.0   \n",
       "--3WaS23LcIXtxyFULJHTA                     0.0                     0.0   \n",
       "--3l8wysfp49Z2TLnyT0vg                     0.0                     0.0   \n",
       "\n",
       "business_id             zwhSGiftT_yzKSEmMCol6Q  zwn53gHyn1NlX9h3jKFOUg  \\\n",
       "user_id                                                                  \n",
       "--0zxhZTSLZ7w1hUD2bEwA                     0.0                     0.0   \n",
       "--17Db1K-KujRuN7hY9Z0Q                     0.0                     0.0   \n",
       "--2vR0DIsmQ6WfcSzKWigw                     0.0                     0.0   \n",
       "--3WaS23LcIXtxyFULJHTA                     0.0                     0.0   \n",
       "--3l8wysfp49Z2TLnyT0vg                     0.0                     0.0   \n",
       "\n",
       "business_id             zyBC3BUkH9klhPhMyQmxAQ  zyHMtStYlKG67WRprp6GZQ  \\\n",
       "user_id                                                                  \n",
       "--0zxhZTSLZ7w1hUD2bEwA                     0.0                     0.0   \n",
       "--17Db1K-KujRuN7hY9Z0Q                     0.0                     0.0   \n",
       "--2vR0DIsmQ6WfcSzKWigw                     0.0                     0.0   \n",
       "--3WaS23LcIXtxyFULJHTA                     0.0                     0.0   \n",
       "--3l8wysfp49Z2TLnyT0vg                     0.0                     0.0   \n",
       "\n",
       "business_id             zyauuvAYdVweBK4L7wBRmw  zz4WGzntV59HqhefV5zigQ  \\\n",
       "user_id                                                                  \n",
       "--0zxhZTSLZ7w1hUD2bEwA                     0.0                     0.0   \n",
       "--17Db1K-KujRuN7hY9Z0Q                     0.0                     0.0   \n",
       "--2vR0DIsmQ6WfcSzKWigw                     0.0                     0.0   \n",
       "--3WaS23LcIXtxyFULJHTA                     0.0                     0.0   \n",
       "--3l8wysfp49Z2TLnyT0vg                     0.0                     0.0   \n",
       "\n",
       "business_id             zzin1d1oHi81GuI0ufo1VA  zzlkjDG9Rv8Jn-vSolMgyw  \n",
       "user_id                                                                 \n",
       "--0zxhZTSLZ7w1hUD2bEwA                     0.0                     0.0  \n",
       "--17Db1K-KujRuN7hY9Z0Q                     0.0                     0.0  \n",
       "--2vR0DIsmQ6WfcSzKWigw                     0.0                     0.0  \n",
       "--3WaS23LcIXtxyFULJHTA                     0.0                     0.0  \n",
       "--3l8wysfp49Z2TLnyT0vg                     0.0                     0.0  \n",
       "\n",
       "[5 rows x 14323 columns]"
      ]
     },
     "execution_count": 13,
     "metadata": {},
     "output_type": "execute_result"
    }
   ],
   "source": [
    "# Displaying the first few rows to get an initial glimpse of the data\n",
    "user_item_matrix.head()"
   ]
  },
  {
   "cell_type": "markdown",
   "metadata": {},
   "source": []
  },
  {
   "cell_type": "code",
   "execution_count": null,
   "metadata": {},
   "outputs": [
    {
     "ename": "",
     "evalue": "",
     "output_type": "error",
     "traceback": [
      "\u001b[1;31mCannot execute code, session has been disposed. Please try restarting the Kernel."
     ]
    },
    {
     "ename": "",
     "evalue": "",
     "output_type": "error",
     "traceback": [
      "\u001b[1;31mThe Kernel crashed while executing code in the the current cell or a previous cell. Please review the code in the cell(s) to identify a possible cause of the failure. Click <a href='https://aka.ms/vscodeJupyterKernelCrash'>here</a> for more info. View Jupyter <a href='command:jupyter.viewOutput'>log</a> for further details."
     ]
    }
   ],
   "source": [
    "similarity_scores = cosine_similarity(user_item_matrix)\n",
    "similarity_scores.shape"
   ]
  },
  {
   "cell_type": "markdown",
   "metadata": {},
   "source": []
  },
  {
   "cell_type": "code",
   "execution_count": null,
   "metadata": {},
   "outputs": [],
   "source": [
    "def recommend(business_id):\n",
    "    # Find the index of the input restaurant name in the pivot table\n",
    "    index = np.where(user_item_matrix.index == business_id)[0][0]\n",
    "\n",
    "    # Retrieve the similarity scores of the input restaurant with other restaurants,\n",
    "    # sort them in descending order, and select the top 4 similar items\n",
    "    similar_items = sorted(list(enumerate(similarity_scores[index])), key=lambda x: x[1], reverse=True)[1:5]\n",
    "\n",
    "    # Initialize an empty list to store recommended restaurant names\n",
    "    data = []\n",
    "\n",
    "    # Iterate through each similar item\n",
    "    for i in similar_items:\n",
    "        # Fetch the relevant restaurant name from the 'business_data' dataset\n",
    "        similar_business_id = user_item_matrix.index[i[0]]\n",
    "\n",
    "        # Append the restaurant name to the 'data' list\n",
    "        data.append(similar_business_id)\n",
    "\n",
    "    # Return the 'data' list containing names of the recommended restaurants\n",
    "    return data"
   ]
  },
  {
   "cell_type": "markdown",
   "metadata": {},
   "source": [
    "### Collaborative-Filtering Recommendation System with SVD <a class=\"anchor\" id=\"svd\"></a>\n",
    "\n",
    "Traditional Singular Value Decomposition is a matrix factorization technique that decomposes a given matrix into three matrices: U (user features), Σ (singular values), and V^T (item features). While traditional SVD can be applied to recommendation systems, it assumes a complete user-item interaction matrix without any missing values. This assumption is often not applicable in real-world scenarios where user-item matrices are typically sparse."
   ]
  },
  {
   "cell_type": "code",
   "execution_count": null,
   "metadata": {},
   "outputs": [
    {
     "data": {
      "text/html": [
       "<div>\n",
       "<style scoped>\n",
       "    .dataframe tbody tr th:only-of-type {\n",
       "        vertical-align: middle;\n",
       "    }\n",
       "\n",
       "    .dataframe tbody tr th {\n",
       "        vertical-align: top;\n",
       "    }\n",
       "\n",
       "    .dataframe thead th {\n",
       "        text-align: right;\n",
       "    }\n",
       "</style>\n",
       "<table border=\"1\" class=\"dataframe\">\n",
       "  <thead>\n",
       "    <tr style=\"text-align: right;\">\n",
       "      <th>restaurant_name</th>\n",
       "      <th>Gruby's New York Deli</th>\n",
       "      <th>'Ohana</th>\n",
       "      <th>/pôr/ wine house</th>\n",
       "      <th>10 Barrel Brewing Portland</th>\n",
       "      <th>10 Degrees South</th>\n",
       "      <th>101 Beer Kitchen</th>\n",
       "      <th>101 By Teahaus</th>\n",
       "      <th>101 Steak</th>\n",
       "      <th>10th &amp; Piedmont</th>\n",
       "      <th>110 Grill</th>\n",
       "      <th>...</th>\n",
       "      <th>laV</th>\n",
       "      <th>mmmpanadas</th>\n",
       "      <th>nati's southern seafood boil</th>\n",
       "      <th>sweetgreen</th>\n",
       "      <th>wagamama</th>\n",
       "      <th>wagamama - faneuil hall</th>\n",
       "      <th>wagamama - prudential</th>\n",
       "      <th>wagamama - seaport</th>\n",
       "      <th>zpizza</th>\n",
       "      <th>ñoños tacos</th>\n",
       "    </tr>\n",
       "    <tr>\n",
       "      <th>user_id</th>\n",
       "      <th></th>\n",
       "      <th></th>\n",
       "      <th></th>\n",
       "      <th></th>\n",
       "      <th></th>\n",
       "      <th></th>\n",
       "      <th></th>\n",
       "      <th></th>\n",
       "      <th></th>\n",
       "      <th></th>\n",
       "      <th></th>\n",
       "      <th></th>\n",
       "      <th></th>\n",
       "      <th></th>\n",
       "      <th></th>\n",
       "      <th></th>\n",
       "      <th></th>\n",
       "      <th></th>\n",
       "      <th></th>\n",
       "      <th></th>\n",
       "      <th></th>\n",
       "    </tr>\n",
       "  </thead>\n",
       "  <tbody>\n",
       "    <tr>\n",
       "      <th>UZRYHUjRmNrPOTjmCa4_gg</th>\n",
       "      <td>0.0</td>\n",
       "      <td>0.0</td>\n",
       "      <td>0.0</td>\n",
       "      <td>0.0</td>\n",
       "      <td>0.0</td>\n",
       "      <td>0.0</td>\n",
       "      <td>0.0</td>\n",
       "      <td>0.0</td>\n",
       "      <td>0.0</td>\n",
       "      <td>0.0</td>\n",
       "      <td>...</td>\n",
       "      <td>0.0</td>\n",
       "      <td>0.0</td>\n",
       "      <td>0.0</td>\n",
       "      <td>0.0</td>\n",
       "      <td>0.0</td>\n",
       "      <td>0.0</td>\n",
       "      <td>0.0</td>\n",
       "      <td>0.0</td>\n",
       "      <td>0.0</td>\n",
       "      <td>0.0</td>\n",
       "    </tr>\n",
       "    <tr>\n",
       "      <th>wBT7zqYaMMfsuhHKB5XqgQ</th>\n",
       "      <td>0.0</td>\n",
       "      <td>0.0</td>\n",
       "      <td>0.0</td>\n",
       "      <td>0.0</td>\n",
       "      <td>0.0</td>\n",
       "      <td>0.0</td>\n",
       "      <td>0.0</td>\n",
       "      <td>0.0</td>\n",
       "      <td>0.0</td>\n",
       "      <td>0.0</td>\n",
       "      <td>...</td>\n",
       "      <td>0.0</td>\n",
       "      <td>0.0</td>\n",
       "      <td>0.0</td>\n",
       "      <td>0.0</td>\n",
       "      <td>0.0</td>\n",
       "      <td>0.0</td>\n",
       "      <td>0.0</td>\n",
       "      <td>0.0</td>\n",
       "      <td>0.0</td>\n",
       "      <td>0.0</td>\n",
       "    </tr>\n",
       "    <tr>\n",
       "      <th>RkLluG0LGXiJgf2i9dGmDQ</th>\n",
       "      <td>0.0</td>\n",
       "      <td>0.0</td>\n",
       "      <td>0.0</td>\n",
       "      <td>0.0</td>\n",
       "      <td>0.0</td>\n",
       "      <td>0.0</td>\n",
       "      <td>0.0</td>\n",
       "      <td>0.0</td>\n",
       "      <td>0.0</td>\n",
       "      <td>0.0</td>\n",
       "      <td>...</td>\n",
       "      <td>0.0</td>\n",
       "      <td>0.0</td>\n",
       "      <td>0.0</td>\n",
       "      <td>0.0</td>\n",
       "      <td>0.0</td>\n",
       "      <td>0.0</td>\n",
       "      <td>0.0</td>\n",
       "      <td>0.0</td>\n",
       "      <td>0.0</td>\n",
       "      <td>0.0</td>\n",
       "    </tr>\n",
       "    <tr>\n",
       "      <th>5AL4m5Nh1P91HuKxewdWPQ</th>\n",
       "      <td>0.0</td>\n",
       "      <td>0.0</td>\n",
       "      <td>0.0</td>\n",
       "      <td>0.0</td>\n",
       "      <td>0.0</td>\n",
       "      <td>0.0</td>\n",
       "      <td>0.0</td>\n",
       "      <td>0.0</td>\n",
       "      <td>0.0</td>\n",
       "      <td>0.0</td>\n",
       "      <td>...</td>\n",
       "      <td>0.0</td>\n",
       "      <td>0.0</td>\n",
       "      <td>0.0</td>\n",
       "      <td>0.0</td>\n",
       "      <td>0.0</td>\n",
       "      <td>0.0</td>\n",
       "      <td>0.0</td>\n",
       "      <td>0.0</td>\n",
       "      <td>0.0</td>\n",
       "      <td>0.0</td>\n",
       "    </tr>\n",
       "    <tr>\n",
       "      <th>IBOnLGJ4jEti15dw-nasPA</th>\n",
       "      <td>0.0</td>\n",
       "      <td>0.0</td>\n",
       "      <td>0.0</td>\n",
       "      <td>0.0</td>\n",
       "      <td>0.0</td>\n",
       "      <td>0.0</td>\n",
       "      <td>0.0</td>\n",
       "      <td>0.0</td>\n",
       "      <td>0.0</td>\n",
       "      <td>0.0</td>\n",
       "      <td>...</td>\n",
       "      <td>0.0</td>\n",
       "      <td>0.0</td>\n",
       "      <td>0.0</td>\n",
       "      <td>0.0</td>\n",
       "      <td>0.0</td>\n",
       "      <td>0.0</td>\n",
       "      <td>0.0</td>\n",
       "      <td>0.0</td>\n",
       "      <td>0.0</td>\n",
       "      <td>0.0</td>\n",
       "    </tr>\n",
       "  </tbody>\n",
       "</table>\n",
       "<p>5 rows × 12192 columns</p>\n",
       "</div>"
      ],
      "text/plain": [
       "restaurant_name          Gruby's New York Deli  'Ohana  /pôr/ wine house  \\\n",
       "user_id                                                                    \n",
       "UZRYHUjRmNrPOTjmCa4_gg                     0.0     0.0               0.0   \n",
       "wBT7zqYaMMfsuhHKB5XqgQ                     0.0     0.0               0.0   \n",
       "RkLluG0LGXiJgf2i9dGmDQ                     0.0     0.0               0.0   \n",
       "5AL4m5Nh1P91HuKxewdWPQ                     0.0     0.0               0.0   \n",
       "IBOnLGJ4jEti15dw-nasPA                     0.0     0.0               0.0   \n",
       "\n",
       "restaurant_name         10 Barrel Brewing Portland  10 Degrees South  \\\n",
       "user_id                                                                \n",
       "UZRYHUjRmNrPOTjmCa4_gg                         0.0               0.0   \n",
       "wBT7zqYaMMfsuhHKB5XqgQ                         0.0               0.0   \n",
       "RkLluG0LGXiJgf2i9dGmDQ                         0.0               0.0   \n",
       "5AL4m5Nh1P91HuKxewdWPQ                         0.0               0.0   \n",
       "IBOnLGJ4jEti15dw-nasPA                         0.0               0.0   \n",
       "\n",
       "restaurant_name         101 Beer Kitchen  101 By Teahaus  101 Steak  \\\n",
       "user_id                                                               \n",
       "UZRYHUjRmNrPOTjmCa4_gg               0.0             0.0        0.0   \n",
       "wBT7zqYaMMfsuhHKB5XqgQ               0.0             0.0        0.0   \n",
       "RkLluG0LGXiJgf2i9dGmDQ               0.0             0.0        0.0   \n",
       "5AL4m5Nh1P91HuKxewdWPQ               0.0             0.0        0.0   \n",
       "IBOnLGJ4jEti15dw-nasPA               0.0             0.0        0.0   \n",
       "\n",
       "restaurant_name         10th & Piedmont  110 Grill  ...  laV  mmmpanadas  \\\n",
       "user_id                                             ...                    \n",
       "UZRYHUjRmNrPOTjmCa4_gg              0.0        0.0  ...  0.0         0.0   \n",
       "wBT7zqYaMMfsuhHKB5XqgQ              0.0        0.0  ...  0.0         0.0   \n",
       "RkLluG0LGXiJgf2i9dGmDQ              0.0        0.0  ...  0.0         0.0   \n",
       "5AL4m5Nh1P91HuKxewdWPQ              0.0        0.0  ...  0.0         0.0   \n",
       "IBOnLGJ4jEti15dw-nasPA              0.0        0.0  ...  0.0         0.0   \n",
       "\n",
       "restaurant_name         nati's southern seafood boil  sweetgreen  wagamama  \\\n",
       "user_id                                                                      \n",
       "UZRYHUjRmNrPOTjmCa4_gg                           0.0         0.0       0.0   \n",
       "wBT7zqYaMMfsuhHKB5XqgQ                           0.0         0.0       0.0   \n",
       "RkLluG0LGXiJgf2i9dGmDQ                           0.0         0.0       0.0   \n",
       "5AL4m5Nh1P91HuKxewdWPQ                           0.0         0.0       0.0   \n",
       "IBOnLGJ4jEti15dw-nasPA                           0.0         0.0       0.0   \n",
       "\n",
       "restaurant_name         wagamama - faneuil hall  wagamama - prudential  \\\n",
       "user_id                                                                  \n",
       "UZRYHUjRmNrPOTjmCa4_gg                      0.0                    0.0   \n",
       "wBT7zqYaMMfsuhHKB5XqgQ                      0.0                    0.0   \n",
       "RkLluG0LGXiJgf2i9dGmDQ                      0.0                    0.0   \n",
       "5AL4m5Nh1P91HuKxewdWPQ                      0.0                    0.0   \n",
       "IBOnLGJ4jEti15dw-nasPA                      0.0                    0.0   \n",
       "\n",
       "restaurant_name         wagamama - seaport  zpizza  ñoños tacos  \n",
       "user_id                                                          \n",
       "UZRYHUjRmNrPOTjmCa4_gg                 0.0     0.0          0.0  \n",
       "wBT7zqYaMMfsuhHKB5XqgQ                 0.0     0.0          0.0  \n",
       "RkLluG0LGXiJgf2i9dGmDQ                 0.0     0.0          0.0  \n",
       "5AL4m5Nh1P91HuKxewdWPQ                 0.0     0.0          0.0  \n",
       "IBOnLGJ4jEti15dw-nasPA                 0.0     0.0          0.0  \n",
       "\n",
       "[5 rows x 12192 columns]"
      ]
     },
     "execution_count": 11,
     "metadata": {},
     "output_type": "execute_result"
    }
   ],
   "source": [
    "# User-Item Interaction Matrix\n",
    "user_item_matrix = model_data.pivot_table(index='user_id', columns='business_id', values='ratingg').fillna(0)\n",
    "user_item_matrix.sample(5)"
   ]
  },
  {
   "cell_type": "code",
   "execution_count": null,
   "metadata": {},
   "outputs": [],
   "source": [
    "# Traditional SVD\n",
    "svd = TruncatedSVD(n_components=50) \n",
    "user_features = svd.fit_transform(user_item_matrix)"
   ]
  },
  {
   "cell_type": "code",
   "execution_count": null,
   "metadata": {},
   "outputs": [],
   "source": [
    "# Function to get top N recommendations for a user using Traditional SVD\n",
    "def get_top_N_recommendations_svd(user_id, N=5):\n",
    "    user_index = user_item_matrix.index.get_loc(user_id)\n",
    "    user_feature = user_features[user_index]\n",
    "\n",
    "    predicted_ratings = pd.Series(user_features.dot(svd.components_)[user_index])\n",
    "\n",
    "    top_recommendations = predicted_ratings.sort_values(ascending=False)\n",
    "\n",
    "    return top_recommendations.index.tolist()[:N]"
   ]
  },
  {
   "cell_type": "code",
   "execution_count": null,
   "metadata": {},
   "outputs": [
    {
     "name": "stdout",
     "output_type": "stream",
     "text": [
      "[8335, 10217, 12180, 11548, 3779]\n"
     ]
    }
   ],
   "source": [
    "# Example: Get top 5 recommendations for a user with user_id = 123 using Traditional SVD\n",
    "user_id = 'UZRYHUjRmNrPOTjmCa4_gg'\n",
    "top_recommendations_svd = get_top_N_recommendations_svd(user_id, N=5)\n",
    "print(top_recommendations_svd)"
   ]
  },
  {
   "cell_type": "code",
   "execution_count": null,
   "metadata": {},
   "outputs": [],
   "source": []
  },
  {
   "cell_type": "code",
   "execution_count": null,
   "metadata": {},
   "outputs": [],
   "source": []
  },
  {
   "cell_type": "code",
   "execution_count": null,
   "metadata": {},
   "outputs": [],
   "source": []
  },
  {
   "cell_type": "markdown",
   "metadata": {},
   "source": [
    "### Collaborative-Filtering Recommendation System with FunkSVD <a class=\"anchor\" id=\"funksvd\"></a>\n",
    "\n",
    "FunkSVD is a specific variant of SVD designed for collaborative filtering tasks in recommendation systems. It addresses the sparsity issue present in user-item interaction matrices by incorporating stochastic gradient descent to handle missing values efficiently. FunkSVD performs matrix factorization and decomposes the user-item interaction matrix into user and item latent feature matrices."
   ]
  },
  {
   "cell_type": "code",
   "execution_count": null,
   "metadata": {},
   "outputs": [],
   "source": [
    "# User-Item Interaction Matrix\n",
    "user_item_matrix = model_data.pivot_table(index='user_id', columns='business_id', values='ratingg')\n",
    "user_item_matrix.sample(5)"
   ]
  },
  {
   "cell_type": "code",
   "execution_count": null,
   "metadata": {},
   "outputs": [],
   "source": [
    "# FunkSVD\n",
    "def FunkSVD(matrix, latent_features=50, learning_rate=0.0002, epochs=100):\n",
    "    user_matrix = np.random.rand(matrix.shape[0], latent_features)\n",
    "    item_matrix = np.random.rand(matrix.shape[1], latent_features)\n",
    "    \n",
    "    for _ in range(epochs):\n",
    "        for i in range(matrix.shape[0]):\n",
    "            for j in range(matrix.shape[1]):\n",
    "                if matrix[i, j] > 0:\n",
    "                    error = matrix[i, j] - np.dot(user_matrix[i, :], item_matrix[j, :].T)\n",
    "                    for k in range(latent_features):\n",
    "                        user_matrix[i, k] += learning_rate * (2 * error * item_matrix[j, k])\n",
    "                        item_matrix[j, k] += learning_rate * (2 * error * user_matrix[i, k])\n",
    "    \n",
    "    return user_matrix, item_matrix"
   ]
  },
  {
   "cell_type": "code",
   "execution_count": null,
   "metadata": {},
   "outputs": [],
   "source": [
    "# Function to get top N recommendations for a user using FunkSVD\n",
    "def get_top_N_recommendations_funksvd(user_id, N=5):\n",
    "    user_index = user_item_matrix.index.get_loc(user_id)\n",
    "    user_feature = user_matrix[user_index]\n",
    "    predicted_ratings = pd.Series(user_matrix.dot(item_matrix.T)[user_index])\n",
    "    top_recommendations = predicted_ratings.sort_values(ascending=False)\n",
    "    return top_recommendations.index.tolist()[:N]"
   ]
  },
  {
   "cell_type": "code",
   "execution_count": null,
   "metadata": {},
   "outputs": [],
   "source": [
    "# Example: Get top 5 recommendations for a user with user_id = 123 using FunkSVD\n",
    "user_id = 123\n",
    "top_recommendations_funksvd = get_top_N_recommendations_funksvd(user_id, N=5)\n",
    "print(top_recommendations_funksvd)"
   ]
  },
  {
   "cell_type": "code",
   "execution_count": null,
   "metadata": {},
   "outputs": [],
   "source": []
  },
  {
   "cell_type": "code",
   "execution_count": null,
   "metadata": {},
   "outputs": [],
   "source": [
    "# User-Item Interaction Matrix\n",
    "user_item_matrix = model_data.pivot_table(index='user_id', columns='business_id', values='ratingg')"
   ]
  },
  {
   "cell_type": "code",
   "execution_count": null,
   "metadata": {},
   "outputs": [
    {
     "data": {
      "text/plain": [
       "(81142, 12192)"
      ]
     },
     "execution_count": 44,
     "metadata": {},
     "output_type": "execute_result"
    }
   ],
   "source": [
    "user_item_matrix.shape"
   ]
  },
  {
   "cell_type": "markdown",
   "metadata": {},
   "source": []
  },
  {
   "cell_type": "code",
   "execution_count": null,
   "metadata": {},
   "outputs": [
    {
     "data": {
      "text/html": [
       "<div>\n",
       "<style scoped>\n",
       "    .dataframe tbody tr th:only-of-type {\n",
       "        vertical-align: middle;\n",
       "    }\n",
       "\n",
       "    .dataframe tbody tr th {\n",
       "        vertical-align: top;\n",
       "    }\n",
       "\n",
       "    .dataframe thead th {\n",
       "        text-align: right;\n",
       "    }\n",
       "</style>\n",
       "<table border=\"1\" class=\"dataframe\">\n",
       "  <thead>\n",
       "    <tr style=\"text-align: right;\">\n",
       "      <th>restaurant_name</th>\n",
       "      <th>Gruby's New York Deli</th>\n",
       "      <th>'Ohana</th>\n",
       "      <th>/pôr/ wine house</th>\n",
       "      <th>10 Barrel Brewing Portland</th>\n",
       "      <th>10 Degrees South</th>\n",
       "      <th>101 Beer Kitchen</th>\n",
       "      <th>101 By Teahaus</th>\n",
       "      <th>101 Steak</th>\n",
       "      <th>10th &amp; Piedmont</th>\n",
       "      <th>110 Grill</th>\n",
       "      <th>...</th>\n",
       "      <th>laV</th>\n",
       "      <th>mmmpanadas</th>\n",
       "      <th>nati's southern seafood boil</th>\n",
       "      <th>sweetgreen</th>\n",
       "      <th>wagamama</th>\n",
       "      <th>wagamama - faneuil hall</th>\n",
       "      <th>wagamama - prudential</th>\n",
       "      <th>wagamama - seaport</th>\n",
       "      <th>zpizza</th>\n",
       "      <th>ñoños tacos</th>\n",
       "    </tr>\n",
       "    <tr>\n",
       "      <th>user_id</th>\n",
       "      <th></th>\n",
       "      <th></th>\n",
       "      <th></th>\n",
       "      <th></th>\n",
       "      <th></th>\n",
       "      <th></th>\n",
       "      <th></th>\n",
       "      <th></th>\n",
       "      <th></th>\n",
       "      <th></th>\n",
       "      <th></th>\n",
       "      <th></th>\n",
       "      <th></th>\n",
       "      <th></th>\n",
       "      <th></th>\n",
       "      <th></th>\n",
       "      <th></th>\n",
       "      <th></th>\n",
       "      <th></th>\n",
       "      <th></th>\n",
       "      <th></th>\n",
       "    </tr>\n",
       "  </thead>\n",
       "  <tbody>\n",
       "    <tr>\n",
       "      <th>--0zxhZTSLZ7w1hUD2bEwA</th>\n",
       "      <td>NaN</td>\n",
       "      <td>NaN</td>\n",
       "      <td>NaN</td>\n",
       "      <td>NaN</td>\n",
       "      <td>NaN</td>\n",
       "      <td>NaN</td>\n",
       "      <td>NaN</td>\n",
       "      <td>NaN</td>\n",
       "      <td>NaN</td>\n",
       "      <td>NaN</td>\n",
       "      <td>...</td>\n",
       "      <td>NaN</td>\n",
       "      <td>NaN</td>\n",
       "      <td>NaN</td>\n",
       "      <td>NaN</td>\n",
       "      <td>NaN</td>\n",
       "      <td>NaN</td>\n",
       "      <td>NaN</td>\n",
       "      <td>NaN</td>\n",
       "      <td>NaN</td>\n",
       "      <td>NaN</td>\n",
       "    </tr>\n",
       "    <tr>\n",
       "      <th>--17Db1K-KujRuN7hY9Z0Q</th>\n",
       "      <td>NaN</td>\n",
       "      <td>NaN</td>\n",
       "      <td>NaN</td>\n",
       "      <td>NaN</td>\n",
       "      <td>NaN</td>\n",
       "      <td>NaN</td>\n",
       "      <td>NaN</td>\n",
       "      <td>NaN</td>\n",
       "      <td>NaN</td>\n",
       "      <td>NaN</td>\n",
       "      <td>...</td>\n",
       "      <td>NaN</td>\n",
       "      <td>NaN</td>\n",
       "      <td>NaN</td>\n",
       "      <td>NaN</td>\n",
       "      <td>NaN</td>\n",
       "      <td>NaN</td>\n",
       "      <td>NaN</td>\n",
       "      <td>NaN</td>\n",
       "      <td>NaN</td>\n",
       "      <td>NaN</td>\n",
       "    </tr>\n",
       "    <tr>\n",
       "      <th>--2vR0DIsmQ6WfcSzKWigw</th>\n",
       "      <td>NaN</td>\n",
       "      <td>NaN</td>\n",
       "      <td>NaN</td>\n",
       "      <td>NaN</td>\n",
       "      <td>NaN</td>\n",
       "      <td>NaN</td>\n",
       "      <td>NaN</td>\n",
       "      <td>NaN</td>\n",
       "      <td>NaN</td>\n",
       "      <td>NaN</td>\n",
       "      <td>...</td>\n",
       "      <td>NaN</td>\n",
       "      <td>NaN</td>\n",
       "      <td>NaN</td>\n",
       "      <td>NaN</td>\n",
       "      <td>NaN</td>\n",
       "      <td>NaN</td>\n",
       "      <td>NaN</td>\n",
       "      <td>NaN</td>\n",
       "      <td>NaN</td>\n",
       "      <td>NaN</td>\n",
       "    </tr>\n",
       "    <tr>\n",
       "      <th>--3WaS23LcIXtxyFULJHTA</th>\n",
       "      <td>NaN</td>\n",
       "      <td>NaN</td>\n",
       "      <td>NaN</td>\n",
       "      <td>NaN</td>\n",
       "      <td>NaN</td>\n",
       "      <td>NaN</td>\n",
       "      <td>NaN</td>\n",
       "      <td>NaN</td>\n",
       "      <td>NaN</td>\n",
       "      <td>NaN</td>\n",
       "      <td>...</td>\n",
       "      <td>NaN</td>\n",
       "      <td>NaN</td>\n",
       "      <td>NaN</td>\n",
       "      <td>NaN</td>\n",
       "      <td>NaN</td>\n",
       "      <td>NaN</td>\n",
       "      <td>NaN</td>\n",
       "      <td>NaN</td>\n",
       "      <td>NaN</td>\n",
       "      <td>NaN</td>\n",
       "    </tr>\n",
       "    <tr>\n",
       "      <th>--3l8wysfp49Z2TLnyT0vg</th>\n",
       "      <td>NaN</td>\n",
       "      <td>NaN</td>\n",
       "      <td>NaN</td>\n",
       "      <td>NaN</td>\n",
       "      <td>NaN</td>\n",
       "      <td>NaN</td>\n",
       "      <td>NaN</td>\n",
       "      <td>NaN</td>\n",
       "      <td>NaN</td>\n",
       "      <td>NaN</td>\n",
       "      <td>...</td>\n",
       "      <td>NaN</td>\n",
       "      <td>NaN</td>\n",
       "      <td>NaN</td>\n",
       "      <td>NaN</td>\n",
       "      <td>NaN</td>\n",
       "      <td>NaN</td>\n",
       "      <td>NaN</td>\n",
       "      <td>NaN</td>\n",
       "      <td>NaN</td>\n",
       "      <td>NaN</td>\n",
       "    </tr>\n",
       "  </tbody>\n",
       "</table>\n",
       "<p>5 rows × 12192 columns</p>\n",
       "</div>"
      ],
      "text/plain": [
       "restaurant_name          Gruby's New York Deli  'Ohana  /pôr/ wine house  \\\n",
       "user_id                                                                    \n",
       "--0zxhZTSLZ7w1hUD2bEwA                     NaN     NaN               NaN   \n",
       "--17Db1K-KujRuN7hY9Z0Q                     NaN     NaN               NaN   \n",
       "--2vR0DIsmQ6WfcSzKWigw                     NaN     NaN               NaN   \n",
       "--3WaS23LcIXtxyFULJHTA                     NaN     NaN               NaN   \n",
       "--3l8wysfp49Z2TLnyT0vg                     NaN     NaN               NaN   \n",
       "\n",
       "restaurant_name         10 Barrel Brewing Portland  10 Degrees South  \\\n",
       "user_id                                                                \n",
       "--0zxhZTSLZ7w1hUD2bEwA                         NaN               NaN   \n",
       "--17Db1K-KujRuN7hY9Z0Q                         NaN               NaN   \n",
       "--2vR0DIsmQ6WfcSzKWigw                         NaN               NaN   \n",
       "--3WaS23LcIXtxyFULJHTA                         NaN               NaN   \n",
       "--3l8wysfp49Z2TLnyT0vg                         NaN               NaN   \n",
       "\n",
       "restaurant_name         101 Beer Kitchen  101 By Teahaus  101 Steak  \\\n",
       "user_id                                                               \n",
       "--0zxhZTSLZ7w1hUD2bEwA               NaN             NaN        NaN   \n",
       "--17Db1K-KujRuN7hY9Z0Q               NaN             NaN        NaN   \n",
       "--2vR0DIsmQ6WfcSzKWigw               NaN             NaN        NaN   \n",
       "--3WaS23LcIXtxyFULJHTA               NaN             NaN        NaN   \n",
       "--3l8wysfp49Z2TLnyT0vg               NaN             NaN        NaN   \n",
       "\n",
       "restaurant_name         10th & Piedmont  110 Grill  ...  laV  mmmpanadas  \\\n",
       "user_id                                             ...                    \n",
       "--0zxhZTSLZ7w1hUD2bEwA              NaN        NaN  ...  NaN         NaN   \n",
       "--17Db1K-KujRuN7hY9Z0Q              NaN        NaN  ...  NaN         NaN   \n",
       "--2vR0DIsmQ6WfcSzKWigw              NaN        NaN  ...  NaN         NaN   \n",
       "--3WaS23LcIXtxyFULJHTA              NaN        NaN  ...  NaN         NaN   \n",
       "--3l8wysfp49Z2TLnyT0vg              NaN        NaN  ...  NaN         NaN   \n",
       "\n",
       "restaurant_name         nati's southern seafood boil  sweetgreen  wagamama  \\\n",
       "user_id                                                                      \n",
       "--0zxhZTSLZ7w1hUD2bEwA                           NaN         NaN       NaN   \n",
       "--17Db1K-KujRuN7hY9Z0Q                           NaN         NaN       NaN   \n",
       "--2vR0DIsmQ6WfcSzKWigw                           NaN         NaN       NaN   \n",
       "--3WaS23LcIXtxyFULJHTA                           NaN         NaN       NaN   \n",
       "--3l8wysfp49Z2TLnyT0vg                           NaN         NaN       NaN   \n",
       "\n",
       "restaurant_name         wagamama - faneuil hall  wagamama - prudential  \\\n",
       "user_id                                                                  \n",
       "--0zxhZTSLZ7w1hUD2bEwA                      NaN                    NaN   \n",
       "--17Db1K-KujRuN7hY9Z0Q                      NaN                    NaN   \n",
       "--2vR0DIsmQ6WfcSzKWigw                      NaN                    NaN   \n",
       "--3WaS23LcIXtxyFULJHTA                      NaN                    NaN   \n",
       "--3l8wysfp49Z2TLnyT0vg                      NaN                    NaN   \n",
       "\n",
       "restaurant_name         wagamama - seaport  zpizza  ñoños tacos  \n",
       "user_id                                                          \n",
       "--0zxhZTSLZ7w1hUD2bEwA                 NaN     NaN          NaN  \n",
       "--17Db1K-KujRuN7hY9Z0Q                 NaN     NaN          NaN  \n",
       "--2vR0DIsmQ6WfcSzKWigw                 NaN     NaN          NaN  \n",
       "--3WaS23LcIXtxyFULJHTA                 NaN     NaN          NaN  \n",
       "--3l8wysfp49Z2TLnyT0vg                 NaN     NaN          NaN  \n",
       "\n",
       "[5 rows x 12192 columns]"
      ]
     },
     "execution_count": 45,
     "metadata": {},
     "output_type": "execute_result"
    }
   ],
   "source": [
    "# Displaying the first few rows to get an initial glimpse of the data\n",
    "user_item_matrix.head()"
   ]
  },
  {
   "cell_type": "code",
   "execution_count": null,
   "metadata": {},
   "outputs": [
    {
     "data": {
      "text/plain": [
       "Index([' Gruby's New York Deli', ''Ohana', '/pôr/ wine house',\n",
       "       '10 Barrel Brewing Portland', '10 Degrees South', '101 Beer Kitchen',\n",
       "       '101 By Teahaus', '101 Steak', '10th & Piedmont', '110 Grill',\n",
       "       ...\n",
       "       'laV', 'mmmpanadas', 'nati's southern seafood boil', 'sweetgreen',\n",
       "       'wagamama', 'wagamama - faneuil hall', 'wagamama - prudential',\n",
       "       'wagamama - seaport', 'zpizza', 'ñoños tacos'],\n",
       "      dtype='object', name='restaurant_name', length=12192)"
      ]
     },
     "execution_count": 60,
     "metadata": {},
     "output_type": "execute_result"
    }
   ],
   "source": [
    "user_item_matrix.columns"
   ]
  },
  {
   "cell_type": "code",
   "execution_count": null,
   "metadata": {},
   "outputs": [],
   "source": [
    "# Set the reader with accurate rating scale\n",
    "my_reader = Reader(rating_scale=(1, 5))\n",
    "\n",
    "# Create the dataset using the reader object and the rating DataFrame\n",
    "my_dataset = Dataset.load_from_df(model_data[['user_id', 'business_id', 'ratingg']], my_reader)"
   ]
  },
  {
   "cell_type": "code",
   "execution_count": null,
   "metadata": {},
   "outputs": [
    {
     "data": {
      "text/plain": [
       "<surprise.dataset.DatasetAutoFolds at 0x3d8ed9bb0>"
      ]
     },
     "execution_count": 47,
     "metadata": {},
     "output_type": "execute_result"
    }
   ],
   "source": [
    "my_dataset"
   ]
  },
  {
   "cell_type": "code",
   "execution_count": null,
   "metadata": {},
   "outputs": [
    {
     "name": "stdout",
     "output_type": "stream",
     "text": [
      "Best Hyperparameters: {'n_factors': 100, 'n_epochs': 10, 'lr_all': 0.005, 'biased': False}\n"
     ]
    }
   ],
   "source": [
    "# Set the parameter grid\n",
    "param_grid = {\n",
    "    'n_factors': [100, 150], \n",
    "    'n_epochs': [10, 20],\n",
    "    'lr_all': [0.005, 0.1],\n",
    "    'biased': [False] } #The parameter indicates to the algorithm that all latent information must be stored. \n",
    "\n",
    "# Set GridSearchCV with 3 cross-validation\n",
    "GS = GridSearchCV(SVD, param_grid, measures=['fcp'], cv=3)\n",
    "\n",
    "# Fit the model with the grid search on the training set\n",
    "GS.fit(my_dataset)\n",
    "\n",
    "# Get the best hyperparameters\n",
    "best_params = GS.best_params['fcp']\n",
    "print(\"Best Hyperparameters:\", best_params)"
   ]
  },
  {
   "cell_type": "code",
   "execution_count": null,
   "metadata": {},
   "outputs": [],
   "source": []
  },
  {
   "cell_type": "code",
   "execution_count": null,
   "metadata": {},
   "outputs": [],
   "source": [
    "# Split train-test set \n",
    "trainset, testset = train_test_split(my_dataset, test_size=0.25)"
   ]
  },
  {
   "cell_type": "code",
   "execution_count": null,
   "metadata": {},
   "outputs": [],
   "source": [
    "# Set the algorithm\n",
    "my_svd = FunkSVD(n_factors=100, \n",
    "                 n_epochs=10, \n",
    "                 lr_all=0.005, \n",
    "                 biased=False,\n",
    "                 verbose=0)\n",
    "# Fit train set\n",
    "my_svd.fit(trainset)\n",
    "\n",
    "# Test the algorithm using test set\n",
    "my_pred = my_svd.test(testset)"
   ]
  },
  {
   "cell_type": "code",
   "execution_count": null,
   "metadata": {},
   "outputs": [
    {
     "data": {
      "text/plain": [
       "array([[ 0.06194114, -0.14112599, -0.31683039, ..., -0.16282319,\n",
       "         0.17948535, -0.2134076 ],\n",
       "       [-0.34110531,  0.29034201, -0.00711049, ...,  0.06596525,\n",
       "         0.34702696, -0.17407634],\n",
       "       [-0.13488896,  0.43430532, -0.50093401, ..., -0.14135051,\n",
       "         0.17353653,  0.30471074],\n",
       "       ...,\n",
       "       [-0.02159553,  0.13798291,  0.01950472, ..., -0.07777211,\n",
       "        -0.0902592 , -0.04440696],\n",
       "       [-0.08594597,  0.1347763 , -0.08041756, ...,  0.09145995,\n",
       "         0.18483861, -0.16068039],\n",
       "       [-0.19825591, -0.11820167, -0.01589753, ...,  0.19685929,\n",
       "         0.00525314, -0.26347986]])"
      ]
     },
     "execution_count": 52,
     "metadata": {},
     "output_type": "execute_result"
    }
   ],
   "source": [
    "# Access the P and Q matrices from the fitted model\n",
    "P = my_svd.pu  # User matrix (P)\n",
    "P\n",
    "Q = my_svd.qi  # Item matrix (Q)\n",
    "Q"
   ]
  },
  {
   "cell_type": "code",
   "execution_count": null,
   "metadata": {},
   "outputs": [],
   "source": [
    "# Put my_pred result in a dataframe\n",
    "df_prediction = pd.DataFrame(my_pred, columns=['user_id',\n",
    "                                                'business_id',\n",
    "                                                'actual',\n",
    "                                                'prediction',\n",
    "                                                'details'])\n",
    "\n",
    "# Calculate the difference of actual and prediction into diff column\n",
    "df_prediction['diff'] = abs(df_prediction['prediction'] - \n",
    "                            df_prediction['actual'])"
   ]
  },
  {
   "cell_type": "code",
   "execution_count": null,
   "metadata": {},
   "outputs": [
    {
     "data": {
      "text/html": [
       "<div>\n",
       "<style scoped>\n",
       "    .dataframe tbody tr th:only-of-type {\n",
       "        vertical-align: middle;\n",
       "    }\n",
       "\n",
       "    .dataframe tbody tr th {\n",
       "        vertical-align: top;\n",
       "    }\n",
       "\n",
       "    .dataframe thead th {\n",
       "        text-align: right;\n",
       "    }\n",
       "</style>\n",
       "<table border=\"1\" class=\"dataframe\">\n",
       "  <thead>\n",
       "    <tr style=\"text-align: right;\">\n",
       "      <th></th>\n",
       "      <th>user_id</th>\n",
       "      <th>business_id</th>\n",
       "      <th>actual</th>\n",
       "      <th>prediction</th>\n",
       "      <th>details</th>\n",
       "      <th>diff</th>\n",
       "    </tr>\n",
       "  </thead>\n",
       "  <tbody>\n",
       "    <tr>\n",
       "      <th>0</th>\n",
       "      <td>hYlCMQ278BvKv9IP9v_m4w</td>\n",
       "      <td>Dinesty Dumpling House</td>\n",
       "      <td>1.0</td>\n",
       "      <td>3.298706</td>\n",
       "      <td>{'was_impossible': False}</td>\n",
       "      <td>2.298706</td>\n",
       "    </tr>\n",
       "    <tr>\n",
       "      <th>1</th>\n",
       "      <td>XUQjZyApQXImNifP-2tAFQ</td>\n",
       "      <td>The Original Hoffbrau</td>\n",
       "      <td>5.0</td>\n",
       "      <td>3.201321</td>\n",
       "      <td>{'was_impossible': False}</td>\n",
       "      <td>1.798679</td>\n",
       "    </tr>\n",
       "    <tr>\n",
       "      <th>2</th>\n",
       "      <td>Pf7FI0OukC_CEcCz0ZxoUw</td>\n",
       "      <td>KOi Fusion</td>\n",
       "      <td>5.0</td>\n",
       "      <td>4.448637</td>\n",
       "      <td>{'was_impossible': False}</td>\n",
       "      <td>0.551363</td>\n",
       "    </tr>\n",
       "    <tr>\n",
       "      <th>3</th>\n",
       "      <td>g37Y_WmgPcJI9bf_kPV2Og</td>\n",
       "      <td>First Printer</td>\n",
       "      <td>4.0</td>\n",
       "      <td>2.085826</td>\n",
       "      <td>{'was_impossible': False}</td>\n",
       "      <td>1.914174</td>\n",
       "    </tr>\n",
       "    <tr>\n",
       "      <th>4</th>\n",
       "      <td>ZveYZ3n1IOjP9H4HfFn3Yg</td>\n",
       "      <td>Fabian's</td>\n",
       "      <td>5.0</td>\n",
       "      <td>3.457422</td>\n",
       "      <td>{'was_impossible': False}</td>\n",
       "      <td>1.542578</td>\n",
       "    </tr>\n",
       "  </tbody>\n",
       "</table>\n",
       "</div>"
      ],
      "text/plain": [
       "                  user_id             business_id  actual  prediction  \\\n",
       "0  hYlCMQ278BvKv9IP9v_m4w  Dinesty Dumpling House     1.0    3.298706   \n",
       "1  XUQjZyApQXImNifP-2tAFQ   The Original Hoffbrau     5.0    3.201321   \n",
       "2  Pf7FI0OukC_CEcCz0ZxoUw              KOi Fusion     5.0    4.448637   \n",
       "3  g37Y_WmgPcJI9bf_kPV2Og           First Printer     4.0    2.085826   \n",
       "4  ZveYZ3n1IOjP9H4HfFn3Yg                Fabian's     5.0    3.457422   \n",
       "\n",
       "                     details      diff  \n",
       "0  {'was_impossible': False}  2.298706  \n",
       "1  {'was_impossible': False}  1.798679  \n",
       "2  {'was_impossible': False}  0.551363  \n",
       "3  {'was_impossible': False}  1.914174  \n",
       "4  {'was_impossible': False}  1.542578  "
      ]
     },
     "execution_count": 54,
     "metadata": {},
     "output_type": "execute_result"
    }
   ],
   "source": [
    "# Check the df_prediction\n",
    "df_prediction.head()"
   ]
  },
  {
   "cell_type": "code",
   "execution_count": null,
   "metadata": {},
   "outputs": [
    {
     "data": {
      "text/html": [
       "<div>\n",
       "<style scoped>\n",
       "    .dataframe tbody tr th:only-of-type {\n",
       "        vertical-align: middle;\n",
       "    }\n",
       "\n",
       "    .dataframe tbody tr th {\n",
       "        vertical-align: top;\n",
       "    }\n",
       "\n",
       "    .dataframe thead th {\n",
       "        text-align: right;\n",
       "    }\n",
       "</style>\n",
       "<table border=\"1\" class=\"dataframe\">\n",
       "  <thead>\n",
       "    <tr style=\"text-align: right;\">\n",
       "      <th></th>\n",
       "      <th>user_id</th>\n",
       "      <th>business_id</th>\n",
       "      <th>actual</th>\n",
       "      <th>prediction</th>\n",
       "      <th>details</th>\n",
       "      <th>diff</th>\n",
       "    </tr>\n",
       "  </thead>\n",
       "  <tbody>\n",
       "    <tr>\n",
       "      <th>242072</th>\n",
       "      <td>UZ8_xqhiguIYb9Lu2Wu8og</td>\n",
       "      <td>Museum Of Fine Arts</td>\n",
       "      <td>5.0</td>\n",
       "      <td>5.0</td>\n",
       "      <td>{'was_impossible': False}</td>\n",
       "      <td>0.0</td>\n",
       "    </tr>\n",
       "    <tr>\n",
       "      <th>49595</th>\n",
       "      <td>9EB_WZ5Lw991mrnfkzkqvQ</td>\n",
       "      <td>Sushi Zanmai</td>\n",
       "      <td>5.0</td>\n",
       "      <td>5.0</td>\n",
       "      <td>{'was_impossible': False}</td>\n",
       "      <td>0.0</td>\n",
       "    </tr>\n",
       "    <tr>\n",
       "      <th>102938</th>\n",
       "      <td>oSN3M4_WKdlTsnpgqPDiBg</td>\n",
       "      <td>Powell's City of Books</td>\n",
       "      <td>5.0</td>\n",
       "      <td>5.0</td>\n",
       "      <td>{'was_impossible': False}</td>\n",
       "      <td>0.0</td>\n",
       "    </tr>\n",
       "    <tr>\n",
       "      <th>240896</th>\n",
       "      <td>lGxssT2UmyNZQZWwPDgX3A</td>\n",
       "      <td>Bar Mezzana</td>\n",
       "      <td>5.0</td>\n",
       "      <td>5.0</td>\n",
       "      <td>{'was_impossible': False}</td>\n",
       "      <td>0.0</td>\n",
       "    </tr>\n",
       "    <tr>\n",
       "      <th>102990</th>\n",
       "      <td>0d89GUvxpJG4oFeL9rtUxQ</td>\n",
       "      <td>Tako Cheena</td>\n",
       "      <td>5.0</td>\n",
       "      <td>5.0</td>\n",
       "      <td>{'was_impossible': False}</td>\n",
       "      <td>0.0</td>\n",
       "    </tr>\n",
       "    <tr>\n",
       "      <th>240911</th>\n",
       "      <td>nxI8n6lARJpMP5SI8U9S6w</td>\n",
       "      <td>Le Pigeon</td>\n",
       "      <td>5.0</td>\n",
       "      <td>5.0</td>\n",
       "      <td>{'was_impossible': False}</td>\n",
       "      <td>0.0</td>\n",
       "    </tr>\n",
       "    <tr>\n",
       "      <th>6394</th>\n",
       "      <td>g3UbQdtWX1Luh9_FGIeCAw</td>\n",
       "      <td>Schmidt's Sausage Haus</td>\n",
       "      <td>5.0</td>\n",
       "      <td>5.0</td>\n",
       "      <td>{'was_impossible': False}</td>\n",
       "      <td>0.0</td>\n",
       "    </tr>\n",
       "    <tr>\n",
       "      <th>102997</th>\n",
       "      <td>Je-c4Qu5od0DwPmYeHYOVg</td>\n",
       "      <td>Screen Door</td>\n",
       "      <td>5.0</td>\n",
       "      <td>5.0</td>\n",
       "      <td>{'was_impossible': False}</td>\n",
       "      <td>0.0</td>\n",
       "    </tr>\n",
       "    <tr>\n",
       "      <th>280476</th>\n",
       "      <td>krWkC-U2U_YAtYdAvuRwAQ</td>\n",
       "      <td>Santarpio's Pizza</td>\n",
       "      <td>5.0</td>\n",
       "      <td>5.0</td>\n",
       "      <td>{'was_impossible': False}</td>\n",
       "      <td>0.0</td>\n",
       "    </tr>\n",
       "    <tr>\n",
       "      <th>49526</th>\n",
       "      <td>7mL5GK8Qt3iIkNHfPsGnkg</td>\n",
       "      <td>Ball Square Cafe</td>\n",
       "      <td>5.0</td>\n",
       "      <td>5.0</td>\n",
       "      <td>{'was_impossible': False}</td>\n",
       "      <td>0.0</td>\n",
       "    </tr>\n",
       "  </tbody>\n",
       "</table>\n",
       "</div>"
      ],
      "text/plain": [
       "                       user_id             business_id  actual  prediction  \\\n",
       "242072  UZ8_xqhiguIYb9Lu2Wu8og     Museum Of Fine Arts     5.0         5.0   \n",
       "49595   9EB_WZ5Lw991mrnfkzkqvQ            Sushi Zanmai     5.0         5.0   \n",
       "102938  oSN3M4_WKdlTsnpgqPDiBg  Powell's City of Books     5.0         5.0   \n",
       "240896  lGxssT2UmyNZQZWwPDgX3A             Bar Mezzana     5.0         5.0   \n",
       "102990  0d89GUvxpJG4oFeL9rtUxQ             Tako Cheena     5.0         5.0   \n",
       "240911  nxI8n6lARJpMP5SI8U9S6w               Le Pigeon     5.0         5.0   \n",
       "6394    g3UbQdtWX1Luh9_FGIeCAw  Schmidt's Sausage Haus     5.0         5.0   \n",
       "102997  Je-c4Qu5od0DwPmYeHYOVg             Screen Door     5.0         5.0   \n",
       "280476  krWkC-U2U_YAtYdAvuRwAQ       Santarpio's Pizza     5.0         5.0   \n",
       "49526   7mL5GK8Qt3iIkNHfPsGnkg        Ball Square Cafe     5.0         5.0   \n",
       "\n",
       "                          details  diff  \n",
       "242072  {'was_impossible': False}   0.0  \n",
       "49595   {'was_impossible': False}   0.0  \n",
       "102938  {'was_impossible': False}   0.0  \n",
       "240896  {'was_impossible': False}   0.0  \n",
       "102990  {'was_impossible': False}   0.0  \n",
       "240911  {'was_impossible': False}   0.0  \n",
       "6394    {'was_impossible': False}   0.0  \n",
       "102997  {'was_impossible': False}   0.0  \n",
       "280476  {'was_impossible': False}   0.0  \n",
       "49526   {'was_impossible': False}   0.0  "
      ]
     },
     "execution_count": 55,
     "metadata": {},
     "output_type": "execute_result"
    }
   ],
   "source": [
    "# See the best 10 predictions\n",
    "df_prediction.sort_values(by='diff')[:10]"
   ]
  },
  {
   "cell_type": "code",
   "execution_count": null,
   "metadata": {},
   "outputs": [
    {
     "data": {
      "text/plain": [
       "0.6014563800547057"
      ]
     },
     "execution_count": 56,
     "metadata": {},
     "output_type": "execute_result"
    }
   ],
   "source": [
    "(df_prediction[\"diff\"] <= 1).mean()"
   ]
  },
  {
   "cell_type": "code",
   "execution_count": null,
   "metadata": {},
   "outputs": [],
   "source": []
  },
  {
   "cell_type": "markdown",
   "metadata": {},
   "source": []
  },
  {
   "cell_type": "code",
   "execution_count": null,
   "metadata": {},
   "outputs": [],
   "source": []
  },
  {
   "cell_type": "code",
   "execution_count": null,
   "metadata": {},
   "outputs": [
    {
     "name": "stdout",
     "output_type": "stream",
     "text": [
      "RMSE: 1.3122\n",
      "MAE:  1.0054\n"
     ]
    }
   ],
   "source": [
    "# Calculate RMSE\n",
    "rmse = accuracy.rmse(my_pred)\n",
    "\n",
    "# Calculate MAE\n",
    "mae = accuracy.mae(my_pred)"
   ]
  },
  {
   "cell_type": "code",
   "execution_count": null,
   "metadata": {},
   "outputs": [],
   "source": []
  },
  {
   "cell_type": "code",
   "execution_count": null,
   "metadata": {},
   "outputs": [],
   "source": [
    "def recommend(business_id, user_item_matrix, P, Q, top_n=5):\n",
    "    # Find the index of the input restaurant name in the pivot table\n",
    "    index = user_item_matrix.index.get_loc(business_id)\n",
    "\n",
    "    # Predict the ratings for the input restaurant using the FunkSVD model\n",
    "    predicted_ratings = np.dot(P, Q.T)\n",
    "    restaurant_ratings = predicted_ratings[index, :]\n",
    "\n",
    "    # Get the indices of top recommended restaurants based on predicted ratings\n",
    "    top_indices = np.argsort(restaurant_ratings)[::-1][:top_n]\n",
    "\n",
    "    # Convert the indices to restaurant names\n",
    "    recommended_restaurants = user_item_matrix.columns[top_indices]\n",
    "\n",
    "    return recommended_restaurants"
   ]
  },
  {
   "cell_type": "code",
   "execution_count": null,
   "metadata": {},
   "outputs": [
    {
     "ename": "KeyError",
     "evalue": "'Miku'",
     "output_type": "error",
     "traceback": [
      "\u001b[0;31m---------------------------------------------------------------------------\u001b[0m",
      "\u001b[0;31mKeyError\u001b[0m                                  Traceback (most recent call last)",
      "File \u001b[0;32m~/anaconda3/envs/bigdata_ml/lib/python3.8/site-packages/pandas/core/indexes/base.py:3653\u001b[0m, in \u001b[0;36mIndex.get_loc\u001b[0;34m(self, key)\u001b[0m\n\u001b[1;32m   3652\u001b[0m \u001b[39mtry\u001b[39;00m:\n\u001b[0;32m-> 3653\u001b[0m     \u001b[39mreturn\u001b[39;00m \u001b[39mself\u001b[39;49m\u001b[39m.\u001b[39;49m_engine\u001b[39m.\u001b[39;49mget_loc(casted_key)\n\u001b[1;32m   3654\u001b[0m \u001b[39mexcept\u001b[39;00m \u001b[39mKeyError\u001b[39;00m \u001b[39mas\u001b[39;00m err:\n",
      "File \u001b[0;32m~/anaconda3/envs/bigdata_ml/lib/python3.8/site-packages/pandas/_libs/index.pyx:147\u001b[0m, in \u001b[0;36mpandas._libs.index.IndexEngine.get_loc\u001b[0;34m()\u001b[0m\n",
      "File \u001b[0;32m~/anaconda3/envs/bigdata_ml/lib/python3.8/site-packages/pandas/_libs/index.pyx:176\u001b[0m, in \u001b[0;36mpandas._libs.index.IndexEngine.get_loc\u001b[0;34m()\u001b[0m\n",
      "File \u001b[0;32mpandas/_libs/hashtable_class_helper.pxi:7080\u001b[0m, in \u001b[0;36mpandas._libs.hashtable.PyObjectHashTable.get_item\u001b[0;34m()\u001b[0m\n",
      "File \u001b[0;32mpandas/_libs/hashtable_class_helper.pxi:7088\u001b[0m, in \u001b[0;36mpandas._libs.hashtable.PyObjectHashTable.get_item\u001b[0;34m()\u001b[0m\n",
      "\u001b[0;31mKeyError\u001b[0m: 'Miku'",
      "\nThe above exception was the direct cause of the following exception:\n",
      "\u001b[0;31mKeyError\u001b[0m                                  Traceback (most recent call last)",
      "Cell \u001b[0;32mIn[59], line 1\u001b[0m\n\u001b[0;32m----> 1\u001b[0m recommend(\u001b[39m'\u001b[39;49m\u001b[39mMiku\u001b[39;49m\u001b[39m'\u001b[39;49m, user_item_matrix, P, Q, top_n\u001b[39m=\u001b[39;49m\u001b[39m5\u001b[39;49m)\n",
      "Cell \u001b[0;32mIn[58], line 3\u001b[0m, in \u001b[0;36mrecommend\u001b[0;34m(restaurant_name, user_item_matrix, P, Q, top_n)\u001b[0m\n\u001b[1;32m      1\u001b[0m \u001b[39mdef\u001b[39;00m \u001b[39mrecommend\u001b[39m(restaurant_name, user_item_matrix, P, Q, top_n\u001b[39m=\u001b[39m\u001b[39m5\u001b[39m):\n\u001b[1;32m      2\u001b[0m     \u001b[39m# Find the index of the input restaurant name in the pivot table\u001b[39;00m\n\u001b[0;32m----> 3\u001b[0m     index \u001b[39m=\u001b[39m user_item_matrix\u001b[39m.\u001b[39;49mindex\u001b[39m.\u001b[39;49mget_loc(restaurant_name)\n\u001b[1;32m      5\u001b[0m     \u001b[39m# Predict the ratings for the input restaurant using the FunkSVD model\u001b[39;00m\n\u001b[1;32m      6\u001b[0m     predicted_ratings \u001b[39m=\u001b[39m np\u001b[39m.\u001b[39mdot(P, Q\u001b[39m.\u001b[39mT)\n",
      "File \u001b[0;32m~/anaconda3/envs/bigdata_ml/lib/python3.8/site-packages/pandas/core/indexes/base.py:3655\u001b[0m, in \u001b[0;36mIndex.get_loc\u001b[0;34m(self, key)\u001b[0m\n\u001b[1;32m   3653\u001b[0m     \u001b[39mreturn\u001b[39;00m \u001b[39mself\u001b[39m\u001b[39m.\u001b[39m_engine\u001b[39m.\u001b[39mget_loc(casted_key)\n\u001b[1;32m   3654\u001b[0m \u001b[39mexcept\u001b[39;00m \u001b[39mKeyError\u001b[39;00m \u001b[39mas\u001b[39;00m err:\n\u001b[0;32m-> 3655\u001b[0m     \u001b[39mraise\u001b[39;00m \u001b[39mKeyError\u001b[39;00m(key) \u001b[39mfrom\u001b[39;00m \u001b[39merr\u001b[39;00m\n\u001b[1;32m   3656\u001b[0m \u001b[39mexcept\u001b[39;00m \u001b[39mTypeError\u001b[39;00m:\n\u001b[1;32m   3657\u001b[0m     \u001b[39m# If we have a listlike key, _check_indexing_error will raise\u001b[39;00m\n\u001b[1;32m   3658\u001b[0m     \u001b[39m#  InvalidIndexError. Otherwise we fall through and re-raise\u001b[39;00m\n\u001b[1;32m   3659\u001b[0m     \u001b[39m#  the TypeError.\u001b[39;00m\n\u001b[1;32m   3660\u001b[0m     \u001b[39mself\u001b[39m\u001b[39m.\u001b[39m_check_indexing_error(key)\n",
      "\u001b[0;31mKeyError\u001b[0m: 'Miku'"
     ]
    }
   ],
   "source": [
    "recommend('Miku', user_item_matrix, P, Q, top_n=5)"
   ]
  },
  {
   "cell_type": "code",
   "execution_count": null,
   "metadata": {},
   "outputs": [],
   "source": []
  },
  {
   "cell_type": "code",
   "execution_count": null,
   "metadata": {},
   "outputs": [],
   "source": []
  },
  {
   "cell_type": "markdown",
   "metadata": {},
   "source": [
    "### Item-Item Collaborative-Filtering Recommendation System \n"
   ]
  },
  {
   "cell_type": "code",
   "execution_count": null,
   "metadata": {},
   "outputs": [
    {
     "ename": "ValueError",
     "evalue": "Index contains duplicate entries, cannot reshape",
     "output_type": "error",
     "traceback": [
      "\u001b[0;31m---------------------------------------------------------------------------\u001b[0m",
      "\u001b[0;31mValueError\u001b[0m                                Traceback (most recent call last)",
      "Cell \u001b[0;32mIn[21], line 6\u001b[0m\n\u001b[1;32m      3\u001b[0m     item_sim \u001b[39m=\u001b[39m np\u001b[39m.\u001b[39mcorrcoef(pivot_df\u001b[39m.\u001b[39mT)\n\u001b[1;32m      4\u001b[0m     \u001b[39mreturn\u001b[39;00m item_sim\n\u001b[0;32m----> 6\u001b[0m item_sim_matrix \u001b[39m=\u001b[39m item_similarity_matrix(final_data)\n",
      "Cell \u001b[0;32mIn[21], line 2\u001b[0m, in \u001b[0;36mitem_similarity_matrix\u001b[0;34m(df)\u001b[0m\n\u001b[1;32m      1\u001b[0m \u001b[39mdef\u001b[39;00m \u001b[39mitem_similarity_matrix\u001b[39m(df):\n\u001b[0;32m----> 2\u001b[0m     pivot_df \u001b[39m=\u001b[39m df\u001b[39m.\u001b[39;49mpivot(index\u001b[39m=\u001b[39;49m\u001b[39m'\u001b[39;49m\u001b[39muser_id\u001b[39;49m\u001b[39m'\u001b[39;49m, columns\u001b[39m=\u001b[39;49m\u001b[39m'\u001b[39;49m\u001b[39mrestaurant_name\u001b[39;49m\u001b[39m'\u001b[39;49m, values\u001b[39m=\u001b[39;49m\u001b[39m'\u001b[39;49m\u001b[39mstars\u001b[39;49m\u001b[39m'\u001b[39;49m)\u001b[39m.\u001b[39mfillna(\u001b[39m0\u001b[39m)\n\u001b[1;32m      3\u001b[0m     item_sim \u001b[39m=\u001b[39m np\u001b[39m.\u001b[39mcorrcoef(pivot_df\u001b[39m.\u001b[39mT)\n\u001b[1;32m      4\u001b[0m     \u001b[39mreturn\u001b[39;00m item_sim\n",
      "File \u001b[0;32m~/anaconda3/envs/bigdata_ml/lib/python3.8/site-packages/pandas/core/frame.py:8414\u001b[0m, in \u001b[0;36mDataFrame.pivot\u001b[0;34m(self, columns, index, values)\u001b[0m\n\u001b[1;32m   8409\u001b[0m \u001b[39m@Substitution\u001b[39m(\u001b[39m\"\u001b[39m\u001b[39m\"\u001b[39m)\n\u001b[1;32m   8410\u001b[0m \u001b[39m@Appender\u001b[39m(_shared_docs[\u001b[39m\"\u001b[39m\u001b[39mpivot\u001b[39m\u001b[39m\"\u001b[39m])\n\u001b[1;32m   8411\u001b[0m \u001b[39mdef\u001b[39;00m \u001b[39mpivot\u001b[39m(\u001b[39mself\u001b[39m, \u001b[39m*\u001b[39m, columns, index\u001b[39m=\u001b[39mlib\u001b[39m.\u001b[39mNoDefault, values\u001b[39m=\u001b[39mlib\u001b[39m.\u001b[39mNoDefault) \u001b[39m-\u001b[39m\u001b[39m>\u001b[39m DataFrame:\n\u001b[1;32m   8412\u001b[0m     \u001b[39mfrom\u001b[39;00m \u001b[39mpandas\u001b[39;00m\u001b[39m.\u001b[39;00m\u001b[39mcore\u001b[39;00m\u001b[39m.\u001b[39;00m\u001b[39mreshape\u001b[39;00m\u001b[39m.\u001b[39;00m\u001b[39mpivot\u001b[39;00m \u001b[39mimport\u001b[39;00m pivot\n\u001b[0;32m-> 8414\u001b[0m     \u001b[39mreturn\u001b[39;00m pivot(\u001b[39mself\u001b[39;49m, index\u001b[39m=\u001b[39;49mindex, columns\u001b[39m=\u001b[39;49mcolumns, values\u001b[39m=\u001b[39;49mvalues)\n",
      "File \u001b[0;32m~/anaconda3/envs/bigdata_ml/lib/python3.8/site-packages/pandas/core/reshape/pivot.py:557\u001b[0m, in \u001b[0;36mpivot\u001b[0;34m(data, columns, index, values)\u001b[0m\n\u001b[1;32m    553\u001b[0m         indexed \u001b[39m=\u001b[39m data\u001b[39m.\u001b[39m_constructor_sliced(data[values]\u001b[39m.\u001b[39m_values, index\u001b[39m=\u001b[39mmultiindex)\n\u001b[1;32m    554\u001b[0m \u001b[39m# error: Argument 1 to \"unstack\" of \"DataFrame\" has incompatible type \"Union\u001b[39;00m\n\u001b[1;32m    555\u001b[0m \u001b[39m# [List[Any], ExtensionArray, ndarray[Any, Any], Index, Series]\"; expected\u001b[39;00m\n\u001b[1;32m    556\u001b[0m \u001b[39m# \"Hashable\"\u001b[39;00m\n\u001b[0;32m--> 557\u001b[0m result \u001b[39m=\u001b[39m indexed\u001b[39m.\u001b[39;49munstack(columns_listlike)  \u001b[39m# type: ignore[arg-type]\u001b[39;00m\n\u001b[1;32m    558\u001b[0m result\u001b[39m.\u001b[39mindex\u001b[39m.\u001b[39mnames \u001b[39m=\u001b[39m [\n\u001b[1;32m    559\u001b[0m     name \u001b[39mif\u001b[39;00m name \u001b[39mis\u001b[39;00m \u001b[39mnot\u001b[39;00m lib\u001b[39m.\u001b[39mNoDefault \u001b[39melse\u001b[39;00m \u001b[39mNone\u001b[39;00m \u001b[39mfor\u001b[39;00m name \u001b[39min\u001b[39;00m result\u001b[39m.\u001b[39mindex\u001b[39m.\u001b[39mnames\n\u001b[1;32m    560\u001b[0m ]\n\u001b[1;32m    562\u001b[0m \u001b[39mreturn\u001b[39;00m result\n",
      "File \u001b[0;32m~/anaconda3/envs/bigdata_ml/lib/python3.8/site-packages/pandas/core/series.py:4313\u001b[0m, in \u001b[0;36mSeries.unstack\u001b[0;34m(self, level, fill_value)\u001b[0m\n\u001b[1;32m   4270\u001b[0m \u001b[39m\u001b[39m\u001b[39m\"\"\"\u001b[39;00m\n\u001b[1;32m   4271\u001b[0m \u001b[39mUnstack, also known as pivot, Series with MultiIndex to produce DataFrame.\u001b[39;00m\n\u001b[1;32m   4272\u001b[0m \n\u001b[0;32m   (...)\u001b[0m\n\u001b[1;32m   4309\u001b[0m \u001b[39mb    2    4\u001b[39;00m\n\u001b[1;32m   4310\u001b[0m \u001b[39m\"\"\"\u001b[39;00m\n\u001b[1;32m   4311\u001b[0m \u001b[39mfrom\u001b[39;00m \u001b[39mpandas\u001b[39;00m\u001b[39m.\u001b[39;00m\u001b[39mcore\u001b[39;00m\u001b[39m.\u001b[39;00m\u001b[39mreshape\u001b[39;00m\u001b[39m.\u001b[39;00m\u001b[39mreshape\u001b[39;00m \u001b[39mimport\u001b[39;00m unstack\n\u001b[0;32m-> 4313\u001b[0m \u001b[39mreturn\u001b[39;00m unstack(\u001b[39mself\u001b[39;49m, level, fill_value)\n",
      "File \u001b[0;32m~/anaconda3/envs/bigdata_ml/lib/python3.8/site-packages/pandas/core/reshape/reshape.py:488\u001b[0m, in \u001b[0;36munstack\u001b[0;34m(obj, level, fill_value)\u001b[0m\n\u001b[1;32m    486\u001b[0m \u001b[39mif\u001b[39;00m is_1d_only_ea_dtype(obj\u001b[39m.\u001b[39mdtype):\n\u001b[1;32m    487\u001b[0m     \u001b[39mreturn\u001b[39;00m _unstack_extension_series(obj, level, fill_value)\n\u001b[0;32m--> 488\u001b[0m unstacker \u001b[39m=\u001b[39m _Unstacker(\n\u001b[1;32m    489\u001b[0m     obj\u001b[39m.\u001b[39;49mindex, level\u001b[39m=\u001b[39;49mlevel, constructor\u001b[39m=\u001b[39;49mobj\u001b[39m.\u001b[39;49m_constructor_expanddim\n\u001b[1;32m    490\u001b[0m )\n\u001b[1;32m    491\u001b[0m \u001b[39mreturn\u001b[39;00m unstacker\u001b[39m.\u001b[39mget_result(\n\u001b[1;32m    492\u001b[0m     obj\u001b[39m.\u001b[39m_values, value_columns\u001b[39m=\u001b[39m\u001b[39mNone\u001b[39;00m, fill_value\u001b[39m=\u001b[39mfill_value\n\u001b[1;32m    493\u001b[0m )\n",
      "File \u001b[0;32m~/anaconda3/envs/bigdata_ml/lib/python3.8/site-packages/pandas/core/reshape/reshape.py:136\u001b[0m, in \u001b[0;36m_Unstacker.__init__\u001b[0;34m(self, index, level, constructor)\u001b[0m\n\u001b[1;32m    128\u001b[0m \u001b[39mif\u001b[39;00m num_cells \u001b[39m>\u001b[39m np\u001b[39m.\u001b[39miinfo(np\u001b[39m.\u001b[39mint32)\u001b[39m.\u001b[39mmax:\n\u001b[1;32m    129\u001b[0m     warnings\u001b[39m.\u001b[39mwarn(\n\u001b[1;32m    130\u001b[0m         \u001b[39mf\u001b[39m\u001b[39m\"\u001b[39m\u001b[39mThe following operation may generate \u001b[39m\u001b[39m{\u001b[39;00mnum_cells\u001b[39m}\u001b[39;00m\u001b[39m cells \u001b[39m\u001b[39m\"\u001b[39m\n\u001b[1;32m    131\u001b[0m         \u001b[39mf\u001b[39m\u001b[39m\"\u001b[39m\u001b[39min the resulting pandas object.\u001b[39m\u001b[39m\"\u001b[39m,\n\u001b[1;32m    132\u001b[0m         PerformanceWarning,\n\u001b[1;32m    133\u001b[0m         stacklevel\u001b[39m=\u001b[39mfind_stack_level(),\n\u001b[1;32m    134\u001b[0m     )\n\u001b[0;32m--> 136\u001b[0m \u001b[39mself\u001b[39;49m\u001b[39m.\u001b[39;49m_make_selectors()\n",
      "File \u001b[0;32m~/anaconda3/envs/bigdata_ml/lib/python3.8/site-packages/pandas/core/reshape/reshape.py:188\u001b[0m, in \u001b[0;36m_Unstacker._make_selectors\u001b[0;34m(self)\u001b[0m\n\u001b[1;32m    185\u001b[0m mask\u001b[39m.\u001b[39mput(selector, \u001b[39mTrue\u001b[39;00m)\n\u001b[1;32m    187\u001b[0m \u001b[39mif\u001b[39;00m mask\u001b[39m.\u001b[39msum() \u001b[39m<\u001b[39m \u001b[39mlen\u001b[39m(\u001b[39mself\u001b[39m\u001b[39m.\u001b[39mindex):\n\u001b[0;32m--> 188\u001b[0m     \u001b[39mraise\u001b[39;00m \u001b[39mValueError\u001b[39;00m(\u001b[39m\"\u001b[39m\u001b[39mIndex contains duplicate entries, cannot reshape\u001b[39m\u001b[39m\"\u001b[39m)\n\u001b[1;32m    190\u001b[0m \u001b[39mself\u001b[39m\u001b[39m.\u001b[39mgroup_index \u001b[39m=\u001b[39m comp_index\n\u001b[1;32m    191\u001b[0m \u001b[39mself\u001b[39m\u001b[39m.\u001b[39mmask \u001b[39m=\u001b[39m mask\n",
      "\u001b[0;31mValueError\u001b[0m: Index contains duplicate entries, cannot reshape"
     ]
    }
   ],
   "source": [
    "def item_similarity_matrix(df):\n",
    "    pivot_df = df.pivot(index='user_id', columns='business_id', values='rating').fillna(0)\n",
    "    item_sim = np.corrcoef(pivot_df.T)\n",
    "    return item_sim\n",
    "\n",
    "item_sim_matrix = item_similarity_matrix(model_data)"
   ]
  },
  {
   "cell_type": "code",
   "execution_count": null,
   "metadata": {},
   "outputs": [],
   "source": [
    "def item_item_collaborative_filtering(user_id, item_sim_matrix, user_item_matrix, top_n=5):\n",
    "    user_items = user_item_matrix.loc[user_id]\n",
    "    non_rated_items = user_items[user_items.isnull()].index\n",
    "\n",
    "    scores = item_sim_matrix[:, non_rated_items].T.dot(user_items)\n",
    "    scores /= np.array(np.abs(item_sim_matrix[:, non_rated_items]).sum(axis=0)).reshape(-1, 1)\n",
    "\n",
    "    top_items_idx = np.argsort(scores)[::-1][:top_n]\n",
    "    top_items = non_rated_items[top_items_idx]\n",
    "    return top_items\n",
    "\n",
    "# Example usage: Recommend top 5 restaurants for user_id=1\n",
    "user_id = 1\n",
    "top_restaurants = item_item_collaborative_filtering(user_id, item_sim_matrix, df.pivot(index='user_id', columns='restaurant_id', values='rating'))\n",
    "print(top_restaurants)"
   ]
  },
  {
   "cell_type": "code",
   "execution_count": null,
   "metadata": {},
   "outputs": [],
   "source": []
  },
  {
   "cell_type": "code",
   "execution_count": null,
   "metadata": {},
   "outputs": [],
   "source": []
  },
  {
   "cell_type": "code",
   "execution_count": null,
   "metadata": {},
   "outputs": [
    {
     "data": {
      "text/plain": [
       "40         djp57omz9cccV1wI0_sqqA\n",
       "41         djp57omz9cccV1wI0_sqqA\n",
       "42         djp57omz9cccV1wI0_sqqA\n",
       "43         djp57omz9cccV1wI0_sqqA\n",
       "44         djp57omz9cccV1wI0_sqqA\n",
       "                    ...          \n",
       "5572066    Mc4C7fVY0sEcD-U5eOA2Og\n",
       "5572085    huXqrSaGyNO1aZKiM55EUg\n",
       "5572508    KEF5A094wOUdBG7SsS7qKg\n",
       "5572754    zt9FNJMJNVt65Dl1GMuJqA\n",
       "5572793    jrfAvTdjH0ykHEtJsqTRRA\n",
       "Name: user_id, Length: 1203530, dtype: object"
      ]
     },
     "execution_count": 23,
     "metadata": {},
     "output_type": "execute_result"
    }
   ],
   "source": [
    "model_data['user_id']"
   ]
  },
  {
   "cell_type": "code",
   "execution_count": null,
   "metadata": {},
   "outputs": [],
   "source": []
  },
  {
   "cell_type": "code",
   "execution_count": null,
   "metadata": {},
   "outputs": [],
   "source": []
  },
  {
   "cell_type": "code",
   "execution_count": null,
   "metadata": {},
   "outputs": [],
   "source": []
  },
  {
   "cell_type": "code",
   "execution_count": null,
   "metadata": {},
   "outputs": [],
   "source": []
  },
  {
   "cell_type": "code",
   "execution_count": null,
   "metadata": {},
   "outputs": [],
   "source": []
  },
  {
   "cell_type": "code",
   "execution_count": null,
   "metadata": {},
   "outputs": [],
   "source": []
  },
  {
   "cell_type": "code",
   "execution_count": null,
   "metadata": {},
   "outputs": [],
   "source": []
  }
 ],
 "metadata": {
  "kernelspec": {
   "display_name": "Python 3",
   "language": "python",
   "name": "python3"
  },
  "language_info": {
   "codemirror_mode": {
    "name": "ipython",
    "version": 3
   },
   "file_extension": ".py",
   "mimetype": "text/x-python",
   "name": "python",
   "nbconvert_exporter": "python",
   "pygments_lexer": "ipython3",
   "version": "3.8.17"
  },
  "orig_nbformat": 4
 },
 "nbformat": 4,
 "nbformat_minor": 2
}
