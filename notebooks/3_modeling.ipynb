{
 "cells": [
  {
   "cell_type": "markdown",
   "metadata": {},
   "source": [
    "## Modeling \n",
    "\n",
    "**Name**: Diane Lu\n",
    "\n",
    "**Contact**: dianengalu@gmail.com\n",
    "\n",
    "**Date**: 07/31/2023"
   ]
  },
  {
   "cell_type": "markdown",
   "metadata": {},
   "source": [
    "### Table of Contents \n",
    "\n",
    "1. [Introduction](#intro)\n",
    "2. [Model Dataset](#model)\n",
    "    * Data Dictionary\n",
    "3. [Collaborative-Filtering Recommendation System without SVD](#nosvd)\n",
    "4. [Collaborative-Filtering Recommendation System with SVD](#svd)\n",
    "5. [Collaborative-Filtering Recommendation System with FunkSVD](#funksvd)"
   ]
  },
  {
   "cell_type": "markdown",
   "metadata": {},
   "source": [
    "### Introduction <a class=\"anchor\" id=\"intro\"></a>\n",
    "\n",
    "During the Initial Modeling stage, we create the first version of the restaurant recommendation system, which will serve as our starting point for future improvements and enhancements."
   ]
  },
  {
   "cell_type": "markdown",
   "metadata": {},
   "source": [
    "#### Importing Python Libraries \n",
    "\n",
    "Importing necessary libraries for the EDA process."
   ]
  },
  {
   "cell_type": "code",
   "execution_count": 1,
   "metadata": {},
   "outputs": [],
   "source": [
    "import numpy as np \n",
    "import pandas as pd \n",
    "\n",
    "from sklearn.metrics.pairwise import cosine_similarity\n",
    "\n",
    "from surprise import SVD\n",
    "from surprise.reader import Reader\n",
    "from surprise import Dataset\n",
    "from surprise.prediction_algorithms.matrix_factorization import SVD as FunkSVD\n",
    "from surprise.model_selection import train_test_split\n",
    "from surprise import accuracy\n",
    "\n",
    "import warnings\n",
    "\n",
    "# Ignore all warnings\n",
    "warnings.filterwarnings(\"ignore\")"
   ]
  },
  {
   "cell_type": "markdown",
   "metadata": {},
   "source": []
  },
  {
   "cell_type": "markdown",
   "metadata": {},
   "source": [
    "### Model Dataset <a class=\"anchor\" id=\"model\"></a>\n",
    "\n",
    "**Data Dictionary:**\n",
    "* `user_id`: unique user id\n",
    "* `business_id`: unique user id\n",
    "* `rating`: star rating"
   ]
  },
  {
   "cell_type": "code",
   "execution_count": 2,
   "metadata": {},
   "outputs": [],
   "source": [
    "vancouver_data = pd.read_pickle('/Users/diane/Desktop/BrainStation/Brainstation_Capstone/yelp_data/vancouver_data.pkl')"
   ]
  },
  {
   "cell_type": "code",
   "execution_count": 3,
   "metadata": {},
   "outputs": [
    {
     "name": "stdout",
     "output_type": "stream",
     "text": [
      "<class 'pandas.core.frame.DataFrame'>\n",
      "Index: 64660 entries, 1101 to 5561981\n",
      "Data columns (total 5 columns):\n",
      " #   Column           Non-Null Count  Dtype  \n",
      "---  ------           --------------  -----  \n",
      " 0   user_id          64660 non-null  int64  \n",
      " 1   business_id      64660 non-null  int64  \n",
      " 2   rating           64660 non-null  float64\n",
      " 3   restaurant_name  64660 non-null  object \n",
      " 4   categories       64660 non-null  object \n",
      "dtypes: float64(1), int64(2), object(2)\n",
      "memory usage: 3.0+ MB\n"
     ]
    }
   ],
   "source": [
    "vancouver_data.info()"
   ]
  },
  {
   "cell_type": "code",
   "execution_count": 4,
   "metadata": {},
   "outputs": [
    {
     "data": {
      "text/html": [
       "<div>\n",
       "<style scoped>\n",
       "    .dataframe tbody tr th:only-of-type {\n",
       "        vertical-align: middle;\n",
       "    }\n",
       "\n",
       "    .dataframe tbody tr th {\n",
       "        vertical-align: top;\n",
       "    }\n",
       "\n",
       "    .dataframe thead th {\n",
       "        text-align: right;\n",
       "    }\n",
       "</style>\n",
       "<table border=\"1\" class=\"dataframe\">\n",
       "  <thead>\n",
       "    <tr style=\"text-align: right;\">\n",
       "      <th></th>\n",
       "      <th>user_id</th>\n",
       "      <th>business_id</th>\n",
       "      <th>rating</th>\n",
       "      <th>restaurant_name</th>\n",
       "      <th>categories</th>\n",
       "    </tr>\n",
       "  </thead>\n",
       "  <tbody>\n",
       "    <tr>\n",
       "      <th>1101</th>\n",
       "      <td>70315</td>\n",
       "      <td>1407</td>\n",
       "      <td>4.0</td>\n",
       "      <td>Meat &amp; Bread</td>\n",
       "      <td>[Fast Food, Bakeries, Sandwiches, Salad, Soup,...</td>\n",
       "    </tr>\n",
       "    <tr>\n",
       "      <th>1105</th>\n",
       "      <td>70315</td>\n",
       "      <td>1356</td>\n",
       "      <td>3.0</td>\n",
       "      <td>Edible Canada At the Market</td>\n",
       "      <td>[Seafood, Canadian (New), American (New), Spec...</td>\n",
       "    </tr>\n",
       "    <tr>\n",
       "      <th>1109</th>\n",
       "      <td>70315</td>\n",
       "      <td>7370</td>\n",
       "      <td>4.0</td>\n",
       "      <td>The Lamplighter Public House</td>\n",
       "      <td>[Nightlife, Gastropubs, Bars, Pubs]</td>\n",
       "    </tr>\n",
       "    <tr>\n",
       "      <th>1144</th>\n",
       "      <td>70315</td>\n",
       "      <td>1143</td>\n",
       "      <td>5.0</td>\n",
       "      <td>Miku</td>\n",
       "      <td>[Japanese, Sushi Bars]</td>\n",
       "    </tr>\n",
       "    <tr>\n",
       "      <th>1151</th>\n",
       "      <td>70315</td>\n",
       "      <td>13469</td>\n",
       "      <td>4.0</td>\n",
       "      <td>Lupo</td>\n",
       "      <td>[Italian]</td>\n",
       "    </tr>\n",
       "  </tbody>\n",
       "</table>\n",
       "</div>"
      ],
      "text/plain": [
       "      user_id  business_id  rating               restaurant_name  \\\n",
       "1101    70315         1407     4.0                  Meat & Bread   \n",
       "1105    70315         1356     3.0   Edible Canada At the Market   \n",
       "1109    70315         7370     4.0  The Lamplighter Public House   \n",
       "1144    70315         1143     5.0                          Miku   \n",
       "1151    70315        13469     4.0                          Lupo   \n",
       "\n",
       "                                             categories  \n",
       "1101  [Fast Food, Bakeries, Sandwiches, Salad, Soup,...  \n",
       "1105  [Seafood, Canadian (New), American (New), Spec...  \n",
       "1109                [Nightlife, Gastropubs, Bars, Pubs]  \n",
       "1144                             [Japanese, Sushi Bars]  \n",
       "1151                                          [Italian]  "
      ]
     },
     "execution_count": 4,
     "metadata": {},
     "output_type": "execute_result"
    }
   ],
   "source": [
    "vancouver_data.head()"
   ]
  },
  {
   "cell_type": "code",
   "execution_count": 5,
   "metadata": {},
   "outputs": [
    {
     "data": {
      "text/html": [
       "<div>\n",
       "<style scoped>\n",
       "    .dataframe tbody tr th:only-of-type {\n",
       "        vertical-align: middle;\n",
       "    }\n",
       "\n",
       "    .dataframe tbody tr th {\n",
       "        vertical-align: top;\n",
       "    }\n",
       "\n",
       "    .dataframe thead th {\n",
       "        text-align: right;\n",
       "    }\n",
       "</style>\n",
       "<table border=\"1\" class=\"dataframe\">\n",
       "  <thead>\n",
       "    <tr style=\"text-align: right;\">\n",
       "      <th></th>\n",
       "      <th>user_id</th>\n",
       "      <th>business_id</th>\n",
       "      <th>rating</th>\n",
       "      <th>restaurant_name</th>\n",
       "      <th>categories</th>\n",
       "    </tr>\n",
       "  </thead>\n",
       "  <tbody>\n",
       "    <tr>\n",
       "      <th>146274</th>\n",
       "      <td>70193</td>\n",
       "      <td>12407</td>\n",
       "      <td>5.0</td>\n",
       "      <td>Sura Korean Cuisine</td>\n",
       "      <td>[Korean]</td>\n",
       "    </tr>\n",
       "    <tr>\n",
       "      <th>172039</th>\n",
       "      <td>25824</td>\n",
       "      <td>4932</td>\n",
       "      <td>4.0</td>\n",
       "      <td>Thierry</td>\n",
       "      <td>[Desserts, Chocolatiers &amp; Shops, Food Delivery...</td>\n",
       "    </tr>\n",
       "    <tr>\n",
       "      <th>148910</th>\n",
       "      <td>11201</td>\n",
       "      <td>1065</td>\n",
       "      <td>1.0</td>\n",
       "      <td>Viet Sub</td>\n",
       "      <td>[Vietnamese, Sandwiches]</td>\n",
       "    </tr>\n",
       "    <tr>\n",
       "      <th>2390296</th>\n",
       "      <td>75071</td>\n",
       "      <td>8292</td>\n",
       "      <td>4.0</td>\n",
       "      <td>Chambar</td>\n",
       "      <td>[Cafes, Middle Eastern, Nightlife, Breakfast &amp;...</td>\n",
       "    </tr>\n",
       "    <tr>\n",
       "      <th>146942</th>\n",
       "      <td>68883</td>\n",
       "      <td>8558</td>\n",
       "      <td>5.0</td>\n",
       "      <td>Nuba Yaletown</td>\n",
       "      <td>[Mediterranean, Vegetarian, Middle Eastern]</td>\n",
       "    </tr>\n",
       "    <tr>\n",
       "      <th>149541</th>\n",
       "      <td>23276</td>\n",
       "      <td>592</td>\n",
       "      <td>4.0</td>\n",
       "      <td>Ciao Bella</td>\n",
       "      <td>[Italian]</td>\n",
       "    </tr>\n",
       "    <tr>\n",
       "      <th>169763</th>\n",
       "      <td>70403</td>\n",
       "      <td>8451</td>\n",
       "      <td>3.0</td>\n",
       "      <td>The Ouisi Bistro</td>\n",
       "      <td>[Cajun/Creole, Breakfast &amp; Brunch]</td>\n",
       "    </tr>\n",
       "    <tr>\n",
       "      <th>467652</th>\n",
       "      <td>74049</td>\n",
       "      <td>9609</td>\n",
       "      <td>4.0</td>\n",
       "      <td>Kadoya Japanese Restaurant</td>\n",
       "      <td>[Japanese, Sushi Bars]</td>\n",
       "    </tr>\n",
       "    <tr>\n",
       "      <th>2331827</th>\n",
       "      <td>27935</td>\n",
       "      <td>1700</td>\n",
       "      <td>5.0</td>\n",
       "      <td>La Taqueria Pinche Taco Shop</td>\n",
       "      <td>[Caterers, Mexican, Event Planning &amp; Services]</td>\n",
       "    </tr>\n",
       "    <tr>\n",
       "      <th>2869828</th>\n",
       "      <td>41381</td>\n",
       "      <td>5709</td>\n",
       "      <td>2.0</td>\n",
       "      <td>Romer's</td>\n",
       "      <td>[Burgers, Seafood, Salad]</td>\n",
       "    </tr>\n",
       "  </tbody>\n",
       "</table>\n",
       "</div>"
      ],
      "text/plain": [
       "         user_id  business_id  rating               restaurant_name  \\\n",
       "146274     70193        12407     5.0           Sura Korean Cuisine   \n",
       "172039     25824         4932     4.0                       Thierry   \n",
       "148910     11201         1065     1.0                      Viet Sub   \n",
       "2390296    75071         8292     4.0                       Chambar   \n",
       "146942     68883         8558     5.0                 Nuba Yaletown   \n",
       "149541     23276          592     4.0                    Ciao Bella   \n",
       "169763     70403         8451     3.0              The Ouisi Bistro   \n",
       "467652     74049         9609     4.0    Kadoya Japanese Restaurant   \n",
       "2331827    27935         1700     5.0  La Taqueria Pinche Taco Shop   \n",
       "2869828    41381         5709     2.0                       Romer's   \n",
       "\n",
       "                                                categories  \n",
       "146274                                            [Korean]  \n",
       "172039   [Desserts, Chocolatiers & Shops, Food Delivery...  \n",
       "148910                            [Vietnamese, Sandwiches]  \n",
       "2390296  [Cafes, Middle Eastern, Nightlife, Breakfast &...  \n",
       "146942         [Mediterranean, Vegetarian, Middle Eastern]  \n",
       "149541                                           [Italian]  \n",
       "169763                  [Cajun/Creole, Breakfast & Brunch]  \n",
       "467652                              [Japanese, Sushi Bars]  \n",
       "2331827     [Caterers, Mexican, Event Planning & Services]  \n",
       "2869828                          [Burgers, Seafood, Salad]  "
      ]
     },
     "execution_count": 5,
     "metadata": {},
     "output_type": "execute_result"
    }
   ],
   "source": [
    "vancouver_data.sample(10)"
   ]
  },
  {
   "cell_type": "code",
   "execution_count": 6,
   "metadata": {},
   "outputs": [
    {
     "data": {
      "text/plain": [
       "user_id            0\n",
       "business_id        0\n",
       "rating             0\n",
       "restaurant_name    0\n",
       "categories         0\n",
       "dtype: int64"
      ]
     },
     "execution_count": 6,
     "metadata": {},
     "output_type": "execute_result"
    }
   ],
   "source": [
    "vancouver_data.isnull().sum()"
   ]
  },
  {
   "cell_type": "code",
   "execution_count": 7,
   "metadata": {},
   "outputs": [
    {
     "name": "stdout",
     "output_type": "stream",
     "text": [
      "The size of our model dataset is 64660 entries.\n"
     ]
    }
   ],
   "source": [
    "print(f\"The size of our model dataset is {vancouver_data.shape[0]} entries.\")"
   ]
  },
  {
   "cell_type": "markdown",
   "metadata": {},
   "source": []
  },
  {
   "cell_type": "code",
   "execution_count": 8,
   "metadata": {},
   "outputs": [],
   "source": [
    "# sampled_model_data = model_data.sample(frac=0.01, random_state=42)\n",
    "\n",
    "# print(f\"The size of our sampled model dataset is {sampled_model_data.shape[0]} entries.\")"
   ]
  },
  {
   "cell_type": "code",
   "execution_count": null,
   "metadata": {},
   "outputs": [],
   "source": []
  },
  {
   "cell_type": "markdown",
   "metadata": {},
   "source": [
    "### Collaborative-Filtering Recommendation System without SVD <a class=\"anchor\" id=\"nosvd\"></a>\n",
    "\n",
    "Collaborative filtering is a general technique used in recommendation systems to predict user preferences based on the preferences of similar users. It does not involve matrix factorization. Instead, it relies on computing similarities between users or items to generate recommendations. Collaborative filtering without SVD directly operates on the user-item interaction matrix and may use various similarity metrics to find similar users or items. "
   ]
  },
  {
   "cell_type": "markdown",
   "metadata": {},
   "source": []
  },
  {
   "cell_type": "code",
   "execution_count": 9,
   "metadata": {},
   "outputs": [],
   "source": [
    "# Creating the User-Item Matrix\n",
    "def create_user_item_matrix(data):\n",
    "    # Pivot the data to create a matrix where rows are restaurant names and columns are user IDs\n",
    "    user_item_matrix = data.pivot_table(index='restaurant_name', columns='user_id', values='rating', fill_value=0)\n",
    "    return user_item_matrix\n",
    "\n",
    "# Calculate Similarity Scores\n",
    "def calculate_similarity_scores(user_item_matrix):\n",
    "    # Calculate the cosine similarity between restaurants based on their user-item matrix\n",
    "    similarity_scores = cosine_similarity(user_item_matrix)\n",
    "    return similarity_scores\n",
    "\n",
    "# Recommend Restaurants\n",
    "def recommend_restaurants(restaurant_name, user_item_matrix, similarity_scores, num_recommendations=5):\n",
    "    # Find the index of the input restaurant name in the pivot table\n",
    "    index = user_item_matrix.index.get_loc(restaurant_name)\n",
    "\n",
    "    # Retrieve the similarity scores of the input restaurant with other restaurants,\n",
    "    # sort them in descending order, and select the top 'num_recommendations' similar items\n",
    "    similar_items = sorted(enumerate(similarity_scores[index]), key=lambda x: x[1], reverse=True)[1:num_recommendations + 1]\n",
    "\n",
    "    # Fetch the relevant restaurant names from the 'user_item_matrix' dataset\n",
    "    recommended_restaurant_names = [user_item_matrix.index[i[0]] for i in similar_items]\n",
    "\n",
    "    return recommended_restaurant_names "
   ]
  },
  {
   "cell_type": "code",
   "execution_count": 10,
   "metadata": {},
   "outputs": [
    {
     "data": {
      "text/html": [
       "<div>\n",
       "<style scoped>\n",
       "    .dataframe tbody tr th:only-of-type {\n",
       "        vertical-align: middle;\n",
       "    }\n",
       "\n",
       "    .dataframe tbody tr th {\n",
       "        vertical-align: top;\n",
       "    }\n",
       "\n",
       "    .dataframe thead th {\n",
       "        text-align: right;\n",
       "    }\n",
       "</style>\n",
       "<table border=\"1\" class=\"dataframe\">\n",
       "  <thead>\n",
       "    <tr style=\"text-align: right;\">\n",
       "      <th>user_id</th>\n",
       "      <th>4</th>\n",
       "      <th>7</th>\n",
       "      <th>12</th>\n",
       "      <th>27</th>\n",
       "      <th>28</th>\n",
       "      <th>33</th>\n",
       "      <th>42</th>\n",
       "      <th>45</th>\n",
       "      <th>77</th>\n",
       "      <th>82</th>\n",
       "      <th>...</th>\n",
       "      <th>81069</th>\n",
       "      <th>81081</th>\n",
       "      <th>81084</th>\n",
       "      <th>81094</th>\n",
       "      <th>81098</th>\n",
       "      <th>81101</th>\n",
       "      <th>81102</th>\n",
       "      <th>81111</th>\n",
       "      <th>81124</th>\n",
       "      <th>81139</th>\n",
       "    </tr>\n",
       "    <tr>\n",
       "      <th>restaurant_name</th>\n",
       "      <th></th>\n",
       "      <th></th>\n",
       "      <th></th>\n",
       "      <th></th>\n",
       "      <th></th>\n",
       "      <th></th>\n",
       "      <th></th>\n",
       "      <th></th>\n",
       "      <th></th>\n",
       "      <th></th>\n",
       "      <th></th>\n",
       "      <th></th>\n",
       "      <th></th>\n",
       "      <th></th>\n",
       "      <th></th>\n",
       "      <th></th>\n",
       "      <th></th>\n",
       "      <th></th>\n",
       "      <th></th>\n",
       "      <th></th>\n",
       "      <th></th>\n",
       "    </tr>\n",
       "  </thead>\n",
       "  <tbody>\n",
       "    <tr>\n",
       "      <th>3G Vegetarian Restaurant</th>\n",
       "      <td>0</td>\n",
       "      <td>0</td>\n",
       "      <td>0</td>\n",
       "      <td>0</td>\n",
       "      <td>0</td>\n",
       "      <td>0</td>\n",
       "      <td>0</td>\n",
       "      <td>0</td>\n",
       "      <td>0</td>\n",
       "      <td>0</td>\n",
       "      <td>...</td>\n",
       "      <td>0</td>\n",
       "      <td>0</td>\n",
       "      <td>0</td>\n",
       "      <td>0</td>\n",
       "      <td>0</td>\n",
       "      <td>0</td>\n",
       "      <td>0</td>\n",
       "      <td>0</td>\n",
       "      <td>0</td>\n",
       "      <td>0</td>\n",
       "    </tr>\n",
       "    <tr>\n",
       "      <th>49th Parallel Coffee</th>\n",
       "      <td>0</td>\n",
       "      <td>0</td>\n",
       "      <td>5</td>\n",
       "      <td>0</td>\n",
       "      <td>0</td>\n",
       "      <td>0</td>\n",
       "      <td>0</td>\n",
       "      <td>0</td>\n",
       "      <td>0</td>\n",
       "      <td>0</td>\n",
       "      <td>...</td>\n",
       "      <td>0</td>\n",
       "      <td>0</td>\n",
       "      <td>0</td>\n",
       "      <td>0</td>\n",
       "      <td>0</td>\n",
       "      <td>0</td>\n",
       "      <td>0</td>\n",
       "      <td>0</td>\n",
       "      <td>0</td>\n",
       "      <td>0</td>\n",
       "    </tr>\n",
       "    <tr>\n",
       "      <th>6 Degrees Eatery</th>\n",
       "      <td>0</td>\n",
       "      <td>0</td>\n",
       "      <td>0</td>\n",
       "      <td>0</td>\n",
       "      <td>0</td>\n",
       "      <td>0</td>\n",
       "      <td>0</td>\n",
       "      <td>0</td>\n",
       "      <td>0</td>\n",
       "      <td>0</td>\n",
       "      <td>...</td>\n",
       "      <td>0</td>\n",
       "      <td>0</td>\n",
       "      <td>0</td>\n",
       "      <td>0</td>\n",
       "      <td>0</td>\n",
       "      <td>0</td>\n",
       "      <td>0</td>\n",
       "      <td>0</td>\n",
       "      <td>0</td>\n",
       "      <td>0</td>\n",
       "    </tr>\n",
       "    <tr>\n",
       "      <th>A La Mode</th>\n",
       "      <td>0</td>\n",
       "      <td>0</td>\n",
       "      <td>0</td>\n",
       "      <td>0</td>\n",
       "      <td>0</td>\n",
       "      <td>0</td>\n",
       "      <td>0</td>\n",
       "      <td>0</td>\n",
       "      <td>0</td>\n",
       "      <td>0</td>\n",
       "      <td>...</td>\n",
       "      <td>0</td>\n",
       "      <td>0</td>\n",
       "      <td>0</td>\n",
       "      <td>0</td>\n",
       "      <td>0</td>\n",
       "      <td>0</td>\n",
       "      <td>0</td>\n",
       "      <td>0</td>\n",
       "      <td>0</td>\n",
       "      <td>0</td>\n",
       "    </tr>\n",
       "    <tr>\n",
       "      <th>ARC Restaurant</th>\n",
       "      <td>0</td>\n",
       "      <td>0</td>\n",
       "      <td>0</td>\n",
       "      <td>0</td>\n",
       "      <td>0</td>\n",
       "      <td>0</td>\n",
       "      <td>0</td>\n",
       "      <td>0</td>\n",
       "      <td>0</td>\n",
       "      <td>0</td>\n",
       "      <td>...</td>\n",
       "      <td>0</td>\n",
       "      <td>0</td>\n",
       "      <td>0</td>\n",
       "      <td>0</td>\n",
       "      <td>0</td>\n",
       "      <td>0</td>\n",
       "      <td>0</td>\n",
       "      <td>0</td>\n",
       "      <td>0</td>\n",
       "      <td>0</td>\n",
       "    </tr>\n",
       "  </tbody>\n",
       "</table>\n",
       "<p>5 rows × 8978 columns</p>\n",
       "</div>"
      ],
      "text/plain": [
       "user_id                   4      7      12     27     28     33     42     \\\n",
       "restaurant_name                                                             \n",
       "3G Vegetarian Restaurant      0      0      0      0      0      0      0   \n",
       "49th Parallel Coffee          0      0      5      0      0      0      0   \n",
       "6 Degrees Eatery              0      0      0      0      0      0      0   \n",
       "A La Mode                     0      0      0      0      0      0      0   \n",
       "ARC Restaurant                0      0      0      0      0      0      0   \n",
       "\n",
       "user_id                   45     77     82     ...  81069  81081  81084  \\\n",
       "restaurant_name                                ...                        \n",
       "3G Vegetarian Restaurant      0      0      0  ...      0      0      0   \n",
       "49th Parallel Coffee          0      0      0  ...      0      0      0   \n",
       "6 Degrees Eatery              0      0      0  ...      0      0      0   \n",
       "A La Mode                     0      0      0  ...      0      0      0   \n",
       "ARC Restaurant                0      0      0  ...      0      0      0   \n",
       "\n",
       "user_id                   81094  81098  81101  81102  81111  81124  81139  \n",
       "restaurant_name                                                            \n",
       "3G Vegetarian Restaurant      0      0      0      0      0      0      0  \n",
       "49th Parallel Coffee          0      0      0      0      0      0      0  \n",
       "6 Degrees Eatery              0      0      0      0      0      0      0  \n",
       "A La Mode                     0      0      0      0      0      0      0  \n",
       "ARC Restaurant                0      0      0      0      0      0      0  \n",
       "\n",
       "[5 rows x 8978 columns]"
      ]
     },
     "execution_count": 10,
     "metadata": {},
     "output_type": "execute_result"
    }
   ],
   "source": [
    "# Creating the User-Item Matrix\n",
    "user_item_matrix = create_user_item_matrix(vancouver_data)\n",
    "\n",
    "user_item_matrix.head()"
   ]
  },
  {
   "cell_type": "code",
   "execution_count": 11,
   "metadata": {},
   "outputs": [
    {
     "data": {
      "text/plain": [
       "(766, 766)"
      ]
     },
     "execution_count": 11,
     "metadata": {},
     "output_type": "execute_result"
    }
   ],
   "source": [
    "# Calculate Similarity Scores\n",
    "similarity_scores = calculate_similarity_scores(user_item_matrix)\n",
    "\n",
    "similarity_scores.shape"
   ]
  },
  {
   "cell_type": "code",
   "execution_count": 12,
   "metadata": {},
   "outputs": [
    {
     "name": "stdout",
     "output_type": "stream",
     "text": [
      "Recommended Restaurants for Miku: ['Hokkaido Ramen Santouka', 'Phnom Penh', 'Kingyo', 'Chambar', 'Jam Cafe on Beatty']\n"
     ]
    }
   ],
   "source": [
    "# Get recommendations for a specific restaurant\n",
    "restaurant_name = \"Miku\"\n",
    "recommended_restaurants = recommend_restaurants(restaurant_name, user_item_matrix, similarity_scores)\n",
    "print(\"Recommended Restaurants for {}: {}\".format(restaurant_name, recommended_restaurants))"
   ]
  },
  {
   "cell_type": "markdown",
   "metadata": {},
   "source": []
  },
  {
   "cell_type": "markdown",
   "metadata": {},
   "source": [
    "### Collaborative-Filtering Recommendation System with SVD <a class=\"anchor\" id=\"svd\"></a>\n",
    "\n",
    "Traditional Singular Value Decomposition is a matrix factorization technique that decomposes a given matrix into three matrices: U (user features), Σ (singular values), and V^T (item features). While traditional SVD can be applied to recommendation systems, it assumes a complete user-item interaction matrix without any missing values. This assumption is often not applicable in real-world scenarios where user-item matrices are typically sparse."
   ]
  },
  {
   "cell_type": "markdown",
   "metadata": {},
   "source": []
  },
  {
   "cell_type": "code",
   "execution_count": 13,
   "metadata": {},
   "outputs": [],
   "source": [
    "# Creating the User-Item Matrix\n",
    "def create_user_item_matrix(data):\n",
    "    # Pivot the data to create a matrix where rows are restaurant names and columns are user IDs\n",
    "    user_item_matrix = data.pivot_table(index='restaurant_name', columns='user_id', values='rating', fill_value=0)\n",
    "    return user_item_matrix\n",
    "\n",
    "# Perform Singular Value Decomposition (SVD)\n",
    "def perform_svd(user_item_matrix, num_latent_features=50):\n",
    "    # Perform SVD on the user-item matrix\n",
    "    U, sigma, Vt = np.linalg.svd(user_item_matrix)\n",
    "\n",
    "    # Reduce the dimensions based on the number of latent features\n",
    "    U = U[:, :num_latent_features]\n",
    "    sigma = np.diag(sigma[:num_latent_features])\n",
    "    Vt = Vt[:num_latent_features, :]\n",
    "\n",
    "    return U, sigma, Vt\n",
    "\n",
    "# Calculate Similarity Scores\n",
    "def calculate_similarity_scores(Vt):\n",
    "    # Calculate the cosine similarity between restaurants based on the Vt matrix from SVD\n",
    "    similarity_scores = cosine_similarity(Vt)\n",
    "    return similarity_scores\n",
    "\n",
    "# Recommend Restaurants\n",
    "def recommend_restaurants(restaurant_name, user_item_matrix, similarity_scores, num_recommendations=5):\n",
    "    # Find the index of the input restaurant name in the pivot table\n",
    "    index = user_item_matrix.index.get_loc(restaurant_name)\n",
    "\n",
    "    # Retrieve the similarity scores of the input restaurant with other restaurants,\n",
    "    # sort them in descending order, and select the top 'num_recommendations' similar items\n",
    "    similar_items = sorted(enumerate(similarity_scores[index]), key=lambda x: x[1], reverse=True)[1:num_recommendations + 1]\n",
    "\n",
    "    # Fetch the relevant restaurant names from the 'user_item_matrix' dataset\n",
    "    recommended_restaurant_names = [user_item_matrix.index[i[0]] for i in similar_items]\n",
    "\n",
    "    return recommended_restaurant_names "
   ]
  },
  {
   "cell_type": "code",
   "execution_count": 14,
   "metadata": {},
   "outputs": [
    {
     "data": {
      "text/html": [
       "<div>\n",
       "<style scoped>\n",
       "    .dataframe tbody tr th:only-of-type {\n",
       "        vertical-align: middle;\n",
       "    }\n",
       "\n",
       "    .dataframe tbody tr th {\n",
       "        vertical-align: top;\n",
       "    }\n",
       "\n",
       "    .dataframe thead th {\n",
       "        text-align: right;\n",
       "    }\n",
       "</style>\n",
       "<table border=\"1\" class=\"dataframe\">\n",
       "  <thead>\n",
       "    <tr style=\"text-align: right;\">\n",
       "      <th>user_id</th>\n",
       "      <th>4</th>\n",
       "      <th>7</th>\n",
       "      <th>12</th>\n",
       "      <th>27</th>\n",
       "      <th>28</th>\n",
       "      <th>33</th>\n",
       "      <th>42</th>\n",
       "      <th>45</th>\n",
       "      <th>77</th>\n",
       "      <th>82</th>\n",
       "      <th>...</th>\n",
       "      <th>81069</th>\n",
       "      <th>81081</th>\n",
       "      <th>81084</th>\n",
       "      <th>81094</th>\n",
       "      <th>81098</th>\n",
       "      <th>81101</th>\n",
       "      <th>81102</th>\n",
       "      <th>81111</th>\n",
       "      <th>81124</th>\n",
       "      <th>81139</th>\n",
       "    </tr>\n",
       "    <tr>\n",
       "      <th>restaurant_name</th>\n",
       "      <th></th>\n",
       "      <th></th>\n",
       "      <th></th>\n",
       "      <th></th>\n",
       "      <th></th>\n",
       "      <th></th>\n",
       "      <th></th>\n",
       "      <th></th>\n",
       "      <th></th>\n",
       "      <th></th>\n",
       "      <th></th>\n",
       "      <th></th>\n",
       "      <th></th>\n",
       "      <th></th>\n",
       "      <th></th>\n",
       "      <th></th>\n",
       "      <th></th>\n",
       "      <th></th>\n",
       "      <th></th>\n",
       "      <th></th>\n",
       "      <th></th>\n",
       "    </tr>\n",
       "  </thead>\n",
       "  <tbody>\n",
       "    <tr>\n",
       "      <th>3G Vegetarian Restaurant</th>\n",
       "      <td>0</td>\n",
       "      <td>0</td>\n",
       "      <td>0</td>\n",
       "      <td>0</td>\n",
       "      <td>0</td>\n",
       "      <td>0</td>\n",
       "      <td>0</td>\n",
       "      <td>0</td>\n",
       "      <td>0</td>\n",
       "      <td>0</td>\n",
       "      <td>...</td>\n",
       "      <td>0</td>\n",
       "      <td>0</td>\n",
       "      <td>0</td>\n",
       "      <td>0</td>\n",
       "      <td>0</td>\n",
       "      <td>0</td>\n",
       "      <td>0</td>\n",
       "      <td>0</td>\n",
       "      <td>0</td>\n",
       "      <td>0</td>\n",
       "    </tr>\n",
       "    <tr>\n",
       "      <th>49th Parallel Coffee</th>\n",
       "      <td>0</td>\n",
       "      <td>0</td>\n",
       "      <td>5</td>\n",
       "      <td>0</td>\n",
       "      <td>0</td>\n",
       "      <td>0</td>\n",
       "      <td>0</td>\n",
       "      <td>0</td>\n",
       "      <td>0</td>\n",
       "      <td>0</td>\n",
       "      <td>...</td>\n",
       "      <td>0</td>\n",
       "      <td>0</td>\n",
       "      <td>0</td>\n",
       "      <td>0</td>\n",
       "      <td>0</td>\n",
       "      <td>0</td>\n",
       "      <td>0</td>\n",
       "      <td>0</td>\n",
       "      <td>0</td>\n",
       "      <td>0</td>\n",
       "    </tr>\n",
       "    <tr>\n",
       "      <th>6 Degrees Eatery</th>\n",
       "      <td>0</td>\n",
       "      <td>0</td>\n",
       "      <td>0</td>\n",
       "      <td>0</td>\n",
       "      <td>0</td>\n",
       "      <td>0</td>\n",
       "      <td>0</td>\n",
       "      <td>0</td>\n",
       "      <td>0</td>\n",
       "      <td>0</td>\n",
       "      <td>...</td>\n",
       "      <td>0</td>\n",
       "      <td>0</td>\n",
       "      <td>0</td>\n",
       "      <td>0</td>\n",
       "      <td>0</td>\n",
       "      <td>0</td>\n",
       "      <td>0</td>\n",
       "      <td>0</td>\n",
       "      <td>0</td>\n",
       "      <td>0</td>\n",
       "    </tr>\n",
       "    <tr>\n",
       "      <th>A La Mode</th>\n",
       "      <td>0</td>\n",
       "      <td>0</td>\n",
       "      <td>0</td>\n",
       "      <td>0</td>\n",
       "      <td>0</td>\n",
       "      <td>0</td>\n",
       "      <td>0</td>\n",
       "      <td>0</td>\n",
       "      <td>0</td>\n",
       "      <td>0</td>\n",
       "      <td>...</td>\n",
       "      <td>0</td>\n",
       "      <td>0</td>\n",
       "      <td>0</td>\n",
       "      <td>0</td>\n",
       "      <td>0</td>\n",
       "      <td>0</td>\n",
       "      <td>0</td>\n",
       "      <td>0</td>\n",
       "      <td>0</td>\n",
       "      <td>0</td>\n",
       "    </tr>\n",
       "    <tr>\n",
       "      <th>ARC Restaurant</th>\n",
       "      <td>0</td>\n",
       "      <td>0</td>\n",
       "      <td>0</td>\n",
       "      <td>0</td>\n",
       "      <td>0</td>\n",
       "      <td>0</td>\n",
       "      <td>0</td>\n",
       "      <td>0</td>\n",
       "      <td>0</td>\n",
       "      <td>0</td>\n",
       "      <td>...</td>\n",
       "      <td>0</td>\n",
       "      <td>0</td>\n",
       "      <td>0</td>\n",
       "      <td>0</td>\n",
       "      <td>0</td>\n",
       "      <td>0</td>\n",
       "      <td>0</td>\n",
       "      <td>0</td>\n",
       "      <td>0</td>\n",
       "      <td>0</td>\n",
       "    </tr>\n",
       "  </tbody>\n",
       "</table>\n",
       "<p>5 rows × 8978 columns</p>\n",
       "</div>"
      ],
      "text/plain": [
       "user_id                   4      7      12     27     28     33     42     \\\n",
       "restaurant_name                                                             \n",
       "3G Vegetarian Restaurant      0      0      0      0      0      0      0   \n",
       "49th Parallel Coffee          0      0      5      0      0      0      0   \n",
       "6 Degrees Eatery              0      0      0      0      0      0      0   \n",
       "A La Mode                     0      0      0      0      0      0      0   \n",
       "ARC Restaurant                0      0      0      0      0      0      0   \n",
       "\n",
       "user_id                   45     77     82     ...  81069  81081  81084  \\\n",
       "restaurant_name                                ...                        \n",
       "3G Vegetarian Restaurant      0      0      0  ...      0      0      0   \n",
       "49th Parallel Coffee          0      0      0  ...      0      0      0   \n",
       "6 Degrees Eatery              0      0      0  ...      0      0      0   \n",
       "A La Mode                     0      0      0  ...      0      0      0   \n",
       "ARC Restaurant                0      0      0  ...      0      0      0   \n",
       "\n",
       "user_id                   81094  81098  81101  81102  81111  81124  81139  \n",
       "restaurant_name                                                            \n",
       "3G Vegetarian Restaurant      0      0      0      0      0      0      0  \n",
       "49th Parallel Coffee          0      0      0      0      0      0      0  \n",
       "6 Degrees Eatery              0      0      0      0      0      0      0  \n",
       "A La Mode                     0      0      0      0      0      0      0  \n",
       "ARC Restaurant                0      0      0      0      0      0      0  \n",
       "\n",
       "[5 rows x 8978 columns]"
      ]
     },
     "execution_count": 14,
     "metadata": {},
     "output_type": "execute_result"
    }
   ],
   "source": [
    "# Creating the User-Item Matrix\n",
    "user_item_matrix = create_user_item_matrix(vancouver_data)\n",
    "\n",
    "user_item_matrix.head()"
   ]
  },
  {
   "cell_type": "code",
   "execution_count": 15,
   "metadata": {},
   "outputs": [
    {
     "name": "stdout",
     "output_type": "stream",
     "text": [
      "Matrix U:\n",
      "[[-0.01212714  0.0012404  -0.02619276 ... -0.00303898 -0.00441591\n",
      "   0.00940577]\n",
      " [-0.08993277 -0.03366205  0.00969205 ...  0.03692048 -0.05690002\n",
      "   0.0381378 ]\n",
      " [-0.0109174  -0.00536868 -0.00604911 ... -0.02327282  0.00542948\n",
      "  -0.02597468]\n",
      " ...\n",
      " [-0.02076546 -0.00421513  0.02269508 ... -0.03520262 -0.01196116\n",
      "  -0.02276765]\n",
      " [-0.03860882 -0.00749997  0.0246579  ... -0.01059694 -0.02531328\n",
      "   0.03079898]\n",
      " [-0.01009916 -0.00273176  0.00236111 ... -0.00773699 -0.02498955\n",
      "   0.01446831]]\n",
      "\n",
      "Matrix Sigma:\n",
      "[[283.89355785   0.           0.         ...   0.           0.\n",
      "    0.        ]\n",
      " [  0.         129.99310514   0.         ...   0.           0.\n",
      "    0.        ]\n",
      " [  0.           0.         120.34068013 ...   0.           0.\n",
      "    0.        ]\n",
      " ...\n",
      " [  0.           0.           0.         ...  59.89844207   0.\n",
      "    0.        ]\n",
      " [  0.           0.           0.         ...   0.          59.41380546\n",
      "    0.        ]\n",
      " [  0.           0.           0.         ...   0.           0.\n",
      "   59.08790641]]\n",
      "\n",
      "Matrix Vt:\n",
      "[[-6.90004454e-03 -9.67000317e-04 -1.26296525e-02 ... -5.23737219e-03\n",
      "  -1.36291325e-03 -3.01428355e-03]\n",
      " [-5.32219787e-03 -1.31950701e-03  1.53192347e-02 ...  2.83797205e-02\n",
      "   5.58274431e-04  1.01817906e-03]\n",
      " [ 1.12780979e-02  5.50588256e-05  3.01543349e-02 ...  1.47994610e-02\n",
      "  -1.00254647e-03  4.24662391e-03]\n",
      " ...\n",
      " [-3.75777021e-02 -1.30624399e-03 -2.86584749e-02 ...  3.69761769e-03\n",
      "  -1.04104329e-03  3.55294683e-02]\n",
      " [ 9.77989467e-03  3.97866118e-03 -4.82929174e-03 ... -2.16454052e-03\n",
      "   5.92393267e-03  1.17384579e-02]\n",
      " [-1.00301004e-02  1.45190705e-03  2.89451602e-02 ...  2.84699810e-03\n",
      "  -1.23904678e-02 -1.56813523e-02]]\n"
     ]
    }
   ],
   "source": [
    "# Perform Singular Value Decomposition (SVD)\n",
    "U, sigma, Vt = perform_svd(user_item_matrix)\n",
    "\n",
    "print(\"Matrix U:\")\n",
    "print(U)\n",
    "\n",
    "print(\"\\nMatrix Sigma:\")\n",
    "print(sigma)\n",
    "\n",
    "print(\"\\nMatrix Vt:\")\n",
    "print(Vt)"
   ]
  },
  {
   "cell_type": "code",
   "execution_count": 16,
   "metadata": {},
   "outputs": [
    {
     "data": {
      "text/plain": [
       "(766, 766)"
      ]
     },
     "execution_count": 16,
     "metadata": {},
     "output_type": "execute_result"
    }
   ],
   "source": [
    "# Calculate Similarity Scores\n",
    "similarity_scores = calculate_similarity_scores(user_item_matrix)\n",
    "\n",
    "similarity_scores.shape"
   ]
  },
  {
   "cell_type": "code",
   "execution_count": 17,
   "metadata": {},
   "outputs": [
    {
     "name": "stdout",
     "output_type": "stream",
     "text": [
      "Recommended Restaurants for Miku: ['Hokkaido Ramen Santouka', 'Phnom Penh', 'Kingyo', 'Chambar', 'Jam Cafe on Beatty']\n"
     ]
    }
   ],
   "source": [
    "# Get recommendations for a specific restaurant\n",
    "restaurant_name = \"Miku\"\n",
    "recommended_restaurants = recommend_restaurants(restaurant_name, user_item_matrix, similarity_scores)\n",
    "print(\"Recommended Restaurants for {}: {}\".format(restaurant_name, recommended_restaurants)) "
   ]
  },
  {
   "cell_type": "markdown",
   "metadata": {},
   "source": []
  },
  {
   "cell_type": "markdown",
   "metadata": {},
   "source": [
    "### Collaborative-Filtering Recommendation System with FunkSVD <a class=\"anchor\" id=\"funksvd\"></a>\n",
    "\n",
    "FunkSVD is a specific variant of SVD designed for collaborative filtering tasks in recommendation systems. It addresses the sparsity issue present in user-item interaction matrices by incorporating stochastic gradient descent to handle missing values efficiently. FunkSVD performs matrix factorization and decomposes the user-item interaction matrix into user and item latent feature matrices."
   ]
  },
  {
   "cell_type": "markdown",
   "metadata": {},
   "source": []
  },
  {
   "cell_type": "code",
   "execution_count": 18,
   "metadata": {},
   "outputs": [],
   "source": [
    "# Load your user-item interaction data into Surprise Dataset\n",
    "reader = Reader(rating_scale=(0, 5))\n",
    "vancouver_data = Dataset.load_from_df(vancouver_data[['user_id', 'restaurant_name', 'rating']], reader)"
   ]
  },
  {
   "cell_type": "code",
   "execution_count": 19,
   "metadata": {},
   "outputs": [],
   "source": [
    "# Split the data into training and testing sets\n",
    "trainset, testset = train_test_split(vancouver_data, test_size=0.2, random_state=42)"
   ]
  },
  {
   "cell_type": "code",
   "execution_count": 20,
   "metadata": {},
   "outputs": [
    {
     "data": {
      "text/plain": [
       "<surprise.prediction_algorithms.matrix_factorization.SVD at 0x1479e3f50>"
      ]
     },
     "execution_count": 20,
     "metadata": {},
     "output_type": "execute_result"
    }
   ],
   "source": [
    "# Step 3: Build and train the FunkSVD-based collaborative filtering model\n",
    "model = FunkSVD(n_factors=50, biased=True, random_state=42)\n",
    "model.fit(trainset)"
   ]
  },
  {
   "cell_type": "code",
   "execution_count": 21,
   "metadata": {},
   "outputs": [],
   "source": [
    "# Step 4: Make predictions on the test set\n",
    "predictions = model.test(testset)"
   ]
  },
  {
   "cell_type": "code",
   "execution_count": 22,
   "metadata": {},
   "outputs": [
    {
     "name": "stdout",
     "output_type": "stream",
     "text": [
      "RMSE: 0.9218\n",
      "MAE:  0.7182\n"
     ]
    }
   ],
   "source": [
    "# Step 5: Evaluate the model's performance\n",
    "rmse = accuracy.rmse(predictions)\n",
    "mae = accuracy.mae(predictions)"
   ]
  },
  {
   "cell_type": "code",
   "execution_count": 23,
   "metadata": {},
   "outputs": [],
   "source": [
    "# Example Usage: Recommend restaurants similar to a specific restaurant\n",
    "restaurant_name = \"Miku\" "
   ]
  },
  {
   "cell_type": "code",
   "execution_count": 24,
   "metadata": {},
   "outputs": [],
   "source": [
    "# Get the user-item matrix used for factorization\n",
    "trainset_full = vancouver_data.build_full_trainset()\n",
    "user_item_matrix = trainset_full.ur"
   ]
  },
  {
   "cell_type": "code",
   "execution_count": 25,
   "metadata": {},
   "outputs": [],
   "source": [
    "# Find the index of the input restaurant name in the pivot table\n",
    "restaurant_index = trainset_full.to_inner_iid(restaurant_name)"
   ]
  },
  {
   "cell_type": "code",
   "execution_count": 26,
   "metadata": {},
   "outputs": [],
   "source": [
    "# Get the latent factors for the input restaurant\n",
    "restaurant_factors = model.qi[restaurant_index]"
   ]
  },
  {
   "cell_type": "code",
   "execution_count": 27,
   "metadata": {},
   "outputs": [],
   "source": [
    "# Calculate similarity scores with other restaurants based on latent factors\n",
    "similarity_scores = np.dot(model.qi, restaurant_factors)"
   ]
  },
  {
   "cell_type": "code",
   "execution_count": 28,
   "metadata": {},
   "outputs": [],
   "source": [
    "# Sort the restaurants based on similarity scores in descending order\n",
    "similar_restaurant_indices = np.argsort(similarity_scores)[::-1]"
   ]
  },
  {
   "cell_type": "code",
   "execution_count": 29,
   "metadata": {},
   "outputs": [
    {
     "name": "stdout",
     "output_type": "stream",
     "text": [
      "Recommended Restaurants for Miku: ['Joe Fortes Seafood & Chop House', 'Campagnolo', 'Sushi Jin', 'Sushi Mura', 'The Charlatan']\n"
     ]
    }
   ],
   "source": [
    "# Get top N recommended restaurants (excluding the input restaurant itself)\n",
    "top_n = 5\n",
    "recommended_restaurants = []\n",
    "for index in similar_restaurant_indices:\n",
    "    name = trainset_full.to_raw_iid(index)\n",
    "    if name != restaurant_name:\n",
    "        recommended_restaurants.append(name)\n",
    "        if len(recommended_restaurants) == top_n:\n",
    "            break\n",
    "\n",
    "print(\"Recommended Restaurants for {}: {}\".format(restaurant_name, recommended_restaurants))"
   ]
  },
  {
   "cell_type": "markdown",
   "metadata": {},
   "source": []
  }
 ],
 "metadata": {
  "kernelspec": {
   "display_name": "Python 3",
   "language": "python",
   "name": "python3"
  },
  "language_info": {
   "codemirror_mode": {
    "name": "ipython",
    "version": 3
   },
   "file_extension": ".py",
   "mimetype": "text/x-python",
   "name": "python",
   "nbconvert_exporter": "python",
   "pygments_lexer": "ipython3",
   "version": "3.11.4"
  },
  "orig_nbformat": 4
 },
 "nbformat": 4,
 "nbformat_minor": 2
}
