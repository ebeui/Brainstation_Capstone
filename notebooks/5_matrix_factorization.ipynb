{
 "cells": [
  {
   "cell_type": "markdown",
   "metadata": {},
   "source": [
    "## Matrix Factorization Model\n",
    "\n",
    "**Name**: Diane Lu\n",
    "\n",
    "**Contact**: dianengalu@gmail.com\n",
    "\n",
    "**Date**: 07/31/2023"
   ]
  },
  {
   "cell_type": "markdown",
   "metadata": {},
   "source": [
    "### Table of Contents \n",
    "\n",
    "1. [Introduction](#intro)\n",
    "2. [Model Dataset](#model)\n",
    "3. [FunkSVD Item-Based Recommender System with Scikit Surprise](#funksvd)\n",
    "4. [Hyperparameter Tuning FunkSVD Item-Based Recommender System](#hyper)\n",
    "5. [Making Predictions for User 4056](#4056)\n",
    "6. [Final Item-Based Recommender System](#final)"
   ]
  },
  {
   "cell_type": "markdown",
   "metadata": {},
   "source": [
    "### Introduction <a class=\"anchor\" id=\"intro\"></a>\n",
    "\n",
    "In this notebook, we will construct a Matrix Factorization Model using FunkSVD. This method is particularly useful for collaborative filtering in recommendation systems. By leveraging FunkSVD, we can factorize the user-item interaction matrix to uncover latent features that capture user preferences and item characteristics. With this model, we aim to provide accurate and personalized recommendations to users based on their past interactions."
   ]
  },
  {
   "cell_type": "markdown",
   "metadata": {},
   "source": [
    "#### Importing Python Libraries \n",
    "\n",
    "Importing necessary libraries."
   ]
  },
  {
   "cell_type": "code",
   "execution_count": 1,
   "metadata": {},
   "outputs": [],
   "source": [
    "# Import necessary libraries\n",
    "import numpy as np \n",
    "import pandas as pd \n",
    "\n",
    "# Import data visualization libraries\n",
    "import matplotlib.pyplot as plt\n",
    "\n",
    "# Import from scikit-learn\n",
    "from sklearn.metrics.pairwise import cosine_similarity\n",
    "from sklearn.metrics import mean_squared_error\n",
    "\n",
    "# Import SVD algorithm from Surprise library\n",
    "from surprise import SVD\n",
    "\n",
    "# Import Reader and Dataset from Surprise library\n",
    "from surprise.reader import Reader\n",
    "from surprise import Dataset\n",
    "\n",
    "# Import FunkSVD algorithm from Surprise library\n",
    "from surprise.prediction_algorithms.matrix_factorization import SVD as FunkSVD\n",
    "\n",
    "# Import train_test_split and GridSearchCV from Surprise library\n",
    "from surprise.model_selection import train_test_split\n",
    "from surprise.model_selection import GridSearchCV\n",
    "\n",
    "# Import accuracy module from Surprise library\n",
    "from surprise import accuracy\n",
    "\n",
    "# Ignore all warnings to avoid cluttering the output\n",
    "import warnings\n",
    "warnings.filterwarnings(\"ignore\")"
   ]
  },
  {
   "cell_type": "markdown",
   "metadata": {},
   "source": []
  },
  {
   "cell_type": "markdown",
   "metadata": {},
   "source": [
    "### Model Dataset <a class=\"anchor\" id=\"model\"></a>\n",
    "\n",
    "**Data Dictionary:**\n",
    "* `user_id`: unique user id\n",
    "* `business_id`: unique user id\n",
    "* `rating`: star rating"
   ]
  },
  {
   "cell_type": "code",
   "execution_count": 2,
   "metadata": {},
   "outputs": [],
   "source": [
    "# Read data from a pickle file into a Pandas DataFrame\n",
    "model_data = pd.read_pickle('T:/GitHub/Brainstation_Capstone/Data/model_data.pkl')"
   ]
  },
  {
   "cell_type": "code",
   "execution_count": 3,
   "metadata": {},
   "outputs": [
    {
     "name": "stdout",
     "output_type": "stream",
     "text": [
      "<class 'pandas.core.frame.DataFrame'>\n",
      "Index: 1203530 entries, 40 to 5572793\n",
      "Data columns (total 5 columns):\n",
      " #   Column           Non-Null Count    Dtype  \n",
      "---  ------           --------------    -----  \n",
      " 0   user_id          1203530 non-null  int64  \n",
      " 1   business_id      1203530 non-null  int64  \n",
      " 2   rating           1203530 non-null  float64\n",
      " 3   restaurant_name  1203530 non-null  object \n",
      " 4   categories       1203530 non-null  object \n",
      "dtypes: float64(1), int64(2), object(2)\n",
      "memory usage: 55.1+ MB\n"
     ]
    }
   ],
   "source": [
    "# Display concise information about the 'model_data.' DataFrame\n",
    "model_data.info()"
   ]
  },
  {
   "cell_type": "code",
   "execution_count": 4,
   "metadata": {},
   "outputs": [
    {
     "data": {
      "text/html": [
       "<div>\n",
       "<style scoped>\n",
       "    .dataframe tbody tr th:only-of-type {\n",
       "        vertical-align: middle;\n",
       "    }\n",
       "\n",
       "    .dataframe tbody tr th {\n",
       "        vertical-align: top;\n",
       "    }\n",
       "\n",
       "    .dataframe thead th {\n",
       "        text-align: right;\n",
       "    }\n",
       "</style>\n",
       "<table border=\"1\" class=\"dataframe\">\n",
       "  <thead>\n",
       "    <tr style=\"text-align: right;\">\n",
       "      <th></th>\n",
       "      <th>user_id</th>\n",
       "      <th>business_id</th>\n",
       "      <th>rating</th>\n",
       "      <th>restaurant_name</th>\n",
       "      <th>categories</th>\n",
       "    </tr>\n",
       "  </thead>\n",
       "  <tbody>\n",
       "    <tr>\n",
       "      <th>40</th>\n",
       "      <td>53031</td>\n",
       "      <td>6620</td>\n",
       "      <td>4.0</td>\n",
       "      <td>Thaitation</td>\n",
       "      <td>[Thai]</td>\n",
       "    </tr>\n",
       "    <tr>\n",
       "      <th>41</th>\n",
       "      <td>53031</td>\n",
       "      <td>4147</td>\n",
       "      <td>2.0</td>\n",
       "      <td>Howling Wolf Taqueria</td>\n",
       "      <td>[Bars, Arts &amp; Entertainment, Nightlife, Music ...</td>\n",
       "    </tr>\n",
       "    <tr>\n",
       "      <th>42</th>\n",
       "      <td>53031</td>\n",
       "      <td>12401</td>\n",
       "      <td>3.0</td>\n",
       "      <td>Santarpio's Pizza</td>\n",
       "      <td>[Pizza, American (Traditional), Italian]</td>\n",
       "    </tr>\n",
       "    <tr>\n",
       "      <th>43</th>\n",
       "      <td>53031</td>\n",
       "      <td>1357</td>\n",
       "      <td>2.0</td>\n",
       "      <td>The Gallows</td>\n",
       "      <td>[Seafood, Bars, American (New), American (Trad...</td>\n",
       "    </tr>\n",
       "    <tr>\n",
       "      <th>44</th>\n",
       "      <td>53031</td>\n",
       "      <td>3498</td>\n",
       "      <td>3.0</td>\n",
       "      <td>Antique Table</td>\n",
       "      <td>[Italian]</td>\n",
       "    </tr>\n",
       "  </tbody>\n",
       "</table>\n",
       "</div>"
      ],
      "text/plain": [
       "    user_id  business_id  rating        restaurant_name  \\\n",
       "40    53031         6620     4.0             Thaitation   \n",
       "41    53031         4147     2.0  Howling Wolf Taqueria   \n",
       "42    53031        12401     3.0      Santarpio's Pizza   \n",
       "43    53031         1357     2.0            The Gallows   \n",
       "44    53031         3498     3.0          Antique Table   \n",
       "\n",
       "                                           categories  \n",
       "40                                             [Thai]  \n",
       "41  [Bars, Arts & Entertainment, Nightlife, Music ...  \n",
       "42           [Pizza, American (Traditional), Italian]  \n",
       "43  [Seafood, Bars, American (New), American (Trad...  \n",
       "44                                          [Italian]  "
      ]
     },
     "execution_count": 4,
     "metadata": {},
     "output_type": "execute_result"
    }
   ],
   "source": [
    "# Display the first few rows of the 'model_data.' DataFrame\n",
    "model_data.head()"
   ]
  },
  {
   "cell_type": "code",
   "execution_count": 5,
   "metadata": {},
   "outputs": [
    {
     "data": {
      "text/plain": [
       "user_id            0\n",
       "business_id        0\n",
       "rating             0\n",
       "restaurant_name    0\n",
       "categories         0\n",
       "dtype: int64"
      ]
     },
     "execution_count": 5,
     "metadata": {},
     "output_type": "execute_result"
    }
   ],
   "source": [
    "# Count the number of missing values in each column of the 'model_data.' DataFrame\n",
    "model_data.isnull().sum()"
   ]
  },
  {
   "cell_type": "code",
   "execution_count": 6,
   "metadata": {},
   "outputs": [
    {
     "name": "stdout",
     "output_type": "stream",
     "text": [
      "The size of our model dataset is 1203530 entries.\n"
     ]
    }
   ],
   "source": [
    "# Print the size of our model dataset\n",
    "print(f\"The size of our model dataset is {model_data.shape[0]} entries.\")"
   ]
  },
  {
   "cell_type": "code",
   "execution_count": 7,
   "metadata": {},
   "outputs": [],
   "source": [
    "sample_data = model_data.sample(frac=0.01, random_state=42)"
   ]
  },
  {
   "cell_type": "code",
   "execution_count": 8,
   "metadata": {},
   "outputs": [
    {
     "data": {
      "text/html": [
       "<div>\n",
       "<style scoped>\n",
       "    .dataframe tbody tr th:only-of-type {\n",
       "        vertical-align: middle;\n",
       "    }\n",
       "\n",
       "    .dataframe tbody tr th {\n",
       "        vertical-align: top;\n",
       "    }\n",
       "\n",
       "    .dataframe thead th {\n",
       "        text-align: right;\n",
       "    }\n",
       "</style>\n",
       "<table border=\"1\" class=\"dataframe\">\n",
       "  <thead>\n",
       "    <tr style=\"text-align: right;\">\n",
       "      <th></th>\n",
       "      <th>user_id</th>\n",
       "      <th>restaurant_name</th>\n",
       "      <th>rating</th>\n",
       "    </tr>\n",
       "  </thead>\n",
       "  <tbody>\n",
       "    <tr>\n",
       "      <th>2328043</th>\n",
       "      <td>4</td>\n",
       "      <td>Blue Star Donuts</td>\n",
       "      <td>5.0</td>\n",
       "    </tr>\n",
       "    <tr>\n",
       "      <th>1488926</th>\n",
       "      <td>10</td>\n",
       "      <td>Barley's Brewing Company</td>\n",
       "      <td>3.0</td>\n",
       "    </tr>\n",
       "    <tr>\n",
       "      <th>1524809</th>\n",
       "      <td>18</td>\n",
       "      <td>The Hollywood Brown Derby</td>\n",
       "      <td>4.0</td>\n",
       "    </tr>\n",
       "    <tr>\n",
       "      <th>3048313</th>\n",
       "      <td>25</td>\n",
       "      <td>Don Chilitos Mexican Grill</td>\n",
       "      <td>4.0</td>\n",
       "    </tr>\n",
       "    <tr>\n",
       "      <th>273005</th>\n",
       "      <td>27</td>\n",
       "      <td>Sugar Mama's Bakeshop</td>\n",
       "      <td>3.0</td>\n",
       "    </tr>\n",
       "    <tr>\n",
       "      <th>...</th>\n",
       "      <td>...</td>\n",
       "      <td>...</td>\n",
       "      <td>...</td>\n",
       "    </tr>\n",
       "    <tr>\n",
       "      <th>1607482</th>\n",
       "      <td>81101</td>\n",
       "      <td>CHAU Veggie Express</td>\n",
       "      <td>4.0</td>\n",
       "    </tr>\n",
       "    <tr>\n",
       "      <th>1061957</th>\n",
       "      <td>81115</td>\n",
       "      <td>Chef Eddie's</td>\n",
       "      <td>4.0</td>\n",
       "    </tr>\n",
       "    <tr>\n",
       "      <th>1470049</th>\n",
       "      <td>81130</td>\n",
       "      <td>Alberta Street Pub</td>\n",
       "      <td>3.0</td>\n",
       "    </tr>\n",
       "    <tr>\n",
       "      <th>2071677</th>\n",
       "      <td>81132</td>\n",
       "      <td>Boxer Bento</td>\n",
       "      <td>1.0</td>\n",
       "    </tr>\n",
       "    <tr>\n",
       "      <th>864512</th>\n",
       "      <td>81133</td>\n",
       "      <td>Bongos Cuban Cafe</td>\n",
       "      <td>4.0</td>\n",
       "    </tr>\n",
       "  </tbody>\n",
       "</table>\n",
       "<p>12035 rows × 3 columns</p>\n",
       "</div>"
      ],
      "text/plain": [
       "         user_id             restaurant_name  rating\n",
       "2328043        4            Blue Star Donuts     5.0\n",
       "1488926       10    Barley's Brewing Company     3.0\n",
       "1524809       18   The Hollywood Brown Derby     4.0\n",
       "3048313       25  Don Chilitos Mexican Grill     4.0\n",
       "273005        27       Sugar Mama's Bakeshop     3.0\n",
       "...          ...                         ...     ...\n",
       "1607482    81101         CHAU Veggie Express     4.0\n",
       "1061957    81115                Chef Eddie's     4.0\n",
       "1470049    81130          Alberta Street Pub     3.0\n",
       "2071677    81132                 Boxer Bento     1.0\n",
       "864512     81133           Bongos Cuban Cafe     4.0\n",
       "\n",
       "[12035 rows x 3 columns]"
      ]
     },
     "metadata": {},
     "output_type": "display_data"
    }
   ],
   "source": [
    "# Extract columns 'user_id', 'restaurant_name', and 'rating' from 'model_data.',\n",
    "# then sort the data by 'user_id' in ascending order\n",
    "sorted_data = sample_data[['user_id', 'restaurant_name', 'rating']].sort_values(by='user_id')\n",
    "\n",
    "# Display the sorted data\n",
    "display(sorted_data)"
   ]
  },
  {
   "cell_type": "code",
   "execution_count": 9,
   "metadata": {},
   "outputs": [
    {
     "data": {
      "text/html": [
       "<div>\n",
       "<style scoped>\n",
       "    .dataframe tbody tr th:only-of-type {\n",
       "        vertical-align: middle;\n",
       "    }\n",
       "\n",
       "    .dataframe tbody tr th {\n",
       "        vertical-align: top;\n",
       "    }\n",
       "\n",
       "    .dataframe thead th {\n",
       "        text-align: right;\n",
       "    }\n",
       "</style>\n",
       "<table border=\"1\" class=\"dataframe\">\n",
       "  <thead>\n",
       "    <tr style=\"text-align: right;\">\n",
       "      <th></th>\n",
       "      <th>user_id</th>\n",
       "      <th>restaurant_name</th>\n",
       "      <th>rating</th>\n",
       "    </tr>\n",
       "  </thead>\n",
       "  <tbody>\n",
       "    <tr>\n",
       "      <th>2328043</th>\n",
       "      <td>0</td>\n",
       "      <td>Blue Star Donuts</td>\n",
       "      <td>5.0</td>\n",
       "    </tr>\n",
       "    <tr>\n",
       "      <th>1488926</th>\n",
       "      <td>1</td>\n",
       "      <td>Barley's Brewing Company</td>\n",
       "      <td>3.0</td>\n",
       "    </tr>\n",
       "    <tr>\n",
       "      <th>1524809</th>\n",
       "      <td>2</td>\n",
       "      <td>The Hollywood Brown Derby</td>\n",
       "      <td>4.0</td>\n",
       "    </tr>\n",
       "    <tr>\n",
       "      <th>3048313</th>\n",
       "      <td>3</td>\n",
       "      <td>Don Chilitos Mexican Grill</td>\n",
       "      <td>4.0</td>\n",
       "    </tr>\n",
       "    <tr>\n",
       "      <th>273005</th>\n",
       "      <td>4</td>\n",
       "      <td>Sugar Mama's Bakeshop</td>\n",
       "      <td>3.0</td>\n",
       "    </tr>\n",
       "    <tr>\n",
       "      <th>...</th>\n",
       "      <td>...</td>\n",
       "      <td>...</td>\n",
       "      <td>...</td>\n",
       "    </tr>\n",
       "    <tr>\n",
       "      <th>1607482</th>\n",
       "      <td>8976</td>\n",
       "      <td>CHAU Veggie Express</td>\n",
       "      <td>4.0</td>\n",
       "    </tr>\n",
       "    <tr>\n",
       "      <th>1061957</th>\n",
       "      <td>8977</td>\n",
       "      <td>Chef Eddie's</td>\n",
       "      <td>4.0</td>\n",
       "    </tr>\n",
       "    <tr>\n",
       "      <th>1470049</th>\n",
       "      <td>8978</td>\n",
       "      <td>Alberta Street Pub</td>\n",
       "      <td>3.0</td>\n",
       "    </tr>\n",
       "    <tr>\n",
       "      <th>2071677</th>\n",
       "      <td>8979</td>\n",
       "      <td>Boxer Bento</td>\n",
       "      <td>1.0</td>\n",
       "    </tr>\n",
       "    <tr>\n",
       "      <th>864512</th>\n",
       "      <td>8980</td>\n",
       "      <td>Bongos Cuban Cafe</td>\n",
       "      <td>4.0</td>\n",
       "    </tr>\n",
       "  </tbody>\n",
       "</table>\n",
       "<p>12035 rows × 3 columns</p>\n",
       "</div>"
      ],
      "text/plain": [
       "         user_id             restaurant_name  rating\n",
       "2328043        0            Blue Star Donuts     5.0\n",
       "1488926        1    Barley's Brewing Company     3.0\n",
       "1524809        2   The Hollywood Brown Derby     4.0\n",
       "3048313        3  Don Chilitos Mexican Grill     4.0\n",
       "273005         4       Sugar Mama's Bakeshop     3.0\n",
       "...          ...                         ...     ...\n",
       "1607482     8976         CHAU Veggie Express     4.0\n",
       "1061957     8977                Chef Eddie's     4.0\n",
       "1470049     8978          Alberta Street Pub     3.0\n",
       "2071677     8979                 Boxer Bento     1.0\n",
       "864512      8980           Bongos Cuban Cafe     4.0\n",
       "\n",
       "[12035 rows x 3 columns]"
      ]
     },
     "metadata": {},
     "output_type": "display_data"
    }
   ],
   "source": [
    "# Get unique user_id values and map them to new values starting from 0\n",
    "user_id_mapping = {user_id: new_id for new_id, user_id in enumerate(sorted_data['user_id'].unique())}\n",
    "\n",
    "# Replace the 'user_id' values in the DataFrame using the mapping\n",
    "sorted_data['user_id'] = sorted_data['user_id'].map(user_id_mapping)\n",
    "\n",
    "# Display the updated DataFrame\n",
    "display(sorted_data)"
   ]
  },
  {
   "cell_type": "code",
   "execution_count": 10,
   "metadata": {},
   "outputs": [
    {
     "name": "stdout",
     "output_type": "stream",
     "text": [
      "Number of restaurants: 5937\n",
      "Number of unique reviewers: 8981\n",
      "Range of ratings: 1.0 to 5.0\n"
     ]
    }
   ],
   "source": [
    "# Number of restaurants \n",
    "print(\"Number of restaurants:\", sorted_data['restaurant_name'].nunique())\n",
    "\n",
    "# Number of unique reviewers \n",
    "print(\"Number of unique reviewers:\", sorted_data['user_id'].nunique())\n",
    "\n",
    "# Range of ratings\n",
    "print(\"Range of ratings:\", sorted_data['rating'].min(), \"to\", sorted_data['rating'].max())"
   ]
  },
  {
   "cell_type": "markdown",
   "metadata": {},
   "source": [
    "* We have a total of 12,192 restaurants in our dataset.\n",
    "* There are 81,142 unique reviewers who have left reviews for these restaurants.\n",
    "* The ratings given by reviewers range from 1.0 to 5.0."
   ]
  },
  {
   "cell_type": "code",
   "execution_count": 11,
   "metadata": {},
   "outputs": [
    {
     "name": "stdout",
     "output_type": "stream",
     "text": [
      "User with the most ratings: 7233\n",
      "Number of ratings for the user: 13\n"
     ]
    }
   ],
   "source": [
    "# Group by 'user_id' and count the number of non-NaN ratings for each user\n",
    "user_ratings_count = sorted_data.groupby('user_id')['rating'].count()\n",
    "\n",
    "# Find the user with the most ratings (index of the maximum count)\n",
    "user_with_most_ratings = user_ratings_count.idxmax()\n",
    "\n",
    "# Get the actual count of ratings for the user with the most ratings\n",
    "most_ratings_count = user_ratings_count.max()\n",
    "\n",
    "# Print the results\n",
    "print(f\"User with the most ratings: {user_with_most_ratings}\")\n",
    "print(f\"Number of ratings for the user: {most_ratings_count}\")"
   ]
  },
  {
   "cell_type": "markdown",
   "metadata": {},
   "source": [
    "* User 59815 has provided the most ratings.\n",
    "* This user has submitted a total of 976 ratings."
   ]
  },
  {
   "cell_type": "markdown",
   "metadata": {},
   "source": [
    "### FunkSVD Item-Based Recommender System with Scikit Surprise <a class=\"anchor\" id=\"funksvd\"></a>"
   ]
  },
  {
   "cell_type": "markdown",
   "metadata": {},
   "source": [
    "Here, we are preparing our data for the scikit-surprise library to build a recommendation model. First, we create a Reader object and specify the rating scale, which ranges from 1 to 5 in this case. Next, we load our DataFrame `sorted_data` into a scikit-surprise Dataset object using Dataset."
   ]
  },
  {
   "cell_type": "code",
   "execution_count": 12,
   "metadata": {},
   "outputs": [],
   "source": [
    "# Load the DataFrame into a scikit-surprise Dataset\n",
    "reader = Reader(rating_scale=(1, 5))\n",
    "\n",
    "data = Dataset.load_from_df(sorted_data[['user_id', 'restaurant_name', 'rating']], reader)"
   ]
  },
  {
   "cell_type": "code",
   "execution_count": 13,
   "metadata": {},
   "outputs": [],
   "source": [
    "# Split the data into training and testing sets\n",
    "trainset, testset = train_test_split(data, test_size=0.4)"
   ]
  },
  {
   "cell_type": "markdown",
   "metadata": {},
   "source": [
    "Our baseline FunkSVD model will be set up with the following parameters:\n",
    "\n",
    "* Number of factors (latent features) considered: 100\n",
    "* Number of epochs (iterations during training): 20\n",
    "* Learning rate for the optimization process: 0.05\n",
    "* Biased set to False (indicating no bias terms are used in the model)\n",
    "* Verbosity level set to 0 (minimal output during training)\n",
    "\n",
    "These parameters define the behavior and complexity of our FunkSVD model, and with these settings, we'll proceed to train and optimize our recommendation system effectively."
   ]
  },
  {
   "cell_type": "code",
   "execution_count": 14,
   "metadata": {},
   "outputs": [
    {
     "data": {
      "text/plain": [
       "<surprise.prediction_algorithms.matrix_factorization.SVD at 0x105f335d0>"
      ]
     },
     "execution_count": 14,
     "metadata": {},
     "output_type": "execute_result"
    }
   ],
   "source": [
    "# Create the FunkSVD model\n",
    "model = FunkSVD(n_factors=100, n_epochs=20, lr_all=0.05, biased=False, verbose=0)\n",
    "\n",
    "# Train the model on the training set\n",
    "model.fit(trainset)"
   ]
  },
  {
   "cell_type": "code",
   "execution_count": 15,
   "metadata": {},
   "outputs": [],
   "source": [
    "# Make predictions on the test set\n",
    "predictions = model.test(testset)"
   ]
  },
  {
   "cell_type": "code",
   "execution_count": 16,
   "metadata": {},
   "outputs": [
    {
     "name": "stdout",
     "output_type": "stream",
     "text": [
      "Root Mean Squared Error (RMSE): 1.5800241520888678\n",
      "Mean Squared Error (MSE): 2.496476321184146\n",
      "Mean Absolute Error (MAE): 1.1744352177494088\n",
      "Fraction of Concordant Pairs (FCP): 0.482469545474392\n"
     ]
    }
   ],
   "source": [
    "# Calculate and print RMSE\n",
    "print(\"Root Mean Squared Error (RMSE):\", accuracy.rmse(predictions, verbose=False))\n",
    "\n",
    "# Calculate and print MSE\n",
    "print(\"Mean Squared Error (MSE):\", accuracy.mse(predictions, verbose=False))\n",
    "\n",
    "# Calculate and print MAE\n",
    "print(\"Mean Absolute Error (MAE):\", accuracy.mae(predictions, verbose=False))\n",
    "\n",
    "# Calculate and print FCP\n",
    "print(\"Fraction of Concordant Pairs (FCP):\", accuracy.fcp(predictions, verbose=False))"
   ]
  },
  {
   "cell_type": "markdown",
   "metadata": {},
   "source": [
    "Let's understand the results of our baseline Matrix Factorization Model using FunkSVD:\n",
    "\n",
    "* **Root Mean Squared Error (RMSE)**: In this case, the RMSE value is approximately 1.14. A lower RMSE indicates that the model's predictions are closer to the actual ratings, suggesting a better fit to the data.\n",
    "\n",
    "* **Mean Squared Error (MSE)**: The MSE value is around 1.29. Like RMSE, a lower MSE indicates better model performance.\n",
    "\n",
    "* **Mean Absolute Error (MAE)**: The MAE value is approximately 0.89. Similar to RMSE and MSE, a lower MAE indicates more accurate predictions.\n",
    "\n",
    "* **Fraction of Concordant Pairs (FCP)**: The FCP value is around 0.60, which means that around 60% of the item pairs are correctly ranked by our model.\n",
    "\n",
    "Overall, these metrics give us insights into the performance of our baseline model. We aim to improve these values as we fine-tune the model and make more accurate and reliable recommendations."
   ]
  },
  {
   "cell_type": "markdown",
   "metadata": {},
   "source": [
    "### Hyperparameter Tuning FunkSVD Item-Based Recommender System <a class=\"anchor\" id=\"hyper\"></a>\n",
    "\n",
    "We'll now do some Hyperparameter Tuning for our FunkSVD Item-Based Recommender System. We'll use a grid search to explore different combinations of hyperparameters and find the best set of parameters that optimize the model's performance. By fine-tuning the hyperparameters, we aim to enhance the recommendation system's accuracy and effectiveness, providing users with more personalized and relevant restaurant suggestions. "
   ]
  },
  {
   "cell_type": "code",
   "execution_count": 17,
   "metadata": {},
   "outputs": [],
   "source": [
    "# Set the parameter grid\n",
    "param_grid = {\n",
    "    'n_factors': [100, 150], \n",
    "    'n_epochs': [10, 20],\n",
    "    'lr_all': [0.005, 0.1],\n",
    "    'biased': [False] }\n",
    "\n",
    "# Set GridSearchCV with 3 cross validation\n",
    "GS = GridSearchCV(FunkSVD, param_grid, measures=['fcp'], cv=3)\n",
    "\n",
    "# Fit the model\n",
    "GS.fit(data)"
   ]
  },
  {
   "cell_type": "code",
   "execution_count": 18,
   "metadata": {},
   "outputs": [
    {
     "name": "stdout",
     "output_type": "stream",
     "text": [
      "Best FCP: 0.47676902947597544\n",
      "Best parameters: {'n_factors': 150, 'n_epochs': 10, 'lr_all': 0.1, 'biased': False}\n"
     ]
    }
   ],
   "source": [
    "# Print the best FCP scores\n",
    "print('Best FCP:', GS.best_score['fcp'])\n",
    "\n",
    "# Print the best parameters found during the grid search\n",
    "print('Best parameters:', GS.best_params['fcp'])"
   ]
  },
  {
   "cell_type": "markdown",
   "metadata": {},
   "source": [
    "**Best FCP**: The highest Fraction of Concordant Pairs (FCP) achieved by our model is approximately 0.62. FCP is a measure of how well our model ranks the items, and a higher FCP means better ranking performance.\n",
    "\n",
    "**Best parameters**: The hyperparameters that resulted in the best FCP are as follows:\n",
    "* Number of factors (latent features) considered: 100\n",
    "* Number of epochs (iterations during training): 10\n",
    "* Learning rate for the optimization process: 0.005\n",
    "* Biased set to False (indicating no bias terms are used in the model)\n",
    "\n",
    "These are the optimal hyperparameters that significantly improved the ranking performance of our recommender system. With these settings, our model is now better at providing more accurate and relevant restaurant recommendations to users."
   ]
  },
  {
   "cell_type": "code",
   "execution_count": 19,
   "metadata": {},
   "outputs": [],
   "source": [
    "# Split train test set\n",
    "trainset, testset = train_test_split(data, test_size=0.40)\n",
    "\n",
    "# Set the algorithm\n",
    "my_svd = FunkSVD(n_factors=150, \n",
    "                 n_epochs=20, \n",
    "                 lr_all=0.1,\n",
    "                 biased=False,\n",
    "                 verbose=0)\n",
    "\n",
    "# Fit train set\n",
    "my_svd.fit(trainset)\n",
    "\n",
    "# Test the algorithm using test set\n",
    "my_pred = my_svd.test(testset)"
   ]
  },
  {
   "cell_type": "code",
   "execution_count": 20,
   "metadata": {},
   "outputs": [],
   "source": [
    "# Put 'my_pred' results in a DataFrame\n",
    "df_prediction_rated = pd.DataFrame(my_pred, columns=['user_id',\n",
    "                                               'restaurant_name',\n",
    "                                               'actual',\n",
    "                                               'prediction',\n",
    "                                               'details'])\n",
    "\n",
    "# Calculate the difference of actual and prediction into the 'diff' column\n",
    "df_prediction_rated['diff'] = abs(df_prediction_rated['prediction'] - df_prediction_rated['actual'])"
   ]
  },
  {
   "cell_type": "markdown",
   "metadata": {},
   "source": []
  },
  {
   "cell_type": "code",
   "execution_count": 21,
   "metadata": {},
   "outputs": [
    {
     "data": {
      "text/html": [
       "<div>\n",
       "<style scoped>\n",
       "    .dataframe tbody tr th:only-of-type {\n",
       "        vertical-align: middle;\n",
       "    }\n",
       "\n",
       "    .dataframe tbody tr th {\n",
       "        vertical-align: top;\n",
       "    }\n",
       "\n",
       "    .dataframe thead th {\n",
       "        text-align: right;\n",
       "    }\n",
       "</style>\n",
       "<table border=\"1\" class=\"dataframe\">\n",
       "  <thead>\n",
       "    <tr style=\"text-align: right;\">\n",
       "      <th></th>\n",
       "      <th>user_id</th>\n",
       "      <th>restaurant_name</th>\n",
       "      <th>actual</th>\n",
       "      <th>prediction</th>\n",
       "      <th>details</th>\n",
       "      <th>diff</th>\n",
       "    </tr>\n",
       "  </thead>\n",
       "  <tbody>\n",
       "    <tr>\n",
       "      <th>0</th>\n",
       "      <td>6598</td>\n",
       "      <td>Snooze, an A.M. Eatery</td>\n",
       "      <td>5.0</td>\n",
       "      <td>1.000000</td>\n",
       "      <td>{'was_impossible': False}</td>\n",
       "      <td>4.000000</td>\n",
       "    </tr>\n",
       "    <tr>\n",
       "      <th>1</th>\n",
       "      <td>2665</td>\n",
       "      <td>Texas Roadhouse</td>\n",
       "      <td>4.0</td>\n",
       "      <td>3.859853</td>\n",
       "      <td>{'was_impossible': True, 'reason': 'User and i...</td>\n",
       "      <td>0.140147</td>\n",
       "    </tr>\n",
       "    <tr>\n",
       "      <th>2</th>\n",
       "      <td>333</td>\n",
       "      <td>Takemura Japanese Restaurant</td>\n",
       "      <td>4.0</td>\n",
       "      <td>3.859853</td>\n",
       "      <td>{'was_impossible': True, 'reason': 'User and i...</td>\n",
       "      <td>0.140147</td>\n",
       "    </tr>\n",
       "    <tr>\n",
       "      <th>3</th>\n",
       "      <td>8445</td>\n",
       "      <td>Breka Bakery &amp; Cafe</td>\n",
       "      <td>4.0</td>\n",
       "      <td>3.859853</td>\n",
       "      <td>{'was_impossible': True, 'reason': 'User and i...</td>\n",
       "      <td>0.140147</td>\n",
       "    </tr>\n",
       "    <tr>\n",
       "      <th>4</th>\n",
       "      <td>4935</td>\n",
       "      <td>Darwin's</td>\n",
       "      <td>4.0</td>\n",
       "      <td>3.859853</td>\n",
       "      <td>{'was_impossible': True, 'reason': 'User and i...</td>\n",
       "      <td>0.140147</td>\n",
       "    </tr>\n",
       "  </tbody>\n",
       "</table>\n",
       "</div>"
      ],
      "text/plain": [
       "   user_id               restaurant_name  actual  prediction  \\\n",
       "0     6598        Snooze, an A.M. Eatery     5.0    1.000000   \n",
       "1     2665               Texas Roadhouse     4.0    3.859853   \n",
       "2      333  Takemura Japanese Restaurant     4.0    3.859853   \n",
       "3     8445           Breka Bakery & Cafe     4.0    3.859853   \n",
       "4     4935                      Darwin's     4.0    3.859853   \n",
       "\n",
       "                                             details      diff  \n",
       "0                          {'was_impossible': False}  4.000000  \n",
       "1  {'was_impossible': True, 'reason': 'User and i...  0.140147  \n",
       "2  {'was_impossible': True, 'reason': 'User and i...  0.140147  \n",
       "3  {'was_impossible': True, 'reason': 'User and i...  0.140147  \n",
       "4  {'was_impossible': True, 'reason': 'User and i...  0.140147  "
      ]
     },
     "execution_count": 21,
     "metadata": {},
     "output_type": "execute_result"
    }
   ],
   "source": [
    "# Check the df_prediction\n",
    "df_prediction_rated.head()"
   ]
  },
  {
   "cell_type": "code",
   "execution_count": 22,
   "metadata": {},
   "outputs": [
    {
     "data": {
      "text/html": [
       "<div>\n",
       "<style scoped>\n",
       "    .dataframe tbody tr th:only-of-type {\n",
       "        vertical-align: middle;\n",
       "    }\n",
       "\n",
       "    .dataframe tbody tr th {\n",
       "        vertical-align: top;\n",
       "    }\n",
       "\n",
       "    .dataframe thead th {\n",
       "        text-align: right;\n",
       "    }\n",
       "</style>\n",
       "<table border=\"1\" class=\"dataframe\">\n",
       "  <thead>\n",
       "    <tr style=\"text-align: right;\">\n",
       "      <th></th>\n",
       "      <th>user_id</th>\n",
       "      <th>restaurant_name</th>\n",
       "      <th>actual</th>\n",
       "      <th>prediction</th>\n",
       "      <th>details</th>\n",
       "      <th>diff</th>\n",
       "    </tr>\n",
       "  </thead>\n",
       "  <tbody>\n",
       "    <tr>\n",
       "      <th>3382</th>\n",
       "      <td>5551</td>\n",
       "      <td>Austin Daily Press</td>\n",
       "      <td>1.0</td>\n",
       "      <td>1.0</td>\n",
       "      <td>{'was_impossible': False}</td>\n",
       "      <td>0.0</td>\n",
       "    </tr>\n",
       "    <tr>\n",
       "      <th>681</th>\n",
       "      <td>6143</td>\n",
       "      <td>Güero's Taco Bar</td>\n",
       "      <td>1.0</td>\n",
       "      <td>1.0</td>\n",
       "      <td>{'was_impossible': False}</td>\n",
       "      <td>0.0</td>\n",
       "    </tr>\n",
       "    <tr>\n",
       "      <th>1488</th>\n",
       "      <td>3675</td>\n",
       "      <td>Papa Haydn Northwest</td>\n",
       "      <td>1.0</td>\n",
       "      <td>1.0</td>\n",
       "      <td>{'was_impossible': False}</td>\n",
       "      <td>0.0</td>\n",
       "    </tr>\n",
       "    <tr>\n",
       "      <th>3655</th>\n",
       "      <td>6045</td>\n",
       "      <td>Finale</td>\n",
       "      <td>1.0</td>\n",
       "      <td>1.0</td>\n",
       "      <td>{'was_impossible': False}</td>\n",
       "      <td>0.0</td>\n",
       "    </tr>\n",
       "    <tr>\n",
       "      <th>403</th>\n",
       "      <td>674</td>\n",
       "      <td>Cambridge Brewing Company</td>\n",
       "      <td>1.0</td>\n",
       "      <td>1.0</td>\n",
       "      <td>{'was_impossible': False}</td>\n",
       "      <td>0.0</td>\n",
       "    </tr>\n",
       "    <tr>\n",
       "      <th>4532</th>\n",
       "      <td>969</td>\n",
       "      <td>Gus's World Famous Fried Chicken</td>\n",
       "      <td>1.0</td>\n",
       "      <td>1.0</td>\n",
       "      <td>{'was_impossible': False}</td>\n",
       "      <td>0.0</td>\n",
       "    </tr>\n",
       "    <tr>\n",
       "      <th>3846</th>\n",
       "      <td>115</td>\n",
       "      <td>Hong Kong Eatery</td>\n",
       "      <td>1.0</td>\n",
       "      <td>1.0</td>\n",
       "      <td>{'was_impossible': False}</td>\n",
       "      <td>0.0</td>\n",
       "    </tr>\n",
       "    <tr>\n",
       "      <th>3242</th>\n",
       "      <td>287</td>\n",
       "      <td>Imperial Dynasty Chinese and Japanese Cuisine</td>\n",
       "      <td>1.0</td>\n",
       "      <td>1.0</td>\n",
       "      <td>{'was_impossible': False}</td>\n",
       "      <td>0.0</td>\n",
       "    </tr>\n",
       "    <tr>\n",
       "      <th>2095</th>\n",
       "      <td>4199</td>\n",
       "      <td>East Coast Grill</td>\n",
       "      <td>1.0</td>\n",
       "      <td>1.0</td>\n",
       "      <td>{'was_impossible': False}</td>\n",
       "      <td>0.0</td>\n",
       "    </tr>\n",
       "    <tr>\n",
       "      <th>1405</th>\n",
       "      <td>7765</td>\n",
       "      <td>B.GOOD</td>\n",
       "      <td>1.0</td>\n",
       "      <td>1.0</td>\n",
       "      <td>{'was_impossible': False}</td>\n",
       "      <td>0.0</td>\n",
       "    </tr>\n",
       "  </tbody>\n",
       "</table>\n",
       "</div>"
      ],
      "text/plain": [
       "      user_id                                restaurant_name  actual  \\\n",
       "3382     5551                             Austin Daily Press     1.0   \n",
       "681      6143                               Güero's Taco Bar     1.0   \n",
       "1488     3675                           Papa Haydn Northwest     1.0   \n",
       "3655     6045                                         Finale     1.0   \n",
       "403       674                      Cambridge Brewing Company     1.0   \n",
       "4532      969               Gus's World Famous Fried Chicken     1.0   \n",
       "3846      115                               Hong Kong Eatery     1.0   \n",
       "3242      287  Imperial Dynasty Chinese and Japanese Cuisine     1.0   \n",
       "2095     4199                               East Coast Grill     1.0   \n",
       "1405     7765                                         B.GOOD     1.0   \n",
       "\n",
       "      prediction                    details  diff  \n",
       "3382         1.0  {'was_impossible': False}   0.0  \n",
       "681          1.0  {'was_impossible': False}   0.0  \n",
       "1488         1.0  {'was_impossible': False}   0.0  \n",
       "3655         1.0  {'was_impossible': False}   0.0  \n",
       "403          1.0  {'was_impossible': False}   0.0  \n",
       "4532         1.0  {'was_impossible': False}   0.0  \n",
       "3846         1.0  {'was_impossible': False}   0.0  \n",
       "3242         1.0  {'was_impossible': False}   0.0  \n",
       "2095         1.0  {'was_impossible': False}   0.0  \n",
       "1405         1.0  {'was_impossible': False}   0.0  "
      ]
     },
     "execution_count": 22,
     "metadata": {},
     "output_type": "execute_result"
    }
   ],
   "source": [
    "# See the best 10 predictions\n",
    "df_prediction_rated.sort_values(by='diff')[:10]"
   ]
  },
  {
   "cell_type": "code",
   "execution_count": 23,
   "metadata": {},
   "outputs": [
    {
     "data": {
      "text/html": [
       "<div>\n",
       "<style scoped>\n",
       "    .dataframe tbody tr th:only-of-type {\n",
       "        vertical-align: middle;\n",
       "    }\n",
       "\n",
       "    .dataframe tbody tr th {\n",
       "        vertical-align: top;\n",
       "    }\n",
       "\n",
       "    .dataframe thead th {\n",
       "        text-align: right;\n",
       "    }\n",
       "</style>\n",
       "<table border=\"1\" class=\"dataframe\">\n",
       "  <thead>\n",
       "    <tr style=\"text-align: right;\">\n",
       "      <th></th>\n",
       "      <th>user_id</th>\n",
       "      <th>restaurant_name</th>\n",
       "      <th>actual</th>\n",
       "      <th>prediction</th>\n",
       "      <th>details</th>\n",
       "      <th>diff</th>\n",
       "    </tr>\n",
       "  </thead>\n",
       "  <tbody>\n",
       "    <tr>\n",
       "      <th>821</th>\n",
       "      <td>1822</td>\n",
       "      <td>Dave's Fresh Pasta</td>\n",
       "      <td>5.0</td>\n",
       "      <td>1.0</td>\n",
       "      <td>{'was_impossible': False}</td>\n",
       "      <td>4.0</td>\n",
       "    </tr>\n",
       "    <tr>\n",
       "      <th>3666</th>\n",
       "      <td>2172</td>\n",
       "      <td>Joy Cafe</td>\n",
       "      <td>5.0</td>\n",
       "      <td>1.0</td>\n",
       "      <td>{'was_impossible': False}</td>\n",
       "      <td>4.0</td>\n",
       "    </tr>\n",
       "    <tr>\n",
       "      <th>841</th>\n",
       "      <td>4672</td>\n",
       "      <td>Jade Restaurant</td>\n",
       "      <td>5.0</td>\n",
       "      <td>1.0</td>\n",
       "      <td>{'was_impossible': False}</td>\n",
       "      <td>4.0</td>\n",
       "    </tr>\n",
       "    <tr>\n",
       "      <th>3637</th>\n",
       "      <td>7213</td>\n",
       "      <td>Chez Zee American Bistro</td>\n",
       "      <td>5.0</td>\n",
       "      <td>1.0</td>\n",
       "      <td>{'was_impossible': False}</td>\n",
       "      <td>4.0</td>\n",
       "    </tr>\n",
       "    <tr>\n",
       "      <th>3618</th>\n",
       "      <td>1773</td>\n",
       "      <td>SkyLounge</td>\n",
       "      <td>5.0</td>\n",
       "      <td>1.0</td>\n",
       "      <td>{'was_impossible': False}</td>\n",
       "      <td>4.0</td>\n",
       "    </tr>\n",
       "    <tr>\n",
       "      <th>3606</th>\n",
       "      <td>3013</td>\n",
       "      <td>BYTES Restaurant</td>\n",
       "      <td>5.0</td>\n",
       "      <td>1.0</td>\n",
       "      <td>{'was_impossible': False}</td>\n",
       "      <td>4.0</td>\n",
       "    </tr>\n",
       "    <tr>\n",
       "      <th>3603</th>\n",
       "      <td>8618</td>\n",
       "      <td>Hubert's Polish Kitchen</td>\n",
       "      <td>5.0</td>\n",
       "      <td>1.0</td>\n",
       "      <td>{'was_impossible': False}</td>\n",
       "      <td>4.0</td>\n",
       "    </tr>\n",
       "    <tr>\n",
       "      <th>871</th>\n",
       "      <td>6045</td>\n",
       "      <td>India Quality Restaurant</td>\n",
       "      <td>5.0</td>\n",
       "      <td>1.0</td>\n",
       "      <td>{'was_impossible': False}</td>\n",
       "      <td>4.0</td>\n",
       "    </tr>\n",
       "    <tr>\n",
       "      <th>3692</th>\n",
       "      <td>1332</td>\n",
       "      <td>Raku</td>\n",
       "      <td>5.0</td>\n",
       "      <td>1.0</td>\n",
       "      <td>{'was_impossible': False}</td>\n",
       "      <td>4.0</td>\n",
       "    </tr>\n",
       "    <tr>\n",
       "      <th>0</th>\n",
       "      <td>6598</td>\n",
       "      <td>Snooze, an A.M. Eatery</td>\n",
       "      <td>5.0</td>\n",
       "      <td>1.0</td>\n",
       "      <td>{'was_impossible': False}</td>\n",
       "      <td>4.0</td>\n",
       "    </tr>\n",
       "  </tbody>\n",
       "</table>\n",
       "</div>"
      ],
      "text/plain": [
       "      user_id           restaurant_name  actual  prediction  \\\n",
       "821      1822        Dave's Fresh Pasta     5.0         1.0   \n",
       "3666     2172                  Joy Cafe     5.0         1.0   \n",
       "841      4672           Jade Restaurant     5.0         1.0   \n",
       "3637     7213  Chez Zee American Bistro     5.0         1.0   \n",
       "3618     1773                 SkyLounge     5.0         1.0   \n",
       "3606     3013          BYTES Restaurant     5.0         1.0   \n",
       "3603     8618   Hubert's Polish Kitchen     5.0         1.0   \n",
       "871      6045  India Quality Restaurant     5.0         1.0   \n",
       "3692     1332                      Raku     5.0         1.0   \n",
       "0        6598    Snooze, an A.M. Eatery     5.0         1.0   \n",
       "\n",
       "                        details  diff  \n",
       "821   {'was_impossible': False}   4.0  \n",
       "3666  {'was_impossible': False}   4.0  \n",
       "841   {'was_impossible': False}   4.0  \n",
       "3637  {'was_impossible': False}   4.0  \n",
       "3618  {'was_impossible': False}   4.0  \n",
       "3606  {'was_impossible': False}   4.0  \n",
       "3603  {'was_impossible': False}   4.0  \n",
       "871   {'was_impossible': False}   4.0  \n",
       "3692  {'was_impossible': False}   4.0  \n",
       "0     {'was_impossible': False}   4.0  "
      ]
     },
     "execution_count": 23,
     "metadata": {},
     "output_type": "execute_result"
    }
   ],
   "source": [
    "# See the worse 10 predictions\n",
    "df_prediction_rated.sort_values(by='diff')[-10:]"
   ]
  },
  {
   "cell_type": "code",
   "execution_count": 24,
   "metadata": {},
   "outputs": [
    {
     "name": "stdout",
     "output_type": "stream",
     "text": [
      "Proportion of correct predictions: 0.00540091400083091\n"
     ]
    }
   ],
   "source": [
    "# Calculate the proportion where the predicted rating matches exactly with the actual rating\n",
    "print(\"Proportion of correct predictions:\", (df_prediction_rated['diff'] == 0).mean())"
   ]
  },
  {
   "cell_type": "markdown",
   "metadata": {},
   "source": [
    "**Proportion of correct predictions**: This metric indicates that approximately 1.28% of the predictions made by our model are correct. This means the model's accuracy is relatively low, as only a small fraction of predictions are accurate."
   ]
  },
  {
   "cell_type": "code",
   "execution_count": 25,
   "metadata": {},
   "outputs": [
    {
     "name": "stdout",
     "output_type": "stream",
     "text": [
      "Proportion of correct predictions within margin 1: 0.4977149979227254\n"
     ]
    }
   ],
   "source": [
    "# Calculate the proportion of correct predictions within a margin of 1 \n",
    "print(\"Proportion of correct predictions within margin 1:\", (df_prediction_rated[\"diff\"] <= 1).mean())"
   ]
  },
  {
   "cell_type": "markdown",
   "metadata": {},
   "source": [
    "**Proportion of correct predictions within margin 1**: About 53.11% of the model's predictions fall within a margin of 1. In other words, the model is relatively more accurate when its predictions are within a small difference (margin of 1) from the actual values. However, there is still room for improvement to enhance overall prediction accuracy."
   ]
  },
  {
   "cell_type": "markdown",
   "metadata": {},
   "source": []
  },
  {
   "cell_type": "code",
   "execution_count": 26,
   "metadata": {},
   "outputs": [
    {
     "data": {
      "text/plain": [
       "<surprise.prediction_algorithms.matrix_factorization.SVD at 0x16a0dab50>"
      ]
     },
     "execution_count": 26,
     "metadata": {},
     "output_type": "execute_result"
    }
   ],
   "source": [
    "# Build full trainset\n",
    "full_trainset = data.build_full_trainset()\n",
    "\n",
    "# Fit with full trainset\n",
    "my_svd.fit(full_trainset)"
   ]
  },
  {
   "cell_type": "code",
   "execution_count": 38,
   "metadata": {},
   "outputs": [
    {
     "data": {
      "text/plain": [
       "<surprise.prediction_algorithms.matrix_factorization.SVD at 0x165527990>"
      ]
     },
     "execution_count": 38,
     "metadata": {},
     "output_type": "execute_result"
    }
   ],
   "source": [
    "# Split the dataset into training and testing sets\n",
    "trainset, testset = train_test_split(data, test_size=0.4)  # You can adjust the test_size as per your preference\n",
    "\n",
    "# Create an instance of the SVD algorithm\n",
    "my_svd = SVD()\n",
    "\n",
    "# Fit the model with the training set\n",
    "my_svd.fit(trainset)"
   ]
  },
  {
   "cell_type": "code",
   "execution_count": 39,
   "metadata": {},
   "outputs": [],
   "source": [
    "# Prepare the Test Set\n",
    "testset = trainset.build_anti_testset(fill=-1)"
   ]
  },
  {
   "cell_type": "code",
   "execution_count": 40,
   "metadata": {},
   "outputs": [],
   "source": [
    "# Make predictions on the test set\n",
    "predictions = my_svd.test(testset)"
   ]
  },
  {
   "cell_type": "code",
   "execution_count": 41,
   "metadata": {},
   "outputs": [],
   "source": [
    "# Put into a dataframe\n",
    "df_prediction_unrated = pd.DataFrame(my_pred, columns=['user_id',\n",
    "                                                     'restaurant_name',\n",
    "                                                     'actual',\n",
    "                                                     'prediction',\n",
    "                                                     'details'])"
   ]
  },
  {
   "cell_type": "code",
   "execution_count": 42,
   "metadata": {},
   "outputs": [
    {
     "data": {
      "text/html": [
       "<div>\n",
       "<style scoped>\n",
       "    .dataframe tbody tr th:only-of-type {\n",
       "        vertical-align: middle;\n",
       "    }\n",
       "\n",
       "    .dataframe tbody tr th {\n",
       "        vertical-align: top;\n",
       "    }\n",
       "\n",
       "    .dataframe thead th {\n",
       "        text-align: right;\n",
       "    }\n",
       "</style>\n",
       "<table border=\"1\" class=\"dataframe\">\n",
       "  <thead>\n",
       "    <tr style=\"text-align: right;\">\n",
       "      <th></th>\n",
       "      <th>user_id</th>\n",
       "      <th>restaurant_name</th>\n",
       "      <th>actual</th>\n",
       "      <th>prediction</th>\n",
       "      <th>details</th>\n",
       "    </tr>\n",
       "  </thead>\n",
       "  <tbody>\n",
       "    <tr>\n",
       "      <th>0</th>\n",
       "      <td>6598</td>\n",
       "      <td>Snooze, an A.M. Eatery</td>\n",
       "      <td>5.0</td>\n",
       "      <td>1.000000</td>\n",
       "      <td>{'was_impossible': False}</td>\n",
       "    </tr>\n",
       "    <tr>\n",
       "      <th>1</th>\n",
       "      <td>2665</td>\n",
       "      <td>Texas Roadhouse</td>\n",
       "      <td>4.0</td>\n",
       "      <td>3.859853</td>\n",
       "      <td>{'was_impossible': True, 'reason': 'User and i...</td>\n",
       "    </tr>\n",
       "    <tr>\n",
       "      <th>2</th>\n",
       "      <td>333</td>\n",
       "      <td>Takemura Japanese Restaurant</td>\n",
       "      <td>4.0</td>\n",
       "      <td>3.859853</td>\n",
       "      <td>{'was_impossible': True, 'reason': 'User and i...</td>\n",
       "    </tr>\n",
       "    <tr>\n",
       "      <th>3</th>\n",
       "      <td>8445</td>\n",
       "      <td>Breka Bakery &amp; Cafe</td>\n",
       "      <td>4.0</td>\n",
       "      <td>3.859853</td>\n",
       "      <td>{'was_impossible': True, 'reason': 'User and i...</td>\n",
       "    </tr>\n",
       "    <tr>\n",
       "      <th>4</th>\n",
       "      <td>4935</td>\n",
       "      <td>Darwin's</td>\n",
       "      <td>4.0</td>\n",
       "      <td>3.859853</td>\n",
       "      <td>{'was_impossible': True, 'reason': 'User and i...</td>\n",
       "    </tr>\n",
       "  </tbody>\n",
       "</table>\n",
       "</div>"
      ],
      "text/plain": [
       "   user_id               restaurant_name  actual  prediction  \\\n",
       "0     6598        Snooze, an A.M. Eatery     5.0    1.000000   \n",
       "1     2665               Texas Roadhouse     4.0    3.859853   \n",
       "2      333  Takemura Japanese Restaurant     4.0    3.859853   \n",
       "3     8445           Breka Bakery & Cafe     4.0    3.859853   \n",
       "4     4935                      Darwin's     4.0    3.859853   \n",
       "\n",
       "                                             details  \n",
       "0                          {'was_impossible': False}  \n",
       "1  {'was_impossible': True, 'reason': 'User and i...  \n",
       "2  {'was_impossible': True, 'reason': 'User and i...  \n",
       "3  {'was_impossible': True, 'reason': 'User and i...  \n",
       "4  {'was_impossible': True, 'reason': 'User and i...  "
      ]
     },
     "execution_count": 42,
     "metadata": {},
     "output_type": "execute_result"
    }
   ],
   "source": [
    "df_prediction_unrated.head()"
   ]
  },
  {
   "cell_type": "markdown",
   "metadata": {},
   "source": [
    "### Making Predictions for User 7233 <a class=\"anchor\" id=\"7233\"></a>"
   ]
  },
  {
   "cell_type": "code",
   "execution_count": 43,
   "metadata": {},
   "outputs": [
    {
     "data": {
      "text/html": [
       "<div>\n",
       "<style scoped>\n",
       "    .dataframe tbody tr th:only-of-type {\n",
       "        vertical-align: middle;\n",
       "    }\n",
       "\n",
       "    .dataframe tbody tr th {\n",
       "        vertical-align: top;\n",
       "    }\n",
       "\n",
       "    .dataframe thead th {\n",
       "        text-align: right;\n",
       "    }\n",
       "</style>\n",
       "<table border=\"1\" class=\"dataframe\">\n",
       "  <thead>\n",
       "    <tr style=\"text-align: right;\">\n",
       "      <th></th>\n",
       "      <th>user_id</th>\n",
       "      <th>restaurant_name</th>\n",
       "      <th>actual</th>\n",
       "      <th>prediction</th>\n",
       "      <th>details</th>\n",
       "    </tr>\n",
       "  </thead>\n",
       "  <tbody>\n",
       "    <tr>\n",
       "      <th>1495</th>\n",
       "      <td>7233</td>\n",
       "      <td>Fuku Boston Seaport</td>\n",
       "      <td>3.0</td>\n",
       "      <td>3.859853</td>\n",
       "      <td>{'was_impossible': True, 'reason': 'User and i...</td>\n",
       "    </tr>\n",
       "    <tr>\n",
       "      <th>2404</th>\n",
       "      <td>7233</td>\n",
       "      <td>Spring Shabu-Shabu</td>\n",
       "      <td>4.0</td>\n",
       "      <td>3.859853</td>\n",
       "      <td>{'was_impossible': True, 'reason': 'User and i...</td>\n",
       "    </tr>\n",
       "    <tr>\n",
       "      <th>1337</th>\n",
       "      <td>7233</td>\n",
       "      <td>Elephant &amp; Castle</td>\n",
       "      <td>3.0</td>\n",
       "      <td>1.000000</td>\n",
       "      <td>{'was_impossible': False}</td>\n",
       "    </tr>\n",
       "    <tr>\n",
       "      <th>3023</th>\n",
       "      <td>7233</td>\n",
       "      <td>Pho Pasteur</td>\n",
       "      <td>3.0</td>\n",
       "      <td>1.000000</td>\n",
       "      <td>{'was_impossible': False}</td>\n",
       "    </tr>\n",
       "  </tbody>\n",
       "</table>\n",
       "</div>"
      ],
      "text/plain": [
       "      user_id      restaurant_name  actual  prediction  \\\n",
       "1495     7233  Fuku Boston Seaport     3.0    3.859853   \n",
       "2404     7233   Spring Shabu-Shabu     4.0    3.859853   \n",
       "1337     7233    Elephant & Castle     3.0    1.000000   \n",
       "3023     7233          Pho Pasteur     3.0    1.000000   \n",
       "\n",
       "                                                details  \n",
       "1495  {'was_impossible': True, 'reason': 'User and i...  \n",
       "2404  {'was_impossible': True, 'reason': 'User and i...  \n",
       "1337                          {'was_impossible': False}  \n",
       "3023                          {'was_impossible': False}  "
      ]
     },
     "execution_count": 43,
     "metadata": {},
     "output_type": "execute_result"
    }
   ],
   "source": [
    "# Check our favorite user id `7233` for the top predictions\n",
    "predict_7233 = df_prediction_unrated[df_prediction_unrated['user_id'] == 7233].sort_values(by=['prediction'], ascending=False)\n",
    "\n",
    "predict_7233"
   ]
  },
  {
   "cell_type": "code",
   "execution_count": 44,
   "metadata": {},
   "outputs": [
    {
     "data": {
      "text/html": [
       "<div>\n",
       "<style scoped>\n",
       "    .dataframe tbody tr th:only-of-type {\n",
       "        vertical-align: middle;\n",
       "    }\n",
       "\n",
       "    .dataframe tbody tr th {\n",
       "        vertical-align: top;\n",
       "    }\n",
       "\n",
       "    .dataframe thead th {\n",
       "        text-align: right;\n",
       "    }\n",
       "</style>\n",
       "<table border=\"1\" class=\"dataframe\">\n",
       "  <thead>\n",
       "    <tr style=\"text-align: right;\">\n",
       "      <th></th>\n",
       "      <th>user_id</th>\n",
       "      <th>restaurant_name</th>\n",
       "      <th>rating</th>\n",
       "    </tr>\n",
       "  </thead>\n",
       "  <tbody>\n",
       "    <tr>\n",
       "      <th>213236</th>\n",
       "      <td>7233</td>\n",
       "      <td>Clio</td>\n",
       "      <td>4.0</td>\n",
       "    </tr>\n",
       "    <tr>\n",
       "      <th>213317</th>\n",
       "      <td>7233</td>\n",
       "      <td>Horseshoe Grille</td>\n",
       "      <td>3.0</td>\n",
       "    </tr>\n",
       "    <tr>\n",
       "      <th>213595</th>\n",
       "      <td>7233</td>\n",
       "      <td>Barcelona Wine Bar</td>\n",
       "      <td>4.0</td>\n",
       "    </tr>\n",
       "    <tr>\n",
       "      <th>213216</th>\n",
       "      <td>7233</td>\n",
       "      <td>B Cafe</td>\n",
       "      <td>3.0</td>\n",
       "    </tr>\n",
       "    <tr>\n",
       "      <th>213218</th>\n",
       "      <td>7233</td>\n",
       "      <td>Spring Shabu-Shabu</td>\n",
       "      <td>4.0</td>\n",
       "    </tr>\n",
       "    <tr>\n",
       "      <th>213235</th>\n",
       "      <td>7233</td>\n",
       "      <td>Strip-T's Restaurant</td>\n",
       "      <td>4.0</td>\n",
       "    </tr>\n",
       "    <tr>\n",
       "      <th>213642</th>\n",
       "      <td>7233</td>\n",
       "      <td>Elephant &amp; Castle</td>\n",
       "      <td>3.0</td>\n",
       "    </tr>\n",
       "    <tr>\n",
       "      <th>212573</th>\n",
       "      <td>7233</td>\n",
       "      <td>Edamame</td>\n",
       "      <td>3.0</td>\n",
       "    </tr>\n",
       "    <tr>\n",
       "      <th>213508</th>\n",
       "      <td>7233</td>\n",
       "      <td>The Capital Grille</td>\n",
       "      <td>4.0</td>\n",
       "    </tr>\n",
       "    <tr>\n",
       "      <th>213700</th>\n",
       "      <td>7233</td>\n",
       "      <td>Fuku Boston Seaport</td>\n",
       "      <td>3.0</td>\n",
       "    </tr>\n",
       "    <tr>\n",
       "      <th>213605</th>\n",
       "      <td>7233</td>\n",
       "      <td>Tremont 647</td>\n",
       "      <td>4.0</td>\n",
       "    </tr>\n",
       "    <tr>\n",
       "      <th>212646</th>\n",
       "      <td>7233</td>\n",
       "      <td>The Daily Catch</td>\n",
       "      <td>4.0</td>\n",
       "    </tr>\n",
       "    <tr>\n",
       "      <th>213646</th>\n",
       "      <td>7233</td>\n",
       "      <td>Pho Pasteur</td>\n",
       "      <td>3.0</td>\n",
       "    </tr>\n",
       "  </tbody>\n",
       "</table>\n",
       "</div>"
      ],
      "text/plain": [
       "        user_id       restaurant_name  rating\n",
       "213236     7233                  Clio     4.0\n",
       "213317     7233      Horseshoe Grille     3.0\n",
       "213595     7233    Barcelona Wine Bar     4.0\n",
       "213216     7233                B Cafe     3.0\n",
       "213218     7233    Spring Shabu-Shabu     4.0\n",
       "213235     7233  Strip-T's Restaurant     4.0\n",
       "213642     7233     Elephant & Castle     3.0\n",
       "212573     7233               Edamame     3.0\n",
       "213508     7233    The Capital Grille     4.0\n",
       "213700     7233   Fuku Boston Seaport     3.0\n",
       "213605     7233           Tremont 647     4.0\n",
       "212646     7233       The Daily Catch     4.0\n",
       "213646     7233           Pho Pasteur     3.0"
      ]
     },
     "execution_count": 44,
     "metadata": {},
     "output_type": "execute_result"
    }
   ],
   "source": [
    "original_7233 = sorted_data[sorted_data['user_id'] == 7233]\n",
    "\n",
    "original_7233"
   ]
  },
  {
   "cell_type": "code",
   "execution_count": 45,
   "metadata": {},
   "outputs": [
    {
     "data": {
      "text/html": [
       "<div>\n",
       "<style scoped>\n",
       "    .dataframe tbody tr th:only-of-type {\n",
       "        vertical-align: middle;\n",
       "    }\n",
       "\n",
       "    .dataframe tbody tr th {\n",
       "        vertical-align: top;\n",
       "    }\n",
       "\n",
       "    .dataframe thead th {\n",
       "        text-align: right;\n",
       "    }\n",
       "</style>\n",
       "<table border=\"1\" class=\"dataframe\">\n",
       "  <thead>\n",
       "    <tr style=\"text-align: right;\">\n",
       "      <th></th>\n",
       "      <th>user_id</th>\n",
       "      <th>restaurant_name</th>\n",
       "      <th>actual</th>\n",
       "      <th>prediction</th>\n",
       "      <th>details</th>\n",
       "      <th>diff</th>\n",
       "    </tr>\n",
       "  </thead>\n",
       "  <tbody>\n",
       "    <tr>\n",
       "      <th>0</th>\n",
       "      <td>7233</td>\n",
       "      <td>Fuku Boston Seaport</td>\n",
       "      <td>3.0</td>\n",
       "      <td>3.859853</td>\n",
       "      <td>{'was_impossible': True, 'reason': 'User and i...</td>\n",
       "      <td>0.859853</td>\n",
       "    </tr>\n",
       "    <tr>\n",
       "      <th>1</th>\n",
       "      <td>7233</td>\n",
       "      <td>Spring Shabu-Shabu</td>\n",
       "      <td>4.0</td>\n",
       "      <td>3.859853</td>\n",
       "      <td>{'was_impossible': True, 'reason': 'User and i...</td>\n",
       "      <td>0.140147</td>\n",
       "    </tr>\n",
       "    <tr>\n",
       "      <th>2</th>\n",
       "      <td>7233</td>\n",
       "      <td>Elephant &amp; Castle</td>\n",
       "      <td>3.0</td>\n",
       "      <td>1.000000</td>\n",
       "      <td>{'was_impossible': False}</td>\n",
       "      <td>2.000000</td>\n",
       "    </tr>\n",
       "    <tr>\n",
       "      <th>3</th>\n",
       "      <td>7233</td>\n",
       "      <td>Pho Pasteur</td>\n",
       "      <td>3.0</td>\n",
       "      <td>1.000000</td>\n",
       "      <td>{'was_impossible': False}</td>\n",
       "      <td>2.000000</td>\n",
       "    </tr>\n",
       "  </tbody>\n",
       "</table>\n",
       "</div>"
      ],
      "text/plain": [
       "   user_id      restaurant_name  actual  prediction  \\\n",
       "0     7233  Fuku Boston Seaport     3.0    3.859853   \n",
       "1     7233   Spring Shabu-Shabu     4.0    3.859853   \n",
       "2     7233    Elephant & Castle     3.0    1.000000   \n",
       "3     7233          Pho Pasteur     3.0    1.000000   \n",
       "\n",
       "                                             details      diff  \n",
       "0  {'was_impossible': True, 'reason': 'User and i...  0.859853  \n",
       "1  {'was_impossible': True, 'reason': 'User and i...  0.140147  \n",
       "2                          {'was_impossible': False}  2.000000  \n",
       "3                          {'was_impossible': False}  2.000000  "
      ]
     },
     "execution_count": 45,
     "metadata": {},
     "output_type": "execute_result"
    }
   ],
   "source": [
    "# Merge on 'user_id' and 'restaurant_name'\n",
    "merged_7233 = predict_7233.merge(original_7233, how='left', on=['user_id', 'restaurant_name'])\n",
    "\n",
    "# Calculate the absolute difference between 'prediction' and 'actual'\n",
    "merged_7233['diff'] = abs(merged_7233['prediction'] - merged_7233['actual'])\n",
    "\n",
    "# Drop the 'rating' column\n",
    "merged_7233.drop(columns=['rating'], inplace=True)\n",
    "\n",
    "# Display the updated DataFrame\n",
    "merged_7233"
   ]
  },
  {
   "cell_type": "code",
   "execution_count": 46,
   "metadata": {},
   "outputs": [
    {
     "name": "stdout",
     "output_type": "stream",
     "text": [
      "Proportion of correct predictions: 0.0\n"
     ]
    }
   ],
   "source": [
    "# Calculate the proportion where the predicted rating matches exactly with the actual rating\n",
    "print(\"Proportion of correct predictions:\", (merged_7233['diff'] == 0).mean())"
   ]
  },
  {
   "cell_type": "code",
   "execution_count": 47,
   "metadata": {},
   "outputs": [
    {
     "name": "stdout",
     "output_type": "stream",
     "text": [
      "Proportion of correct predictions within margin 1: 0.5\n"
     ]
    }
   ],
   "source": [
    "# Calculate the proportion of correct predictions within a margin of 1 \n",
    "print(\"Proportion of correct predictions within margin 1:\", (merged_7233[\"diff\"] <= 1).mean())"
   ]
  },
  {
   "cell_type": "markdown",
   "metadata": {},
   "source": [
    "### Final Item-Based Recommender System <a class=\"anchor\" id=\"final\"></a>"
   ]
  },
  {
   "cell_type": "code",
   "execution_count": 48,
   "metadata": {},
   "outputs": [
    {
     "name": "stdout",
     "output_type": "stream",
     "text": [
      "Root Mean Squared Error (RMSE): 1.0179024911100565\n",
      "Mean Squared Error (MSE): 1.0361254814080585\n",
      "Mean Absolute Error (MAE): 0.7974786988033851\n",
      "Fraction of Concordant Pairs (FCP): 0.4975859763797073\n"
     ]
    }
   ],
   "source": [
    "# Split the dataset into train and test sets\n",
    "trainset, testset = train_test_split(data, test_size=0.4)\n",
    "\n",
    "# Fit the algorithm on the training dataset\n",
    "my_svd.fit(trainset)\n",
    "\n",
    "# Generate predictions on the test dataset\n",
    "predictions = my_svd.test(testset)\n",
    "\n",
    "# Calculate and print RMSE\n",
    "print(\"Root Mean Squared Error (RMSE):\", accuracy.rmse(predictions, verbose=False))\n",
    "\n",
    "# Calculate and print MSE\n",
    "print(\"Mean Squared Error (MSE):\", accuracy.mse(predictions, verbose=False))\n",
    "\n",
    "# Calculate and print MAE\n",
    "print(\"Mean Absolute Error (MAE):\", accuracy.mae(predictions, verbose=False))\n",
    "\n",
    "# Calculate and print FCP\n",
    "print(\"Fraction of Concordant Pairs (FCP):\", accuracy.fcp(predictions, verbose=False))"
   ]
  },
  {
   "cell_type": "markdown",
   "metadata": {},
   "source": []
  }
 ],
 "metadata": {
  "kernelspec": {
   "display_name": "env",
   "language": "python",
   "name": "python3"
  },
  "language_info": {
   "codemirror_mode": {
    "name": "ipython",
    "version": 3
   },
   "file_extension": ".py",
   "mimetype": "text/x-python",
   "name": "python",
   "nbconvert_exporter": "python",
   "pygments_lexer": "ipython3",
   "version": "3.8.17"
  },
  "orig_nbformat": 4
 },
 "nbformat": 4,
 "nbformat_minor": 2
}
