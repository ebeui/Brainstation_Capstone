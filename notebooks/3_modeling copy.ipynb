{
 "cells": [
  {
   "cell_type": "markdown",
   "metadata": {},
   "source": [
    "## Modeling \n",
    "\n",
    "**Name**: Diane Lu\n",
    "\n",
    "**Contact**: dianengalu@gmail.com\n",
    "\n",
    "**Date**: 07/18/2023"
   ]
  },
  {
   "cell_type": "markdown",
   "metadata": {},
   "source": [
    "### Table of Contents \n",
    "\n",
    "1. [Introduction](#intro)\n",
    "2. [Final Dataset](#final)\n",
    "    * Data Dictionary\n",
    "3. [Collaborative-Filtering Recommendation System without SVD](#nosvd)\n",
    "4. [Collaborative-Filtering Recommendation System with SVD](#svd)\n",
    "5. [Collaborative-Filtering Recommendation System with FunkSVD](#funksvd)"
   ]
  },
  {
   "cell_type": "markdown",
   "metadata": {},
   "source": [
    "### Introduction <a class=\"anchor\" id=\"intro\"></a>\n",
    "\n",
    "asdf"
   ]
  },
  {
   "cell_type": "markdown",
   "metadata": {},
   "source": [
    "#### Importing Python Libraries \n",
    "\n",
    "Importing necessary libraries for the EDA process."
   ]
  },
  {
   "cell_type": "code",
   "execution_count": 1,
   "metadata": {},
   "outputs": [],
   "source": [
    "# Import the basic packages\n",
    "import numpy as np \n",
    "import pandas as pd \n",
    "\n",
    "from sklearn.metrics.pairwise import cosine_similarity\n",
    "from sklearn.decomposition import TruncatedSVD\n",
    "from scipy.sparse.linalg import svds\n",
    "\n",
    "# Import the surprise packages\n",
    "from surprise import SVD\n",
    "from surprise.reader import Reader\n",
    "from surprise import Dataset\n",
    "from surprise.prediction_algorithms.matrix_factorization import SVD as FunkSVD\n",
    "from surprise.model_selection import train_test_split\n",
    "from surprise.model_selection import GridSearchCV\n",
    "from surprise import accuracy\n",
    "\n",
    "import warnings\n",
    "\n",
    "# Ignore all warnings\n",
    "warnings.filterwarnings(\"ignore\")"
   ]
  },
  {
   "cell_type": "markdown",
   "metadata": {},
   "source": []
  },
  {
   "cell_type": "markdown",
   "metadata": {},
   "source": [
    "### Model Dataset <a class=\"anchor\" id=\"final\"></a>\n",
    "\n",
    "**Data Dictionary:**\n",
    "* `user_id`: unique user id\n",
    "* `business_id`: unique user id\n",
    "* `rating`: star rating"
   ]
  },
  {
   "cell_type": "code",
   "execution_count": 2,
   "metadata": {},
   "outputs": [],
   "source": [
    "vancouver_data = pd.read_pickle('/Users/diane/Desktop/BrainStation/Brainstation_Capstone/yelp_data/vancouver_data.pkl')"
   ]
  },
  {
   "cell_type": "code",
   "execution_count": 3,
   "metadata": {},
   "outputs": [
    {
     "name": "stdout",
     "output_type": "stream",
     "text": [
      "<class 'pandas.core.frame.DataFrame'>\n",
      "Index: 73022 entries, 186 to 5562411\n",
      "Data columns (total 5 columns):\n",
      " #   Column           Non-Null Count  Dtype  \n",
      "---  ------           --------------  -----  \n",
      " 0   user_id          73022 non-null  int64  \n",
      " 1   business_id      73022 non-null  int64  \n",
      " 2   rating           73022 non-null  float64\n",
      " 3   restaurant_name  73022 non-null  object \n",
      " 4   categories       73022 non-null  object \n",
      "dtypes: float64(1), int64(2), object(2)\n",
      "memory usage: 3.3+ MB\n"
     ]
    }
   ],
   "source": [
    "vancouver_data.info()"
   ]
  },
  {
   "cell_type": "code",
   "execution_count": 4,
   "metadata": {},
   "outputs": [
    {
     "data": {
      "text/html": [
       "<div>\n",
       "<style scoped>\n",
       "    .dataframe tbody tr th:only-of-type {\n",
       "        vertical-align: middle;\n",
       "    }\n",
       "\n",
       "    .dataframe tbody tr th {\n",
       "        vertical-align: top;\n",
       "    }\n",
       "\n",
       "    .dataframe thead th {\n",
       "        text-align: right;\n",
       "    }\n",
       "</style>\n",
       "<table border=\"1\" class=\"dataframe\">\n",
       "  <thead>\n",
       "    <tr style=\"text-align: right;\">\n",
       "      <th></th>\n",
       "      <th>user_id</th>\n",
       "      <th>business_id</th>\n",
       "      <th>rating</th>\n",
       "      <th>restaurant_name</th>\n",
       "      <th>categories</th>\n",
       "    </tr>\n",
       "  </thead>\n",
       "  <tbody>\n",
       "    <tr>\n",
       "      <th>186</th>\n",
       "      <td>75654</td>\n",
       "      <td>6390</td>\n",
       "      <td>5.0</td>\n",
       "      <td>Beaches Restaurant &amp; Bar</td>\n",
       "      <td>[Bars, Pizza, American (New), Nightlife, Seafood]</td>\n",
       "    </tr>\n",
       "    <tr>\n",
       "      <th>1101</th>\n",
       "      <td>70315</td>\n",
       "      <td>1407</td>\n",
       "      <td>4.0</td>\n",
       "      <td>Meat &amp; Bread</td>\n",
       "      <td>[Fast Food, Bakeries, Sandwiches, Salad, Soup,...</td>\n",
       "    </tr>\n",
       "    <tr>\n",
       "      <th>1105</th>\n",
       "      <td>70315</td>\n",
       "      <td>1356</td>\n",
       "      <td>3.0</td>\n",
       "      <td>Edible Canada At the Market</td>\n",
       "      <td>[Seafood, Canadian (New), American (New), Spec...</td>\n",
       "    </tr>\n",
       "    <tr>\n",
       "      <th>1109</th>\n",
       "      <td>70315</td>\n",
       "      <td>7370</td>\n",
       "      <td>4.0</td>\n",
       "      <td>The Lamplighter Public House</td>\n",
       "      <td>[Nightlife, Gastropubs, Bars, Pubs]</td>\n",
       "    </tr>\n",
       "    <tr>\n",
       "      <th>1144</th>\n",
       "      <td>70315</td>\n",
       "      <td>1143</td>\n",
       "      <td>5.0</td>\n",
       "      <td>Miku</td>\n",
       "      <td>[Japanese, Sushi Bars]</td>\n",
       "    </tr>\n",
       "  </tbody>\n",
       "</table>\n",
       "</div>"
      ],
      "text/plain": [
       "      user_id  business_id  rating               restaurant_name  \\\n",
       "186     75654         6390     5.0      Beaches Restaurant & Bar   \n",
       "1101    70315         1407     4.0                  Meat & Bread   \n",
       "1105    70315         1356     3.0   Edible Canada At the Market   \n",
       "1109    70315         7370     4.0  The Lamplighter Public House   \n",
       "1144    70315         1143     5.0                          Miku   \n",
       "\n",
       "                                             categories  \n",
       "186   [Bars, Pizza, American (New), Nightlife, Seafood]  \n",
       "1101  [Fast Food, Bakeries, Sandwiches, Salad, Soup,...  \n",
       "1105  [Seafood, Canadian (New), American (New), Spec...  \n",
       "1109                [Nightlife, Gastropubs, Bars, Pubs]  \n",
       "1144                             [Japanese, Sushi Bars]  "
      ]
     },
     "execution_count": 4,
     "metadata": {},
     "output_type": "execute_result"
    }
   ],
   "source": [
    "vancouver_data.head()"
   ]
  },
  {
   "cell_type": "code",
   "execution_count": 5,
   "metadata": {},
   "outputs": [
    {
     "data": {
      "text/plain": [
       "user_id            0\n",
       "business_id        0\n",
       "rating             0\n",
       "restaurant_name    0\n",
       "categories         0\n",
       "dtype: int64"
      ]
     },
     "execution_count": 5,
     "metadata": {},
     "output_type": "execute_result"
    }
   ],
   "source": [
    "vancouver_data.isnull().sum()"
   ]
  },
  {
   "cell_type": "code",
   "execution_count": 6,
   "metadata": {},
   "outputs": [
    {
     "name": "stdout",
     "output_type": "stream",
     "text": [
      "The size of our model dataset is 73022 entries.\n"
     ]
    }
   ],
   "source": [
    "print(f\"The size of our model dataset is {vancouver_data.shape[0]} entries.\")"
   ]
  },
  {
   "cell_type": "markdown",
   "metadata": {},
   "source": []
  },
  {
   "cell_type": "markdown",
   "metadata": {},
   "source": []
  },
  {
   "cell_type": "code",
   "execution_count": 7,
   "metadata": {},
   "outputs": [],
   "source": [
    "# sampled_model_data = model_data.sample(frac=0.01, random_state=42)\n",
    "\n",
    "# print(f\"The size of our sampled model dataset is {sampled_model_data.shape[0]} entries.\")"
   ]
  },
  {
   "cell_type": "code",
   "execution_count": null,
   "metadata": {},
   "outputs": [],
   "source": []
  },
  {
   "cell_type": "markdown",
   "metadata": {},
   "source": [
    "### Collaborative-Filtering Recommendation System without SVD <a class=\"anchor\" id=\"nosvd\"></a>\n",
    "\n",
    "Collaborative filtering is a general technique used in recommendation systems to predict user preferences based on the preferences of similar users. It does not involve matrix factorization. Instead, it relies on computing similarities between users or items to generate recommendations. Collaborative filtering without SVD directly operates on the user-item interaction matrix and may use various similarity metrics to find similar users or items. "
   ]
  },
  {
   "cell_type": "code",
   "execution_count": 8,
   "metadata": {},
   "outputs": [],
   "source": [
    "# Creating the User-Item Matrix\n",
    "def create_user_item_matrix(data):\n",
    "    # Pivot the data to create a matrix where rows are restaurant names and columns are user IDs\n",
    "    user_item_matrix = data.pivot_table(index='restaurant_name', columns='user_id', values='rating', fill_value=0)\n",
    "    return user_item_matrix\n",
    "\n",
    "# Calculate Similarity Scores\n",
    "def calculate_similarity_scores(user_item_matrix):\n",
    "    # Calculate the cosine similarity between restaurants based on their user-item matrix\n",
    "    similarity_scores = cosine_similarity(user_item_matrix)\n",
    "    return similarity_scores\n",
    "\n",
    "# Recommend Restaurants\n",
    "def recommend_restaurants(restaurant_name, user_item_matrix, similarity_scores, num_recommendations=5):\n",
    "    # Find the index of the input restaurant name in the pivot table\n",
    "    index = user_item_matrix.index.get_loc(restaurant_name)\n",
    "\n",
    "    # Retrieve the similarity scores of the input restaurant with other restaurants,\n",
    "    # sort them in descending order, and select the top 'num_recommendations' similar items\n",
    "    similar_items = sorted(enumerate(similarity_scores[index]), key=lambda x: x[1], reverse=True)[1:num_recommendations + 1]\n",
    "\n",
    "    # Fetch the relevant restaurant names from the 'user_item_matrix' dataset\n",
    "    recommended_restaurant_names = [user_item_matrix.index[i[0]] for i in similar_items]\n",
    "\n",
    "    return recommended_restaurant_names "
   ]
  },
  {
   "cell_type": "code",
   "execution_count": 9,
   "metadata": {},
   "outputs": [
    {
     "data": {
      "text/html": [
       "<div>\n",
       "<style scoped>\n",
       "    .dataframe tbody tr th:only-of-type {\n",
       "        vertical-align: middle;\n",
       "    }\n",
       "\n",
       "    .dataframe tbody tr th {\n",
       "        vertical-align: top;\n",
       "    }\n",
       "\n",
       "    .dataframe thead th {\n",
       "        text-align: right;\n",
       "    }\n",
       "</style>\n",
       "<table border=\"1\" class=\"dataframe\">\n",
       "  <thead>\n",
       "    <tr style=\"text-align: right;\">\n",
       "      <th>user_id</th>\n",
       "      <th>4</th>\n",
       "      <th>7</th>\n",
       "      <th>12</th>\n",
       "      <th>25</th>\n",
       "      <th>27</th>\n",
       "      <th>28</th>\n",
       "      <th>33</th>\n",
       "      <th>42</th>\n",
       "      <th>45</th>\n",
       "      <th>77</th>\n",
       "      <th>...</th>\n",
       "      <th>81092</th>\n",
       "      <th>81094</th>\n",
       "      <th>81098</th>\n",
       "      <th>81101</th>\n",
       "      <th>81102</th>\n",
       "      <th>81104</th>\n",
       "      <th>81111</th>\n",
       "      <th>81124</th>\n",
       "      <th>81127</th>\n",
       "      <th>81139</th>\n",
       "    </tr>\n",
       "    <tr>\n",
       "      <th>restaurant_name</th>\n",
       "      <th></th>\n",
       "      <th></th>\n",
       "      <th></th>\n",
       "      <th></th>\n",
       "      <th></th>\n",
       "      <th></th>\n",
       "      <th></th>\n",
       "      <th></th>\n",
       "      <th></th>\n",
       "      <th></th>\n",
       "      <th></th>\n",
       "      <th></th>\n",
       "      <th></th>\n",
       "      <th></th>\n",
       "      <th></th>\n",
       "      <th></th>\n",
       "      <th></th>\n",
       "      <th></th>\n",
       "      <th></th>\n",
       "      <th></th>\n",
       "      <th></th>\n",
       "    </tr>\n",
       "  </thead>\n",
       "  <tbody>\n",
       "    <tr>\n",
       "      <th>3G Vegetarian Restaurant</th>\n",
       "      <td>0</td>\n",
       "      <td>0</td>\n",
       "      <td>0</td>\n",
       "      <td>0</td>\n",
       "      <td>0</td>\n",
       "      <td>0</td>\n",
       "      <td>0</td>\n",
       "      <td>0</td>\n",
       "      <td>0</td>\n",
       "      <td>0</td>\n",
       "      <td>...</td>\n",
       "      <td>0</td>\n",
       "      <td>0</td>\n",
       "      <td>0</td>\n",
       "      <td>0</td>\n",
       "      <td>0</td>\n",
       "      <td>0</td>\n",
       "      <td>0</td>\n",
       "      <td>0</td>\n",
       "      <td>0</td>\n",
       "      <td>0</td>\n",
       "    </tr>\n",
       "    <tr>\n",
       "      <th>49th Parallel Coffee</th>\n",
       "      <td>0</td>\n",
       "      <td>0</td>\n",
       "      <td>5</td>\n",
       "      <td>0</td>\n",
       "      <td>0</td>\n",
       "      <td>0</td>\n",
       "      <td>0</td>\n",
       "      <td>0</td>\n",
       "      <td>0</td>\n",
       "      <td>0</td>\n",
       "      <td>...</td>\n",
       "      <td>0</td>\n",
       "      <td>0</td>\n",
       "      <td>0</td>\n",
       "      <td>0</td>\n",
       "      <td>0</td>\n",
       "      <td>0</td>\n",
       "      <td>0</td>\n",
       "      <td>0</td>\n",
       "      <td>0</td>\n",
       "      <td>0</td>\n",
       "    </tr>\n",
       "    <tr>\n",
       "      <th>6 Degrees Eatery</th>\n",
       "      <td>0</td>\n",
       "      <td>0</td>\n",
       "      <td>0</td>\n",
       "      <td>0</td>\n",
       "      <td>0</td>\n",
       "      <td>0</td>\n",
       "      <td>0</td>\n",
       "      <td>0</td>\n",
       "      <td>0</td>\n",
       "      <td>0</td>\n",
       "      <td>...</td>\n",
       "      <td>0</td>\n",
       "      <td>0</td>\n",
       "      <td>0</td>\n",
       "      <td>0</td>\n",
       "      <td>0</td>\n",
       "      <td>0</td>\n",
       "      <td>0</td>\n",
       "      <td>0</td>\n",
       "      <td>0</td>\n",
       "      <td>0</td>\n",
       "    </tr>\n",
       "    <tr>\n",
       "      <th>A La Mode</th>\n",
       "      <td>0</td>\n",
       "      <td>0</td>\n",
       "      <td>0</td>\n",
       "      <td>0</td>\n",
       "      <td>0</td>\n",
       "      <td>0</td>\n",
       "      <td>0</td>\n",
       "      <td>0</td>\n",
       "      <td>0</td>\n",
       "      <td>0</td>\n",
       "      <td>...</td>\n",
       "      <td>0</td>\n",
       "      <td>0</td>\n",
       "      <td>0</td>\n",
       "      <td>0</td>\n",
       "      <td>0</td>\n",
       "      <td>0</td>\n",
       "      <td>0</td>\n",
       "      <td>0</td>\n",
       "      <td>0</td>\n",
       "      <td>0</td>\n",
       "    </tr>\n",
       "    <tr>\n",
       "      <th>ARC Restaurant</th>\n",
       "      <td>0</td>\n",
       "      <td>0</td>\n",
       "      <td>0</td>\n",
       "      <td>0</td>\n",
       "      <td>0</td>\n",
       "      <td>0</td>\n",
       "      <td>0</td>\n",
       "      <td>0</td>\n",
       "      <td>0</td>\n",
       "      <td>0</td>\n",
       "      <td>...</td>\n",
       "      <td>0</td>\n",
       "      <td>0</td>\n",
       "      <td>0</td>\n",
       "      <td>0</td>\n",
       "      <td>0</td>\n",
       "      <td>0</td>\n",
       "      <td>0</td>\n",
       "      <td>0</td>\n",
       "      <td>0</td>\n",
       "      <td>0</td>\n",
       "    </tr>\n",
       "  </tbody>\n",
       "</table>\n",
       "<p>5 rows × 10667 columns</p>\n",
       "</div>"
      ],
      "text/plain": [
       "user_id                   4      7      12     25     27     28     33     \\\n",
       "restaurant_name                                                             \n",
       "3G Vegetarian Restaurant      0      0      0      0      0      0      0   \n",
       "49th Parallel Coffee          0      0      5      0      0      0      0   \n",
       "6 Degrees Eatery              0      0      0      0      0      0      0   \n",
       "A La Mode                     0      0      0      0      0      0      0   \n",
       "ARC Restaurant                0      0      0      0      0      0      0   \n",
       "\n",
       "user_id                   42     45     77     ...  81092  81094  81098  \\\n",
       "restaurant_name                                ...                        \n",
       "3G Vegetarian Restaurant      0      0      0  ...      0      0      0   \n",
       "49th Parallel Coffee          0      0      0  ...      0      0      0   \n",
       "6 Degrees Eatery              0      0      0  ...      0      0      0   \n",
       "A La Mode                     0      0      0  ...      0      0      0   \n",
       "ARC Restaurant                0      0      0  ...      0      0      0   \n",
       "\n",
       "user_id                   81101  81102  81104  81111  81124  81127  81139  \n",
       "restaurant_name                                                            \n",
       "3G Vegetarian Restaurant      0      0      0      0      0      0      0  \n",
       "49th Parallel Coffee          0      0      0      0      0      0      0  \n",
       "6 Degrees Eatery              0      0      0      0      0      0      0  \n",
       "A La Mode                     0      0      0      0      0      0      0  \n",
       "ARC Restaurant                0      0      0      0      0      0      0  \n",
       "\n",
       "[5 rows x 10667 columns]"
      ]
     },
     "execution_count": 9,
     "metadata": {},
     "output_type": "execute_result"
    }
   ],
   "source": [
    "# Creating the User-Item Matrix\n",
    "user_item_matrix = create_user_item_matrix(vancouver_data)\n",
    "\n",
    "user_item_matrix.head()"
   ]
  },
  {
   "cell_type": "code",
   "execution_count": 11,
   "metadata": {},
   "outputs": [
    {
     "data": {
      "text/plain": [
       "(969, 969)"
      ]
     },
     "execution_count": 11,
     "metadata": {},
     "output_type": "execute_result"
    }
   ],
   "source": [
    "# Calculate Similarity Scores\n",
    "similarity_scores = calculate_similarity_scores(user_item_matrix)\n",
    "\n",
    "similarity_scores.shape"
   ]
  },
  {
   "cell_type": "code",
   "execution_count": 12,
   "metadata": {},
   "outputs": [
    {
     "name": "stdout",
     "output_type": "stream",
     "text": [
      "Recommended Restaurants for Miku: ['Hokkaido Ramen Santouka', 'Phnom Penh', 'Kingyo', 'Chambar', 'Jam Cafe on Beatty']\n"
     ]
    }
   ],
   "source": [
    "# Get recommendations for a specific restaurant\n",
    "restaurant_name = \"Miku\"\n",
    "recommended_restaurants = recommend_restaurants(restaurant_name, user_item_matrix, similarity_scores)\n",
    "print(\"Recommended Restaurants for {}: {}\".format(restaurant_name, recommended_restaurants))"
   ]
  },
  {
   "cell_type": "markdown",
   "metadata": {},
   "source": []
  },
  {
   "cell_type": "markdown",
   "metadata": {},
   "source": [
    "### Collaborative-Filtering Recommendation System with SVD <a class=\"anchor\" id=\"svd\"></a>\n",
    "\n",
    "Traditional Singular Value Decomposition is a matrix factorization technique that decomposes a given matrix into three matrices: U (user features), Σ (singular values), and V^T (item features). While traditional SVD can be applied to recommendation systems, it assumes a complete user-item interaction matrix without any missing values. This assumption is often not applicable in real-world scenarios where user-item matrices are typically sparse."
   ]
  },
  {
   "cell_type": "code",
   "execution_count": 18,
   "metadata": {},
   "outputs": [],
   "source": [
    "# Creating the User-Item Matrix\n",
    "def create_user_item_matrix(data):\n",
    "    # Pivot the data to create a matrix where rows are restaurant names and columns are user IDs\n",
    "    user_item_matrix = data.pivot_table(index='restaurant_name', columns='user_id', values='rating', fill_value=0)\n",
    "    return user_item_matrix\n",
    "\n",
    "# Perform Singular Value Decomposition (SVD)\n",
    "def perform_svd(user_item_matrix, num_latent_features=50):\n",
    "    # Perform SVD on the user-item matrix\n",
    "    U, sigma, Vt = np.linalg.svd(user_item_matrix)\n",
    "\n",
    "    # Reduce the dimensions based on the number of latent features\n",
    "    U = U[:, :num_latent_features]\n",
    "    sigma = np.diag(sigma[:num_latent_features])\n",
    "    Vt = Vt[:num_latent_features, :]\n",
    "\n",
    "    return U, sigma, Vt\n",
    "\n",
    "# Calculate Similarity Scores\n",
    "def calculate_similarity_scores(Vt):\n",
    "    # Calculate the cosine similarity between restaurants based on the Vt matrix from SVD\n",
    "    similarity_scores = cosine_similarity(Vt)\n",
    "    return similarity_scores\n",
    "\n",
    "# Recommend Restaurants\n",
    "def recommend_restaurants(restaurant_name, user_item_matrix, similarity_scores, num_recommendations=5):\n",
    "    # Find the index of the input restaurant name in the pivot table\n",
    "    index = user_item_matrix.index.get_loc(restaurant_name)\n",
    "\n",
    "    # Retrieve the similarity scores of the input restaurant with other restaurants,\n",
    "    # sort them in descending order, and select the top 'num_recommendations' similar items\n",
    "    similar_items = sorted(enumerate(similarity_scores[index]), key=lambda x: x[1], reverse=True)[1:num_recommendations + 1]\n",
    "\n",
    "    # Fetch the relevant restaurant names from the 'user_item_matrix' dataset\n",
    "    recommended_restaurant_names = [user_item_matrix.index[i[0]] for i in similar_items]\n",
    "\n",
    "    return recommended_restaurant_names "
   ]
  },
  {
   "cell_type": "code",
   "execution_count": 19,
   "metadata": {},
   "outputs": [
    {
     "data": {
      "text/html": [
       "<div>\n",
       "<style scoped>\n",
       "    .dataframe tbody tr th:only-of-type {\n",
       "        vertical-align: middle;\n",
       "    }\n",
       "\n",
       "    .dataframe tbody tr th {\n",
       "        vertical-align: top;\n",
       "    }\n",
       "\n",
       "    .dataframe thead th {\n",
       "        text-align: right;\n",
       "    }\n",
       "</style>\n",
       "<table border=\"1\" class=\"dataframe\">\n",
       "  <thead>\n",
       "    <tr style=\"text-align: right;\">\n",
       "      <th>user_id</th>\n",
       "      <th>4</th>\n",
       "      <th>7</th>\n",
       "      <th>12</th>\n",
       "      <th>25</th>\n",
       "      <th>27</th>\n",
       "      <th>28</th>\n",
       "      <th>33</th>\n",
       "      <th>42</th>\n",
       "      <th>45</th>\n",
       "      <th>77</th>\n",
       "      <th>...</th>\n",
       "      <th>81092</th>\n",
       "      <th>81094</th>\n",
       "      <th>81098</th>\n",
       "      <th>81101</th>\n",
       "      <th>81102</th>\n",
       "      <th>81104</th>\n",
       "      <th>81111</th>\n",
       "      <th>81124</th>\n",
       "      <th>81127</th>\n",
       "      <th>81139</th>\n",
       "    </tr>\n",
       "    <tr>\n",
       "      <th>restaurant_name</th>\n",
       "      <th></th>\n",
       "      <th></th>\n",
       "      <th></th>\n",
       "      <th></th>\n",
       "      <th></th>\n",
       "      <th></th>\n",
       "      <th></th>\n",
       "      <th></th>\n",
       "      <th></th>\n",
       "      <th></th>\n",
       "      <th></th>\n",
       "      <th></th>\n",
       "      <th></th>\n",
       "      <th></th>\n",
       "      <th></th>\n",
       "      <th></th>\n",
       "      <th></th>\n",
       "      <th></th>\n",
       "      <th></th>\n",
       "      <th></th>\n",
       "      <th></th>\n",
       "    </tr>\n",
       "  </thead>\n",
       "  <tbody>\n",
       "    <tr>\n",
       "      <th>3G Vegetarian Restaurant</th>\n",
       "      <td>0</td>\n",
       "      <td>0</td>\n",
       "      <td>0</td>\n",
       "      <td>0</td>\n",
       "      <td>0</td>\n",
       "      <td>0</td>\n",
       "      <td>0</td>\n",
       "      <td>0</td>\n",
       "      <td>0</td>\n",
       "      <td>0</td>\n",
       "      <td>...</td>\n",
       "      <td>0</td>\n",
       "      <td>0</td>\n",
       "      <td>0</td>\n",
       "      <td>0</td>\n",
       "      <td>0</td>\n",
       "      <td>0</td>\n",
       "      <td>0</td>\n",
       "      <td>0</td>\n",
       "      <td>0</td>\n",
       "      <td>0</td>\n",
       "    </tr>\n",
       "    <tr>\n",
       "      <th>49th Parallel Coffee</th>\n",
       "      <td>0</td>\n",
       "      <td>0</td>\n",
       "      <td>5</td>\n",
       "      <td>0</td>\n",
       "      <td>0</td>\n",
       "      <td>0</td>\n",
       "      <td>0</td>\n",
       "      <td>0</td>\n",
       "      <td>0</td>\n",
       "      <td>0</td>\n",
       "      <td>...</td>\n",
       "      <td>0</td>\n",
       "      <td>0</td>\n",
       "      <td>0</td>\n",
       "      <td>0</td>\n",
       "      <td>0</td>\n",
       "      <td>0</td>\n",
       "      <td>0</td>\n",
       "      <td>0</td>\n",
       "      <td>0</td>\n",
       "      <td>0</td>\n",
       "    </tr>\n",
       "    <tr>\n",
       "      <th>6 Degrees Eatery</th>\n",
       "      <td>0</td>\n",
       "      <td>0</td>\n",
       "      <td>0</td>\n",
       "      <td>0</td>\n",
       "      <td>0</td>\n",
       "      <td>0</td>\n",
       "      <td>0</td>\n",
       "      <td>0</td>\n",
       "      <td>0</td>\n",
       "      <td>0</td>\n",
       "      <td>...</td>\n",
       "      <td>0</td>\n",
       "      <td>0</td>\n",
       "      <td>0</td>\n",
       "      <td>0</td>\n",
       "      <td>0</td>\n",
       "      <td>0</td>\n",
       "      <td>0</td>\n",
       "      <td>0</td>\n",
       "      <td>0</td>\n",
       "      <td>0</td>\n",
       "    </tr>\n",
       "    <tr>\n",
       "      <th>A La Mode</th>\n",
       "      <td>0</td>\n",
       "      <td>0</td>\n",
       "      <td>0</td>\n",
       "      <td>0</td>\n",
       "      <td>0</td>\n",
       "      <td>0</td>\n",
       "      <td>0</td>\n",
       "      <td>0</td>\n",
       "      <td>0</td>\n",
       "      <td>0</td>\n",
       "      <td>...</td>\n",
       "      <td>0</td>\n",
       "      <td>0</td>\n",
       "      <td>0</td>\n",
       "      <td>0</td>\n",
       "      <td>0</td>\n",
       "      <td>0</td>\n",
       "      <td>0</td>\n",
       "      <td>0</td>\n",
       "      <td>0</td>\n",
       "      <td>0</td>\n",
       "    </tr>\n",
       "    <tr>\n",
       "      <th>ARC Restaurant</th>\n",
       "      <td>0</td>\n",
       "      <td>0</td>\n",
       "      <td>0</td>\n",
       "      <td>0</td>\n",
       "      <td>0</td>\n",
       "      <td>0</td>\n",
       "      <td>0</td>\n",
       "      <td>0</td>\n",
       "      <td>0</td>\n",
       "      <td>0</td>\n",
       "      <td>...</td>\n",
       "      <td>0</td>\n",
       "      <td>0</td>\n",
       "      <td>0</td>\n",
       "      <td>0</td>\n",
       "      <td>0</td>\n",
       "      <td>0</td>\n",
       "      <td>0</td>\n",
       "      <td>0</td>\n",
       "      <td>0</td>\n",
       "      <td>0</td>\n",
       "    </tr>\n",
       "  </tbody>\n",
       "</table>\n",
       "<p>5 rows × 10667 columns</p>\n",
       "</div>"
      ],
      "text/plain": [
       "user_id                   4      7      12     25     27     28     33     \\\n",
       "restaurant_name                                                             \n",
       "3G Vegetarian Restaurant      0      0      0      0      0      0      0   \n",
       "49th Parallel Coffee          0      0      5      0      0      0      0   \n",
       "6 Degrees Eatery              0      0      0      0      0      0      0   \n",
       "A La Mode                     0      0      0      0      0      0      0   \n",
       "ARC Restaurant                0      0      0      0      0      0      0   \n",
       "\n",
       "user_id                   42     45     77     ...  81092  81094  81098  \\\n",
       "restaurant_name                                ...                        \n",
       "3G Vegetarian Restaurant      0      0      0  ...      0      0      0   \n",
       "49th Parallel Coffee          0      0      0  ...      0      0      0   \n",
       "6 Degrees Eatery              0      0      0  ...      0      0      0   \n",
       "A La Mode                     0      0      0  ...      0      0      0   \n",
       "ARC Restaurant                0      0      0  ...      0      0      0   \n",
       "\n",
       "user_id                   81101  81102  81104  81111  81124  81127  81139  \n",
       "restaurant_name                                                            \n",
       "3G Vegetarian Restaurant      0      0      0      0      0      0      0  \n",
       "49th Parallel Coffee          0      0      0      0      0      0      0  \n",
       "6 Degrees Eatery              0      0      0      0      0      0      0  \n",
       "A La Mode                     0      0      0      0      0      0      0  \n",
       "ARC Restaurant                0      0      0      0      0      0      0  \n",
       "\n",
       "[5 rows x 10667 columns]"
      ]
     },
     "execution_count": 19,
     "metadata": {},
     "output_type": "execute_result"
    }
   ],
   "source": [
    "# Creating the User-Item Matrix\n",
    "user_item_matrix = create_user_item_matrix(vancouver_data)\n",
    "\n",
    "user_item_matrix.head()"
   ]
  },
  {
   "cell_type": "code",
   "execution_count": 20,
   "metadata": {},
   "outputs": [
    {
     "name": "stdout",
     "output_type": "stream",
     "text": [
      "Matrix U:\n",
      "[[-0.01212647 -0.00122714 -0.02618524 ... -0.02007029  0.00253048\n",
      "  -0.00391356]\n",
      " [-0.08992659  0.03368459  0.00968976 ...  0.22347215 -0.03472124\n",
      "  -0.05725705]\n",
      " [-0.01091681  0.00536591 -0.00603746 ...  0.01565318  0.02379923\n",
      "   0.00528421]\n",
      " ...\n",
      " [-0.02076434  0.00420317  0.02269547 ... -0.04966689  0.03356186\n",
      "  -0.01084917]\n",
      " [-0.03860753  0.00747438  0.0246726  ...  0.0271781   0.0117732\n",
      "  -0.02539337]\n",
      " [-0.01009873  0.00273174  0.00236246 ... -0.00278884  0.00797555\n",
      "  -0.02488204]]\n",
      "\n",
      "Matrix Sigma:\n",
      "[[283.90158521   0.           0.         ...   0.           0.\n",
      "    0.        ]\n",
      " [  0.         130.0091853    0.         ...   0.           0.\n",
      "    0.        ]\n",
      " [  0.           0.         120.34570797 ...   0.           0.\n",
      "    0.        ]\n",
      " ...\n",
      " [  0.           0.           0.         ...  60.23048218   0.\n",
      "    0.        ]\n",
      " [  0.           0.           0.         ...   0.          59.90551695\n",
      "    0.        ]\n",
      " [  0.           0.           0.         ...   0.           0.\n",
      "   59.42555067]]\n",
      "\n",
      "Matrix Vt:\n",
      "[[-6.89954055e-03 -9.66934177e-04 -1.26291502e-02 ... -1.36279932e-03\n",
      "  -2.51365897e-06 -3.01403047e-03]\n",
      " [ 5.32357810e-03  1.31870759e-03 -1.53360118e-02 ... -5.57161593e-04\n",
      "  -2.86425954e-05 -1.01740307e-03]\n",
      " [ 1.12706410e-02  5.68018754e-05  3.01439106e-02 ... -1.00373006e-03\n",
      "   2.51128759e-05  4.24329433e-03]\n",
      " ...\n",
      " [-1.27054828e-02 -9.73202651e-04  2.42569428e-02 ...  4.33546019e-04\n",
      "  -7.15340266e-05 -2.03224671e-02]\n",
      " [ 3.74346939e-02  1.26518839e-03  2.91658873e-02 ...  1.61753951e-03\n",
      "  -7.23088361e-05 -3.56823771e-02]\n",
      " [ 1.00430674e-02  3.98421748e-03 -4.56567566e-03 ...  5.53373663e-03\n",
      "  -3.14853800e-05  1.14908541e-02]]\n"
     ]
    }
   ],
   "source": [
    "# Perform Singular Value Decomposition (SVD)\n",
    "U, sigma, Vt = perform_svd(user_item_matrix)\n",
    "\n",
    "print(\"Matrix U:\")\n",
    "print(U)\n",
    "\n",
    "print(\"\\nMatrix Sigma:\")\n",
    "print(sigma)\n",
    "\n",
    "print(\"\\nMatrix Vt:\")\n",
    "print(Vt)"
   ]
  },
  {
   "cell_type": "code",
   "execution_count": 21,
   "metadata": {},
   "outputs": [
    {
     "data": {
      "text/plain": [
       "(969, 969)"
      ]
     },
     "execution_count": 21,
     "metadata": {},
     "output_type": "execute_result"
    }
   ],
   "source": [
    "# Calculate Similarity Scores\n",
    "similarity_scores = calculate_similarity_scores(user_item_matrix)\n",
    "\n",
    "similarity_scores.shape"
   ]
  },
  {
   "cell_type": "code",
   "execution_count": 22,
   "metadata": {},
   "outputs": [
    {
     "name": "stdout",
     "output_type": "stream",
     "text": [
      "Recommended Restaurants for Miku: ['Hokkaido Ramen Santouka', 'Phnom Penh', 'Kingyo', 'Chambar', 'Jam Cafe on Beatty']\n"
     ]
    }
   ],
   "source": [
    "# Get recommendations for a specific restaurant\n",
    "restaurant_name = \"Miku\"\n",
    "recommended_restaurants = recommend_restaurants(restaurant_name, user_item_matrix, similarity_scores)\n",
    "print(\"Recommended Restaurants for {}: {}\".format(restaurant_name, recommended_restaurants)) "
   ]
  },
  {
   "cell_type": "code",
   "execution_count": null,
   "metadata": {},
   "outputs": [],
   "source": []
  },
  {
   "cell_type": "code",
   "execution_count": null,
   "metadata": {},
   "outputs": [],
   "source": []
  },
  {
   "cell_type": "code",
   "execution_count": null,
   "metadata": {},
   "outputs": [],
   "source": []
  },
  {
   "cell_type": "code",
   "execution_count": null,
   "metadata": {},
   "outputs": [],
   "source": []
  },
  {
   "cell_type": "code",
   "execution_count": null,
   "metadata": {},
   "outputs": [],
   "source": []
  },
  {
   "cell_type": "code",
   "execution_count": null,
   "metadata": {},
   "outputs": [],
   "source": []
  },
  {
   "cell_type": "code",
   "execution_count": null,
   "metadata": {},
   "outputs": [],
   "source": []
  },
  {
   "cell_type": "markdown",
   "metadata": {},
   "source": [
    "### Collaborative-Filtering Recommendation System with FunkSVD <a class=\"anchor\" id=\"funksvd\"></a>\n",
    "\n",
    "FunkSVD is a specific variant of SVD designed for collaborative filtering tasks in recommendation systems. It addresses the sparsity issue present in user-item interaction matrices by incorporating stochastic gradient descent to handle missing values efficiently. FunkSVD performs matrix factorization and decomposes the user-item interaction matrix into user and item latent feature matrices."
   ]
  },
  {
   "cell_type": "code",
   "execution_count": 23,
   "metadata": {},
   "outputs": [],
   "source": [
    "# Load your user-item interaction data into Surprise Dataset\n",
    "reader = Reader(rating_scale=(0, 5))\n",
    "vancouver_data = Dataset.load_from_df(vancouver_data[['user_id', 'restaurant_name', 'rating']], reader)"
   ]
  },
  {
   "cell_type": "code",
   "execution_count": 24,
   "metadata": {},
   "outputs": [],
   "source": [
    "# Split the data into training and testing sets\n",
    "trainset, testset = train_test_split(vancouver_data, test_size=0.2, random_state=42)"
   ]
  },
  {
   "cell_type": "code",
   "execution_count": 25,
   "metadata": {},
   "outputs": [
    {
     "data": {
      "text/plain": [
       "<surprise.prediction_algorithms.matrix_factorization.SVD at 0x14d316af0>"
      ]
     },
     "execution_count": 25,
     "metadata": {},
     "output_type": "execute_result"
    }
   ],
   "source": [
    "# Step 3: Build and train the FunkSVD-based collaborative filtering model\n",
    "model = FunkSVD(n_factors=50, biased=True, random_state=42)\n",
    "model.fit(trainset)"
   ]
  },
  {
   "cell_type": "code",
   "execution_count": 26,
   "metadata": {},
   "outputs": [],
   "source": [
    "# Step 4: Make predictions on the test set\n",
    "predictions = model.test(testset)"
   ]
  },
  {
   "cell_type": "code",
   "execution_count": 28,
   "metadata": {},
   "outputs": [
    {
     "name": "stdout",
     "output_type": "stream",
     "text": [
      "RMSE: 0.9286\n",
      "MAE:  0.7251\n"
     ]
    }
   ],
   "source": [
    "# Step 5: Evaluate the model's performance\n",
    "rmse = accuracy.rmse(predictions)\n",
    "mae = accuracy.mae(predictions)"
   ]
  },
  {
   "cell_type": "code",
   "execution_count": 29,
   "metadata": {},
   "outputs": [],
   "source": [
    "# Example Usage: Recommend restaurants similar to a specific restaurant\n",
    "restaurant_name = \"Miku\" "
   ]
  },
  {
   "cell_type": "code",
   "execution_count": 32,
   "metadata": {},
   "outputs": [],
   "source": [
    "# Get the user-item matrix used for factorization\n",
    "trainset_full = vancouver_data.build_full_trainset()\n",
    "user_item_matrix = trainset_full.ur"
   ]
  },
  {
   "cell_type": "code",
   "execution_count": 33,
   "metadata": {},
   "outputs": [],
   "source": [
    "# Find the index of the input restaurant name in the pivot table\n",
    "restaurant_index = trainset_full.to_inner_iid(restaurant_name)"
   ]
  },
  {
   "cell_type": "code",
   "execution_count": 34,
   "metadata": {},
   "outputs": [],
   "source": [
    "# Get the latent factors for the input restaurant\n",
    "restaurant_factors = model.qi[restaurant_index]"
   ]
  },
  {
   "cell_type": "code",
   "execution_count": 35,
   "metadata": {},
   "outputs": [],
   "source": [
    "# Calculate similarity scores with other restaurants based on latent factors\n",
    "similarity_scores = np.dot(model.qi, restaurant_factors)"
   ]
  },
  {
   "cell_type": "code",
   "execution_count": 36,
   "metadata": {},
   "outputs": [],
   "source": [
    "# Sort the restaurants based on similarity scores in descending order\n",
    "similar_restaurant_indices = np.argsort(similarity_scores)[::-1]"
   ]
  },
  {
   "cell_type": "code",
   "execution_count": 37,
   "metadata": {},
   "outputs": [
    {
     "name": "stdout",
     "output_type": "stream",
     "text": [
      "Recommended Restaurants for Miku: ['Breakfast Table', 'Rib City- Vancouver', 'Eastland Sushi & Asian Cuisine', 'I Heart Gyro', 'Sushi Yama']\n"
     ]
    }
   ],
   "source": [
    "# Get top N recommended restaurants (excluding the input restaurant itself)\n",
    "top_n = 5\n",
    "recommended_restaurants = []\n",
    "for index in similar_restaurant_indices:\n",
    "    name = trainset_full.to_raw_iid(index)\n",
    "    if name != restaurant_name:\n",
    "        recommended_restaurants.append(name)\n",
    "        if len(recommended_restaurants) == top_n:\n",
    "            break\n",
    "\n",
    "print(\"Recommended Restaurants for {}: {}\".format(restaurant_name, recommended_restaurants))"
   ]
  },
  {
   "cell_type": "code",
   "execution_count": null,
   "metadata": {},
   "outputs": [],
   "source": []
  },
  {
   "cell_type": "code",
   "execution_count": null,
   "metadata": {},
   "outputs": [],
   "source": []
  },
  {
   "cell_type": "code",
   "execution_count": null,
   "metadata": {},
   "outputs": [],
   "source": []
  },
  {
   "cell_type": "code",
   "execution_count": null,
   "metadata": {},
   "outputs": [],
   "source": [
    "# Creating the User-Item Matrix\n",
    "def create_user_item_matrix(data):\n",
    "    # Pivot the data to create a matrix where rows are user IDs and columns are item IDs\n",
    "    user_item_matrix = data.pivot_table(index='user_id', columns='item_id', values='rating', fill_value=0)\n",
    "    return user_item_matrix\n",
    "\n",
    "# FunkSVD Algorithm for Matrix Factorization\n",
    "def FunkSVD(user_item_matrix, num_latent_features=50, learning_rate=0.005, regularization=0.02, epochs=50):\n",
    "    # Initialize user and item matrices with random values\n",
    "    num_users, num_items = user_item_matrix.shape\n",
    "    user_matrix = np.random.rand(num_users, num_latent_features)\n",
    "    item_matrix = np.random.rand(num_latent_features, num_items)\n",
    "\n",
    "    # Update matrices iteratively using stochastic gradient descent\n",
    "    for epoch in range(epochs):\n",
    "        for user_id in range(num_users):\n",
    "            for item_id in range(num_items):\n",
    "                if user_item_matrix[user_id, item_id] > 0:\n",
    "                    error = user_item_matrix[user_id, item_id] - np.dot(user_matrix[user_id, :], item_matrix[:, item_id])\n",
    "                    for k in range(num_latent_features):\n",
    "                        user_matrix[user_id, k] += learning_rate * (2 * error * item_matrix[k, item_id] - regularization * user_matrix[user_id, k])\n",
    "                        item_matrix[k, item_id] += learning_rate * (2 * error * user_matrix[user_id, k] - regularization * item_matrix[k, item_id])\n",
    "\n",
    "    return user_matrix, item_matrix\n",
    "\n",
    "# Reconstruct the Original User-Item Matrix from Factors\n",
    "def reconstruct_user_item_matrix(user_matrix, item_matrix):\n",
    "    # Reconstruct the user-item matrix from the learned factors\n",
    "    user_item_matrix_reconstructed = np.dot(user_matrix, item_matrix)\n",
    "    return user_item_matrix_reconstructed "
   ]
  },
  {
   "cell_type": "code",
   "execution_count": null,
   "metadata": {},
   "outputs": [],
   "source": [
    "# Example Usage:\n",
    "import numpy as np\n",
    "import pandas as pd\n",
    "\n",
    "# Assuming you have loaded the 'user_item_data' DataFrame with 'user_id', 'item_id', and 'rating' columns\n",
    "user_item_matrix = create_user_item_matrix(user_item_data)\n",
    "user_matrix, item_matrix = FunkSVD(user_item_matrix)\n",
    "\n",
    "# Reconstruct the user-item matrix from the learned factors\n",
    "user_item_matrix_reconstructed = reconstruct_user_item_matrix(user_matrix, item_matrix)\n",
    "\n",
    "# Compare the original and reconstructed user-item matrices (optional)\n",
    "print(\"Original User-Item Matrix:\")\n",
    "print(user_item_matrix)\n",
    "\n",
    "print(\"\\nReconstructed User-Item Matrix:\")\n",
    "print(user_item_matrix_reconstructed)\n"
   ]
  },
  {
   "cell_type": "code",
   "execution_count": null,
   "metadata": {},
   "outputs": [
    {
     "data": {
      "text/html": [
       "<div>\n",
       "<style scoped>\n",
       "    .dataframe tbody tr th:only-of-type {\n",
       "        vertical-align: middle;\n",
       "    }\n",
       "\n",
       "    .dataframe tbody tr th {\n",
       "        vertical-align: top;\n",
       "    }\n",
       "\n",
       "    .dataframe thead th {\n",
       "        text-align: right;\n",
       "    }\n",
       "</style>\n",
       "<table border=\"1\" class=\"dataframe\">\n",
       "  <thead>\n",
       "    <tr style=\"text-align: right;\">\n",
       "      <th>user_id</th>\n",
       "      <th>4</th>\n",
       "      <th>7</th>\n",
       "      <th>12</th>\n",
       "      <th>25</th>\n",
       "      <th>27</th>\n",
       "      <th>28</th>\n",
       "      <th>33</th>\n",
       "      <th>42</th>\n",
       "      <th>45</th>\n",
       "      <th>77</th>\n",
       "      <th>...</th>\n",
       "      <th>81092</th>\n",
       "      <th>81094</th>\n",
       "      <th>81098</th>\n",
       "      <th>81101</th>\n",
       "      <th>81102</th>\n",
       "      <th>81104</th>\n",
       "      <th>81111</th>\n",
       "      <th>81124</th>\n",
       "      <th>81127</th>\n",
       "      <th>81139</th>\n",
       "    </tr>\n",
       "    <tr>\n",
       "      <th>restaurant_name</th>\n",
       "      <th></th>\n",
       "      <th></th>\n",
       "      <th></th>\n",
       "      <th></th>\n",
       "      <th></th>\n",
       "      <th></th>\n",
       "      <th></th>\n",
       "      <th></th>\n",
       "      <th></th>\n",
       "      <th></th>\n",
       "      <th></th>\n",
       "      <th></th>\n",
       "      <th></th>\n",
       "      <th></th>\n",
       "      <th></th>\n",
       "      <th></th>\n",
       "      <th></th>\n",
       "      <th></th>\n",
       "      <th></th>\n",
       "      <th></th>\n",
       "      <th></th>\n",
       "    </tr>\n",
       "  </thead>\n",
       "  <tbody>\n",
       "    <tr>\n",
       "      <th>3G Vegetarian Restaurant</th>\n",
       "      <td>0</td>\n",
       "      <td>0</td>\n",
       "      <td>0</td>\n",
       "      <td>0</td>\n",
       "      <td>0</td>\n",
       "      <td>0</td>\n",
       "      <td>0</td>\n",
       "      <td>0</td>\n",
       "      <td>0</td>\n",
       "      <td>0</td>\n",
       "      <td>...</td>\n",
       "      <td>0</td>\n",
       "      <td>0</td>\n",
       "      <td>0</td>\n",
       "      <td>0</td>\n",
       "      <td>0</td>\n",
       "      <td>0</td>\n",
       "      <td>0</td>\n",
       "      <td>0</td>\n",
       "      <td>0</td>\n",
       "      <td>0</td>\n",
       "    </tr>\n",
       "    <tr>\n",
       "      <th>49th Parallel Coffee</th>\n",
       "      <td>0</td>\n",
       "      <td>0</td>\n",
       "      <td>5</td>\n",
       "      <td>0</td>\n",
       "      <td>0</td>\n",
       "      <td>0</td>\n",
       "      <td>0</td>\n",
       "      <td>0</td>\n",
       "      <td>0</td>\n",
       "      <td>0</td>\n",
       "      <td>...</td>\n",
       "      <td>0</td>\n",
       "      <td>0</td>\n",
       "      <td>0</td>\n",
       "      <td>0</td>\n",
       "      <td>0</td>\n",
       "      <td>0</td>\n",
       "      <td>0</td>\n",
       "      <td>0</td>\n",
       "      <td>0</td>\n",
       "      <td>0</td>\n",
       "    </tr>\n",
       "    <tr>\n",
       "      <th>6 Degrees Eatery</th>\n",
       "      <td>0</td>\n",
       "      <td>0</td>\n",
       "      <td>0</td>\n",
       "      <td>0</td>\n",
       "      <td>0</td>\n",
       "      <td>0</td>\n",
       "      <td>0</td>\n",
       "      <td>0</td>\n",
       "      <td>0</td>\n",
       "      <td>0</td>\n",
       "      <td>...</td>\n",
       "      <td>0</td>\n",
       "      <td>0</td>\n",
       "      <td>0</td>\n",
       "      <td>0</td>\n",
       "      <td>0</td>\n",
       "      <td>0</td>\n",
       "      <td>0</td>\n",
       "      <td>0</td>\n",
       "      <td>0</td>\n",
       "      <td>0</td>\n",
       "    </tr>\n",
       "    <tr>\n",
       "      <th>A La Mode</th>\n",
       "      <td>0</td>\n",
       "      <td>0</td>\n",
       "      <td>0</td>\n",
       "      <td>0</td>\n",
       "      <td>0</td>\n",
       "      <td>0</td>\n",
       "      <td>0</td>\n",
       "      <td>0</td>\n",
       "      <td>0</td>\n",
       "      <td>0</td>\n",
       "      <td>...</td>\n",
       "      <td>0</td>\n",
       "      <td>0</td>\n",
       "      <td>0</td>\n",
       "      <td>0</td>\n",
       "      <td>0</td>\n",
       "      <td>0</td>\n",
       "      <td>0</td>\n",
       "      <td>0</td>\n",
       "      <td>0</td>\n",
       "      <td>0</td>\n",
       "    </tr>\n",
       "    <tr>\n",
       "      <th>ARC Restaurant</th>\n",
       "      <td>0</td>\n",
       "      <td>0</td>\n",
       "      <td>0</td>\n",
       "      <td>0</td>\n",
       "      <td>0</td>\n",
       "      <td>0</td>\n",
       "      <td>0</td>\n",
       "      <td>0</td>\n",
       "      <td>0</td>\n",
       "      <td>0</td>\n",
       "      <td>...</td>\n",
       "      <td>0</td>\n",
       "      <td>0</td>\n",
       "      <td>0</td>\n",
       "      <td>0</td>\n",
       "      <td>0</td>\n",
       "      <td>0</td>\n",
       "      <td>0</td>\n",
       "      <td>0</td>\n",
       "      <td>0</td>\n",
       "      <td>0</td>\n",
       "    </tr>\n",
       "  </tbody>\n",
       "</table>\n",
       "<p>5 rows × 10667 columns</p>\n",
       "</div>"
      ],
      "text/plain": [
       "user_id                   4      7      12     25     27     28     33     \\\n",
       "restaurant_name                                                             \n",
       "3G Vegetarian Restaurant      0      0      0      0      0      0      0   \n",
       "49th Parallel Coffee          0      0      5      0      0      0      0   \n",
       "6 Degrees Eatery              0      0      0      0      0      0      0   \n",
       "A La Mode                     0      0      0      0      0      0      0   \n",
       "ARC Restaurant                0      0      0      0      0      0      0   \n",
       "\n",
       "user_id                   42     45     77     ...  81092  81094  81098  \\\n",
       "restaurant_name                                ...                        \n",
       "3G Vegetarian Restaurant      0      0      0  ...      0      0      0   \n",
       "49th Parallel Coffee          0      0      0  ...      0      0      0   \n",
       "6 Degrees Eatery              0      0      0  ...      0      0      0   \n",
       "A La Mode                     0      0      0  ...      0      0      0   \n",
       "ARC Restaurant                0      0      0  ...      0      0      0   \n",
       "\n",
       "user_id                   81101  81102  81104  81111  81124  81127  81139  \n",
       "restaurant_name                                                            \n",
       "3G Vegetarian Restaurant      0      0      0      0      0      0      0  \n",
       "49th Parallel Coffee          0      0      0      0      0      0      0  \n",
       "6 Degrees Eatery              0      0      0      0      0      0      0  \n",
       "A La Mode                     0      0      0      0      0      0      0  \n",
       "ARC Restaurant                0      0      0      0      0      0      0  \n",
       "\n",
       "[5 rows x 10667 columns]"
      ]
     },
     "metadata": {},
     "output_type": "display_data"
    }
   ],
   "source": [
    "# Creating the User-Item Matrix\n",
    "user_item_matrix = create_user_item_matrix(vancouver_data)\n",
    "\n",
    "user_item_matrix.head()"
   ]
  },
  {
   "cell_type": "code",
   "execution_count": null,
   "metadata": {},
   "outputs": [
    {
     "data": {
      "text/plain": [
       "(969, 969)"
      ]
     },
     "metadata": {},
     "output_type": "display_data"
    }
   ],
   "source": [
    "# Calculate Similarity Scores\n",
    "similarity_scores = calculate_similarity_scores(user_item_matrix)\n",
    "\n",
    "similarity_scores.shape"
   ]
  },
  {
   "cell_type": "code",
   "execution_count": null,
   "metadata": {},
   "outputs": [],
   "source": []
  },
  {
   "cell_type": "code",
   "execution_count": null,
   "metadata": {},
   "outputs": [],
   "source": []
  },
  {
   "cell_type": "code",
   "execution_count": null,
   "metadata": {},
   "outputs": [],
   "source": []
  },
  {
   "cell_type": "code",
   "execution_count": null,
   "metadata": {},
   "outputs": [],
   "source": []
  },
  {
   "cell_type": "code",
   "execution_count": null,
   "metadata": {},
   "outputs": [],
   "source": [
    "# Set the reader with accurate rating scale\n",
    "my_reader = Reader(rating_scale=(1, 10))"
   ]
  },
  {
   "cell_type": "code",
   "execution_count": 52,
   "metadata": {},
   "outputs": [
    {
     "name": "stdout",
     "output_type": "stream",
     "text": [
      "RMSE: 0.9251\n",
      "Root Mean Squared Error (RMSE) of SVD: 0.9251\n"
     ]
    }
   ],
   "source": [
    "import pandas as pd\n",
    "from surprise import Dataset, Reader, SVD\n",
    "from surprise.model_selection import train_test_split\n",
    "from surprise import accuracy\n",
    "\n",
    "# Assuming you have loaded the 'vancouver_data' DataFrame\n",
    "# Create a reader object to specify the rating scale (from 0 to 5 in this case)\n",
    "reader = Reader(rating_scale=(0, 5))\n",
    "\n",
    "# Load the data into Surprise's Dataset format\n",
    "data = Dataset.load_from_df(vancouver_data[['user_id', 'restaurant_name', 'rating']], reader)\n",
    "\n",
    "# Split the data into train and test sets\n",
    "trainset, testset = train_test_split(data, test_size=0.2, random_state=42)\n",
    "\n",
    "# Initialize the SVD algorithm\n",
    "# You can tune the number of latent factors (n_factors) here\n",
    "svd = SVD(n_factors=10, random_state=42)\n",
    "\n",
    "# Fit the model on the trainset\n",
    "svd.fit(trainset)\n",
    "\n",
    "# Make predictions on the testset\n",
    "predictions = svd.test(testset)\n",
    "\n",
    "# Evaluate the model using Root Mean Squared Error (RMSE)\n",
    "rmse = accuracy.rmse(predictions)\n",
    "print(\"Root Mean Squared Error (RMSE) of SVD: {:.4f}\".format(rmse))\n"
   ]
  },
  {
   "cell_type": "code",
   "execution_count": null,
   "metadata": {},
   "outputs": [],
   "source": []
  },
  {
   "cell_type": "code",
   "execution_count": null,
   "metadata": {},
   "outputs": [],
   "source": []
  },
  {
   "cell_type": "code",
   "execution_count": null,
   "metadata": {},
   "outputs": [],
   "source": []
  },
  {
   "cell_type": "code",
   "execution_count": null,
   "metadata": {},
   "outputs": [],
   "source": []
  }
 ],
 "metadata": {
  "kernelspec": {
   "display_name": "Python 3",
   "language": "python",
   "name": "python3"
  },
  "language_info": {
   "codemirror_mode": {
    "name": "ipython",
    "version": 3
   },
   "file_extension": ".py",
   "mimetype": "text/x-python",
   "name": "python",
   "nbconvert_exporter": "python",
   "pygments_lexer": "ipython3",
   "version": "3.8.17"
  },
  "orig_nbformat": 4
 },
 "nbformat": 4,
 "nbformat_minor": 2
}
